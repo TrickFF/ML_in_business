{
 "cells": [
  {
   "cell_type": "code",
   "execution_count": 1,
   "metadata": {},
   "outputs": [],
   "source": [
    "import pandas as pd"
   ]
  },
  {
   "cell_type": "markdown",
   "metadata": {},
   "source": [
    "Наши новости"
   ]
  },
  {
   "cell_type": "code",
   "execution_count": 2,
   "metadata": {},
   "outputs": [
    {
     "name": "stdout",
     "output_type": "stream",
     "text": [
      "(27000, 2)\n"
     ]
    },
    {
     "data": {
      "text/html": [
       "<div>\n",
       "<style scoped>\n",
       "    .dataframe tbody tr th:only-of-type {\n",
       "        vertical-align: middle;\n",
       "    }\n",
       "\n",
       "    .dataframe tbody tr th {\n",
       "        vertical-align: top;\n",
       "    }\n",
       "\n",
       "    .dataframe thead th {\n",
       "        text-align: right;\n",
       "    }\n",
       "</style>\n",
       "<table border=\"1\" class=\"dataframe\">\n",
       "  <thead>\n",
       "    <tr style=\"text-align: right;\">\n",
       "      <th></th>\n",
       "      <th>doc_id</th>\n",
       "      <th>title</th>\n",
       "    </tr>\n",
       "  </thead>\n",
       "  <tbody>\n",
       "    <tr>\n",
       "      <th>0</th>\n",
       "      <td>6</td>\n",
       "      <td>Заместитель председателяnправительства РФnСерг...</td>\n",
       "    </tr>\n",
       "    <tr>\n",
       "      <th>1</th>\n",
       "      <td>4896</td>\n",
       "      <td>Матч 1/16 финала Кубка России по футболу был п...</td>\n",
       "    </tr>\n",
       "    <tr>\n",
       "      <th>2</th>\n",
       "      <td>4897</td>\n",
       "      <td>Форвард «Авангарда» Томаш Заборский прокоммент...</td>\n",
       "    </tr>\n",
       "  </tbody>\n",
       "</table>\n",
       "</div>"
      ],
      "text/plain": [
       "   doc_id                                              title\n",
       "0       6  Заместитель председателяnправительства РФnСерг...\n",
       "1    4896  Матч 1/16 финала Кубка России по футболу был п...\n",
       "2    4897  Форвард «Авангарда» Томаш Заборский прокоммент..."
      ]
     },
     "execution_count": 2,
     "metadata": {},
     "output_type": "execute_result"
    }
   ],
   "source": [
    "news = pd.read_csv(\"articles.csv\")\n",
    "print(news.shape)\n",
    "news.head(3)"
   ]
  },
  {
   "cell_type": "code",
   "execution_count": 7,
   "metadata": {},
   "outputs": [],
   "source": [
    "news.to_csv(\"articles2.csv\", encoding='utf-8', index=False)"
   ]
  },
  {
   "cell_type": "markdown",
   "metadata": {},
   "source": [
    "Загрузим пользователей и списки последних прочитанных новостей"
   ]
  },
  {
   "cell_type": "code",
   "execution_count": 3,
   "metadata": {},
   "outputs": [
    {
     "data": {
      "text/html": [
       "<div>\n",
       "<style scoped>\n",
       "    .dataframe tbody tr th:only-of-type {\n",
       "        vertical-align: middle;\n",
       "    }\n",
       "\n",
       "    .dataframe tbody tr th {\n",
       "        vertical-align: top;\n",
       "    }\n",
       "\n",
       "    .dataframe thead th {\n",
       "        text-align: right;\n",
       "    }\n",
       "</style>\n",
       "<table border=\"1\" class=\"dataframe\">\n",
       "  <thead>\n",
       "    <tr style=\"text-align: right;\">\n",
       "      <th></th>\n",
       "      <th>uid</th>\n",
       "      <th>articles</th>\n",
       "    </tr>\n",
       "  </thead>\n",
       "  <tbody>\n",
       "    <tr>\n",
       "      <th>0</th>\n",
       "      <td>u105138</td>\n",
       "      <td>[293672, 293328, 293001, 293622, 293126, 1852]</td>\n",
       "    </tr>\n",
       "    <tr>\n",
       "      <th>1</th>\n",
       "      <td>u108690</td>\n",
       "      <td>[3405, 1739, 2972, 1158, 1599, 322665]</td>\n",
       "    </tr>\n",
       "    <tr>\n",
       "      <th>2</th>\n",
       "      <td>u108339</td>\n",
       "      <td>[1845, 2009, 2356, 1424, 2939, 323389]</td>\n",
       "    </tr>\n",
       "  </tbody>\n",
       "</table>\n",
       "</div>"
      ],
      "text/plain": [
       "       uid                                        articles\n",
       "0  u105138  [293672, 293328, 293001, 293622, 293126, 1852]\n",
       "1  u108690          [3405, 1739, 2972, 1158, 1599, 322665]\n",
       "2  u108339          [1845, 2009, 2356, 1424, 2939, 323389]"
      ]
     },
     "execution_count": 3,
     "metadata": {},
     "output_type": "execute_result"
    }
   ],
   "source": [
    "users = pd.read_csv(\"users_articles.csv\")\n",
    "users.head(3)"
   ]
  },
  {
   "cell_type": "markdown",
   "metadata": {},
   "source": [
    "Итак, нам нужно получить векторные представления пользователей на основе прочитанным ими новостей и самих новостей"
   ]
  },
  {
   "cell_type": "markdown",
   "metadata": {},
   "source": [
    "### 1. Получаем векторные представления новостей"
   ]
  },
  {
   "cell_type": "code",
   "execution_count": 6,
   "metadata": {},
   "outputs": [],
   "source": [
    "#from gensim.test.utils import common_texts\n",
    "from gensim.corpora.dictionary import Dictionary"
   ]
  },
  {
   "cell_type": "code",
   "execution_count": 15,
   "metadata": {},
   "outputs": [],
   "source": [
    "#предобработка текстов\n",
    "import re\n",
    "import numpy as np\n",
    "from nltk.corpus import stopwords\n",
    "#from nltk.tokenize import word_tokenize\n",
    "\n",
    "from razdel import tokenize # https://github.com/natasha/razdel\n",
    "#!pip install razdel\n",
    "\n",
    "import pymorphy2  # pip install pymorphy2"
   ]
  },
  {
   "cell_type": "code",
   "execution_count": 17,
   "metadata": {},
   "outputs": [],
   "source": [
    "stopword_ru = stopwords.words('russian')\n",
    "len(stopword_ru)\n",
    "\n",
    "morph = pymorphy2.MorphAnalyzer()"
   ]
  },
  {
   "cell_type": "code",
   "execution_count": 18,
   "metadata": {},
   "outputs": [
    {
     "data": {
      "text/plain": [
       "776"
      ]
     },
     "execution_count": 18,
     "metadata": {},
     "output_type": "execute_result"
    }
   ],
   "source": [
    "with open('stopwords.txt') as f:\n",
    "    additional_stopwords = [w.strip() for w in f.readlines() if w]\n",
    "stopword_ru += additional_stopwords\n",
    "len(stopword_ru)"
   ]
  },
  {
   "cell_type": "code",
   "execution_count": 19,
   "metadata": {},
   "outputs": [],
   "source": [
    "def clean_text(text):\n",
    "    '''\n",
    "    очистка текста\n",
    "    \n",
    "    на выходе очищеный текст\n",
    "    \n",
    "    '''\n",
    "    if not isinstance(text, str):\n",
    "        text = str(text)\n",
    "    \n",
    "    text = text.lower()\n",
    "    text = text.strip('\\n').strip('\\r').strip('\\t')\n",
    "    text = re.sub(\"-\\s\\r\\n\\|-\\s\\r\\n|\\r\\n\", '', str(text))\n",
    "\n",
    "    text = re.sub(\"[0-9]|[-—.,:;_%©«»?*!@#№$^•·&()]|[+=]|[[]|[]]|[/]|\", '', text)\n",
    "    text = re.sub(r\"\\r\\n\\t|\\n|\\\\s|\\r\\t|\\\\n\", ' ', text)\n",
    "    text = re.sub(r'[\\xad]|[\\s+]', ' ', text.strip())\n",
    "    \n",
    "    #tokens = list(tokenize(text))\n",
    "    #words = [_.text for _ in tokens]\n",
    "    #words = [w for w in words if w not in stopword_ru]\n",
    "    \n",
    "    #return \" \".join(words)\n",
    "    return text\n",
    "\n",
    "cache = {}\n",
    "\n",
    "def lemmatization(text):\n",
    "    '''\n",
    "    лемматизация\n",
    "        [0] если зашел тип не `str` делаем его `str`\n",
    "        [1] токенизация предложения через razdel\n",
    "        [2] проверка есть ли в начале слова '-'\n",
    "        [3] проверка токена с одного символа\n",
    "        [4] проверка есть ли данное слово в кэше\n",
    "        [5] лемматизация слова\n",
    "        [6] проверка на стоп-слова\n",
    "\n",
    "    на выходе лист отлемматизированых токенов\n",
    "    '''\n",
    "\n",
    "    # [0]\n",
    "    if not isinstance(text, str):\n",
    "        text = str(text)\n",
    "    \n",
    "    # [1]\n",
    "    tokens = list(tokenize(text))\n",
    "    words = [_.text for _ in tokens]\n",
    "\n",
    "    words_lem = []\n",
    "    for w in words:\n",
    "        if w[0] == '-': # [2]\n",
    "            w = w[1:]\n",
    "        if len(w)>1: # [3]\n",
    "            if w in cache: # [4]\n",
    "                words_lem.append(cache[w])\n",
    "            else: # [5]\n",
    "                temp_cach = cache[w] = morph.parse(w)[0].normal_form\n",
    "                words_lem.append(temp_cach)\n",
    "    \n",
    "    words_lem_without_stopwords=[i for i in words_lem if not i in stopword_ru] # [6]\n",
    "    \n",
    "    return words_lem_without_stopwords"
   ]
  },
  {
   "cell_type": "code",
   "execution_count": 20,
   "metadata": {
    "scrolled": false
   },
   "outputs": [
    {
     "name": "stderr",
     "output_type": "stream",
     "text": [
      "C:\\Users\\ENERGI~1\\AppData\\Local\\Temp/ipykernel_14724/3066725202.py:15: FutureWarning: Possible nested set at position 39\n",
      "  text = re.sub(\"[0-9]|[-—.,:;_%©«»?*!@#№$^•·&()]|[+=]|[[]|[]]|[/]|\", '', text)\n"
     ]
    },
    {
     "name": "stdout",
     "output_type": "stream",
     "text": [
      "Wall time: 34.2 s\n"
     ]
    }
   ],
   "source": [
    "%%time\n",
    "#Запускаем очистку текста. Будет долго...\n",
    "news['title'] = news['title'].apply(lambda x: clean_text(x), 1)"
   ]
  },
  {
   "cell_type": "code",
   "execution_count": 21,
   "metadata": {},
   "outputs": [
    {
     "name": "stdout",
     "output_type": "stream",
     "text": [
      "Wall time: 4min 57s\n"
     ]
    }
   ],
   "source": [
    "%%time\n",
    "#Запускаем лемматизацию текста. Будет очень долго...\n",
    "news['title'] = news['title'].apply(lambda x: lemmatization(x), 1)"
   ]
  },
  {
   "cell_type": "markdown",
   "metadata": {},
   "source": [
    "А теперь в 3 строчки обучим нашу модель"
   ]
  },
  {
   "cell_type": "code",
   "execution_count": 22,
   "metadata": {},
   "outputs": [
    {
     "data": {
      "text/plain": [
       "0        [заместитель, председатель, правительство, рф,...\n",
       "1        [матч, финал, кубок, россия, футбол, приостано...\n",
       "2        [форвард, авангард, томаш, заборский, прокомме...\n",
       "3        [главный, тренер, кубань, юрий, красножанин, п...\n",
       "4        [решение, попечительский, совет, владивостокск...\n",
       "                               ...                        \n",
       "26995    [учёный, токийский, университет, морской, наук...\n",
       "26996    [глава, кафедра, отечественный, история, xx, в...\n",
       "26997    [американский, учёный, уточнить, возраст, расп...\n",
       "26998    [последний, год, тропический, углеродный, цикл...\n",
       "26999    [жить, примерно, тыс, год, назад, территория, ...\n",
       "Name: title, Length: 27000, dtype: object"
      ]
     },
     "execution_count": 22,
     "metadata": {},
     "output_type": "execute_result"
    }
   ],
   "source": [
    "news['title']"
   ]
  },
  {
   "cell_type": "code",
   "execution_count": 23,
   "metadata": {},
   "outputs": [],
   "source": [
    "#сформируем список наших текстов, разбив еще и на пробелы\n",
    "texts = [t for t in news['title'].values]\n",
    "\n",
    "# Create a corpus from a list of texts\n",
    "common_dictionary = Dictionary(texts)\n",
    "common_corpus = [common_dictionary.doc2bow(text) for text in texts]"
   ]
  },
  {
   "cell_type": "markdown",
   "metadata": {},
   "source": [
    "Что такое common_dictionary и как он выглядит"
   ]
  },
  {
   "cell_type": "code",
   "execution_count": 36,
   "metadata": {},
   "outputs": [
    {
     "data": {
      "text/plain": [
       "(141244, 'ватутин')"
      ]
     },
     "execution_count": 36,
     "metadata": {},
     "output_type": "execute_result"
    }
   ],
   "source": [
    "len(common_dictionary), common_dictionary[10]"
   ]
  },
  {
   "cell_type": "code",
   "execution_count": 39,
   "metadata": {},
   "outputs": [
    {
     "data": {
      "text/plain": [
       "(27000,\n",
       " [[(0, 5),\n",
       "   (1, 2),\n",
       "   (2, 1),\n",
       "   (3, 2),\n",
       "   (4, 1),\n",
       "   (5, 1),\n",
       "   (6, 1),\n",
       "   (7, 1),\n",
       "   (8, 1),\n",
       "   (9, 1),\n",
       "   (10, 1),\n",
       "   (11, 1),\n",
       "   (12, 1),\n",
       "   (13, 1),\n",
       "   (14, 1),\n",
       "   (15, 1),\n",
       "   (16, 4),\n",
       "   (17, 1),\n",
       "   (18, 1),\n",
       "   (19, 4),\n",
       "   (20, 1),\n",
       "   (21, 1),\n",
       "   (22, 3),\n",
       "   (23, 1),\n",
       "   (24, 1),\n",
       "   (25, 1),\n",
       "   (26, 1),\n",
       "   (27, 1),\n",
       "   (28, 1),\n",
       "   (29, 2),\n",
       "   (30, 1),\n",
       "   (31, 1),\n",
       "   (32, 1),\n",
       "   (33, 1),\n",
       "   (34, 1),\n",
       "   (35, 1),\n",
       "   (36, 1),\n",
       "   (37, 1),\n",
       "   (38, 1),\n",
       "   (39, 1),\n",
       "   (40, 1),\n",
       "   (41, 1),\n",
       "   (42, 1),\n",
       "   (43, 1),\n",
       "   (44, 1),\n",
       "   (45, 2),\n",
       "   (46, 1),\n",
       "   (47, 2),\n",
       "   (48, 1),\n",
       "   (49, 1),\n",
       "   (50, 1),\n",
       "   (51, 1),\n",
       "   (52, 1),\n",
       "   (53, 1),\n",
       "   (54, 1),\n",
       "   (55, 1),\n",
       "   (56, 1),\n",
       "   (57, 1),\n",
       "   (58, 3),\n",
       "   (59, 1),\n",
       "   (60, 2),\n",
       "   (61, 1),\n",
       "   (62, 1),\n",
       "   (63, 1),\n",
       "   (64, 1),\n",
       "   (65, 1),\n",
       "   (66, 1),\n",
       "   (67, 1),\n",
       "   (68, 1),\n",
       "   (69, 3),\n",
       "   (70, 1),\n",
       "   (71, 1),\n",
       "   (72, 1),\n",
       "   (73, 3),\n",
       "   (74, 1),\n",
       "   (75, 1),\n",
       "   (76, 1),\n",
       "   (77, 1),\n",
       "   (78, 1),\n",
       "   (79, 1),\n",
       "   (80, 1),\n",
       "   (81, 1),\n",
       "   (82, 1),\n",
       "   (83, 1),\n",
       "   (84, 1),\n",
       "   (85, 1),\n",
       "   (86, 1),\n",
       "   (87, 1),\n",
       "   (88, 1),\n",
       "   (89, 1),\n",
       "   (90, 1),\n",
       "   (91, 1),\n",
       "   (92, 3),\n",
       "   (93, 2),\n",
       "   (94, 1),\n",
       "   (95, 1)],\n",
       "  [(95, 1),\n",
       "   (96, 2),\n",
       "   (97, 1),\n",
       "   (98, 1),\n",
       "   (99, 1),\n",
       "   (100, 1),\n",
       "   (101, 2),\n",
       "   (102, 1),\n",
       "   (103, 1),\n",
       "   (104, 1),\n",
       "   (105, 1),\n",
       "   (106, 1),\n",
       "   (107, 1),\n",
       "   (108, 3),\n",
       "   (109, 1),\n",
       "   (110, 1),\n",
       "   (111, 1),\n",
       "   (112, 1),\n",
       "   (113, 1),\n",
       "   (114, 1),\n",
       "   (115, 1),\n",
       "   (116, 1),\n",
       "   (117, 3),\n",
       "   (118, 1),\n",
       "   (119, 1),\n",
       "   (120, 1),\n",
       "   (121, 1),\n",
       "   (122, 1),\n",
       "   (123, 1),\n",
       "   (124, 2),\n",
       "   (125, 1),\n",
       "   (126, 1),\n",
       "   (127, 1),\n",
       "   (128, 1),\n",
       "   (129, 1)]])"
      ]
     },
     "execution_count": 39,
     "metadata": {},
     "output_type": "execute_result"
    }
   ],
   "source": [
    "len(common_corpus), common_corpus[:2]"
   ]
  },
  {
   "cell_type": "markdown",
   "metadata": {},
   "source": [
    "Все просто - это словарь наших слов"
   ]
  },
  {
   "cell_type": "markdown",
   "metadata": {},
   "source": [
    "Запускаем обучение"
   ]
  },
  {
   "cell_type": "code",
   "execution_count": 40,
   "metadata": {},
   "outputs": [],
   "source": [
    "from gensim.models import LdaModel"
   ]
  },
  {
   "cell_type": "code",
   "execution_count": 41,
   "metadata": {},
   "outputs": [
    {
     "name": "stdout",
     "output_type": "stream",
     "text": [
      "Wall time: 1min 4s\n"
     ]
    }
   ],
   "source": [
    "%%time\n",
    "from gensim.models import LdaModel\n",
    "# Train the model on the corpus.\n",
    "lda = LdaModel(common_corpus, num_topics=25, id2word=common_dictionary)#, passes=10)"
   ]
  },
  {
   "cell_type": "code",
   "execution_count": 42,
   "metadata": {},
   "outputs": [],
   "source": [
    "from gensim.test.utils import datapath\n",
    "# Save model to disk.\n",
    "temp_file = datapath(\"model.lda\")\n",
    "lda.save(temp_file)\n",
    "\n",
    "# Load a potentially pretrained model from disk.\n",
    "lda = LdaModel.load(temp_file)"
   ]
  },
  {
   "cell_type": "markdown",
   "metadata": {},
   "source": [
    "Обучили модель. Теперь 2 вопроса:\n",
    "\n",
    "1. как выглядят наши темы\n",
    "2. как получить для документа вектор значений (вероятности принадлежности каждой теме)"
   ]
  },
  {
   "cell_type": "code",
   "execution_count": 43,
   "metadata": {},
   "outputs": [
    {
     "name": "stdout",
     "output_type": "stream",
     "text": [
      "['форвард', 'авангард', 'томаш', 'заборский', 'прокомментировать', 'игра', 'свой', 'команда', 'матч', 'чемпионат', 'кхл', 'против', 'атланта', 'nnnn', 'провести', 'плохой', 'матч', 'нижний', 'новгород', 'против', 'торпедо', 'настраиваться', 'первый', 'минута', 'включиться', 'работа', 'сказать', 'заборский', 'получиться', 'забросить', 'быстрый', 'гол', 'задать', 'хороший', 'темп', 'поединок', 'мочь', 'играть', 'ещё', 'хороший', 'сторона', 'пять', 'очко', 'выезд', 'девять', 'это', 'хороший']\n"
     ]
    },
    {
     "data": {
      "text/plain": [
       "[(0, 0.086977996),\n",
       " (11, 0.058448862),\n",
       " (13, 0.1289699),\n",
       " (14, 0.031826425),\n",
       " (18, 0.31654292),\n",
       " (23, 0.15140949),\n",
       " (24, 0.2096981)]"
      ]
     },
     "execution_count": 43,
     "metadata": {},
     "output_type": "execute_result"
    }
   ],
   "source": [
    "# Create a new corpus, made of previously unseen documents.\n",
    "other_texts = [t for t in news['title'].iloc[:3]]\n",
    "other_corpus = [common_dictionary.doc2bow(text) for text in other_texts]\n",
    "\n",
    "unseen_doc = other_corpus[2]\n",
    "print(other_texts[2])\n",
    "lda[unseen_doc] "
   ]
  },
  {
   "cell_type": "code",
   "execution_count": 44,
   "metadata": {},
   "outputs": [
    {
     "name": "stdout",
     "output_type": "stream",
     "text": [
      "topic_0: год газ стать nn первый это который\n",
      "topic_1: фонд млн авария автомобиль кость образоваться составить\n",
      "topic_2: это россия nn российский который мочь страна\n",
      "topic_3: квартира налог налоговый ндс платёжный льгота лесной\n",
      "topic_4: который земля человек nn это автор остров\n",
      "topic_5: это nn который производитель памятник спрос культура\n",
      "topic_6: это рост год страна россия научный который\n",
      "topic_7: человек погибнуть тело произойти пострадать полиция результат\n",
      "topic_8: ребёнок женщина человек это мочь мужчина который\n",
      "topic_9: взрыв иск экипаж мышь выдать аэропорт следствие\n",
      "topic_10: год это который рубль млрд человек также\n",
      "topic_11: ракета год военный который это закон законопроект\n",
      "topic_12: поверхность это космос общество запуск подчёркивать человеческий\n",
      "topic_13: это который мочь пенсия год результат операция\n",
      "topic_14: вицепремьер железный лауреат задать звание снять поспособствовать\n",
      "topic_15: рак доля дыра это сообщество реакция финансы\n",
      "topic_16: украина гражданин миссия nn ссср школа это\n",
      "topic_17: северный станция южный маршрут рекомендовать корея км\n",
      "topic_18: год это исследование мочь который свой мозг\n",
      "topic_19: сша военный россия район воздух американский земля\n",
      "topic_20: статья чёрный суд ст штат нарушение снять\n",
      "topic_21: совет депутат глава президент заседание министр председатель\n",
      "topic_22: который год компания это новый также журнал\n",
      "topic_23: проект эксперт строительство год участок торговый разработка\n",
      "topic_24: сократиться тур золото развиться иракский калининградский городской\n"
     ]
    }
   ],
   "source": [
    "x=lda.show_topics(num_topics=25, num_words=7,formatted=False)\n",
    "topics_words = [(tp[0], [wd[0] for wd in tp[1]]) for tp in x]\n",
    "\n",
    "#Below Code Prints Only Words \n",
    "for topic,words in topics_words:\n",
    "    print(\"topic_{}: \".format(topic)+\" \".join(words))"
   ]
  },
  {
   "cell_type": "markdown",
   "metadata": {},
   "source": [
    "Очень неплохо - большинство тем вполне можно описать о чем они"
   ]
  },
  {
   "cell_type": "markdown",
   "metadata": {},
   "source": [
    "Давайте напишем функцию, которая будет нам возвращать векторное представление новости"
   ]
  },
  {
   "cell_type": "code",
   "execution_count": 551,
   "metadata": {},
   "outputs": [],
   "source": [
    "#text = news['title'].iloc[0]\n",
    "\n",
    "def get_lda_vector(text):\n",
    "    unseen_doc = common_dictionary.doc2bow(text)\n",
    "    lda_tuple = lda[unseen_doc]\n",
    "    not_null_topics = dict(zip([i[0] for i in lda_tuple], [i[1] for i in lda_tuple]))\n",
    "\n",
    "    output_vector = []\n",
    "    for i in range(25):\n",
    "        if i not in not_null_topics:\n",
    "            output_vector.append(0)\n",
    "        else:\n",
    "            output_vector.append(not_null_topics[i])\n",
    "    return np.array(output_vector)"
   ]
  },
  {
   "cell_type": "code",
   "execution_count": 552,
   "metadata": {},
   "outputs": [
    {
     "data": {
      "text/html": [
       "<div>\n",
       "<style scoped>\n",
       "    .dataframe tbody tr th:only-of-type {\n",
       "        vertical-align: middle;\n",
       "    }\n",
       "\n",
       "    .dataframe tbody tr th {\n",
       "        vertical-align: top;\n",
       "    }\n",
       "\n",
       "    .dataframe thead th {\n",
       "        text-align: right;\n",
       "    }\n",
       "</style>\n",
       "<table border=\"1\" class=\"dataframe\">\n",
       "  <thead>\n",
       "    <tr style=\"text-align: right;\">\n",
       "      <th></th>\n",
       "      <th>doc_id</th>\n",
       "      <th>topic_0</th>\n",
       "      <th>topic_1</th>\n",
       "      <th>topic_2</th>\n",
       "      <th>topic_3</th>\n",
       "      <th>topic_4</th>\n",
       "      <th>topic_5</th>\n",
       "      <th>topic_6</th>\n",
       "      <th>topic_7</th>\n",
       "      <th>topic_8</th>\n",
       "      <th>...</th>\n",
       "      <th>topic_15</th>\n",
       "      <th>topic_16</th>\n",
       "      <th>topic_17</th>\n",
       "      <th>topic_18</th>\n",
       "      <th>topic_19</th>\n",
       "      <th>topic_20</th>\n",
       "      <th>topic_21</th>\n",
       "      <th>topic_22</th>\n",
       "      <th>topic_23</th>\n",
       "      <th>topic_24</th>\n",
       "    </tr>\n",
       "  </thead>\n",
       "  <tbody>\n",
       "    <tr>\n",
       "      <th>0</th>\n",
       "      <td>6</td>\n",
       "      <td>0.000000</td>\n",
       "      <td>0.0</td>\n",
       "      <td>0.000000</td>\n",
       "      <td>0.0</td>\n",
       "      <td>0.043265</td>\n",
       "      <td>0.0</td>\n",
       "      <td>0.0</td>\n",
       "      <td>0.0</td>\n",
       "      <td>0.0</td>\n",
       "      <td>...</td>\n",
       "      <td>0.0</td>\n",
       "      <td>0.0</td>\n",
       "      <td>0.0</td>\n",
       "      <td>0.000000</td>\n",
       "      <td>0.0</td>\n",
       "      <td>0.0</td>\n",
       "      <td>0.450073</td>\n",
       "      <td>0.034492</td>\n",
       "      <td>0.052225</td>\n",
       "      <td>0.000000</td>\n",
       "    </tr>\n",
       "    <tr>\n",
       "      <th>1</th>\n",
       "      <td>4896</td>\n",
       "      <td>0.000000</td>\n",
       "      <td>0.0</td>\n",
       "      <td>0.000000</td>\n",
       "      <td>0.0</td>\n",
       "      <td>0.000000</td>\n",
       "      <td>0.0</td>\n",
       "      <td>0.0</td>\n",
       "      <td>0.0</td>\n",
       "      <td>0.0</td>\n",
       "      <td>...</td>\n",
       "      <td>0.0</td>\n",
       "      <td>0.0</td>\n",
       "      <td>0.0</td>\n",
       "      <td>0.000000</td>\n",
       "      <td>0.0</td>\n",
       "      <td>0.0</td>\n",
       "      <td>0.000000</td>\n",
       "      <td>0.257371</td>\n",
       "      <td>0.000000</td>\n",
       "      <td>0.283978</td>\n",
       "    </tr>\n",
       "    <tr>\n",
       "      <th>2</th>\n",
       "      <td>4897</td>\n",
       "      <td>0.087111</td>\n",
       "      <td>0.0</td>\n",
       "      <td>0.000000</td>\n",
       "      <td>0.0</td>\n",
       "      <td>0.000000</td>\n",
       "      <td>0.0</td>\n",
       "      <td>0.0</td>\n",
       "      <td>0.0</td>\n",
       "      <td>0.0</td>\n",
       "      <td>...</td>\n",
       "      <td>0.0</td>\n",
       "      <td>0.0</td>\n",
       "      <td>0.0</td>\n",
       "      <td>0.316535</td>\n",
       "      <td>0.0</td>\n",
       "      <td>0.0</td>\n",
       "      <td>0.000000</td>\n",
       "      <td>0.000000</td>\n",
       "      <td>0.151310</td>\n",
       "      <td>0.209686</td>\n",
       "    </tr>\n",
       "    <tr>\n",
       "      <th>3</th>\n",
       "      <td>4898</td>\n",
       "      <td>0.000000</td>\n",
       "      <td>0.0</td>\n",
       "      <td>0.000000</td>\n",
       "      <td>0.0</td>\n",
       "      <td>0.049591</td>\n",
       "      <td>0.0</td>\n",
       "      <td>0.0</td>\n",
       "      <td>0.0</td>\n",
       "      <td>0.0</td>\n",
       "      <td>...</td>\n",
       "      <td>0.0</td>\n",
       "      <td>0.0</td>\n",
       "      <td>0.0</td>\n",
       "      <td>0.154677</td>\n",
       "      <td>0.0</td>\n",
       "      <td>0.0</td>\n",
       "      <td>0.000000</td>\n",
       "      <td>0.039122</td>\n",
       "      <td>0.000000</td>\n",
       "      <td>0.082137</td>\n",
       "    </tr>\n",
       "    <tr>\n",
       "      <th>4</th>\n",
       "      <td>4899</td>\n",
       "      <td>0.000000</td>\n",
       "      <td>0.0</td>\n",
       "      <td>0.344411</td>\n",
       "      <td>0.0</td>\n",
       "      <td>0.000000</td>\n",
       "      <td>0.0</td>\n",
       "      <td>0.0</td>\n",
       "      <td>0.0</td>\n",
       "      <td>0.0</td>\n",
       "      <td>...</td>\n",
       "      <td>0.0</td>\n",
       "      <td>0.0</td>\n",
       "      <td>0.0</td>\n",
       "      <td>0.000000</td>\n",
       "      <td>0.0</td>\n",
       "      <td>0.0</td>\n",
       "      <td>0.507339</td>\n",
       "      <td>0.000000</td>\n",
       "      <td>0.000000</td>\n",
       "      <td>0.123079</td>\n",
       "    </tr>\n",
       "  </tbody>\n",
       "</table>\n",
       "<p>5 rows × 26 columns</p>\n",
       "</div>"
      ],
      "text/plain": [
       "   doc_id   topic_0  topic_1   topic_2  topic_3   topic_4  topic_5  topic_6  \\\n",
       "0       6  0.000000      0.0  0.000000      0.0  0.043265      0.0      0.0   \n",
       "1    4896  0.000000      0.0  0.000000      0.0  0.000000      0.0      0.0   \n",
       "2    4897  0.087111      0.0  0.000000      0.0  0.000000      0.0      0.0   \n",
       "3    4898  0.000000      0.0  0.000000      0.0  0.049591      0.0      0.0   \n",
       "4    4899  0.000000      0.0  0.344411      0.0  0.000000      0.0      0.0   \n",
       "\n",
       "   topic_7  topic_8  ...  topic_15  topic_16  topic_17  topic_18  topic_19  \\\n",
       "0      0.0      0.0  ...       0.0       0.0       0.0  0.000000       0.0   \n",
       "1      0.0      0.0  ...       0.0       0.0       0.0  0.000000       0.0   \n",
       "2      0.0      0.0  ...       0.0       0.0       0.0  0.316535       0.0   \n",
       "3      0.0      0.0  ...       0.0       0.0       0.0  0.154677       0.0   \n",
       "4      0.0      0.0  ...       0.0       0.0       0.0  0.000000       0.0   \n",
       "\n",
       "   topic_20  topic_21  topic_22  topic_23  topic_24  \n",
       "0       0.0  0.450073  0.034492  0.052225  0.000000  \n",
       "1       0.0  0.000000  0.257371  0.000000  0.283978  \n",
       "2       0.0  0.000000  0.000000  0.151310  0.209686  \n",
       "3       0.0  0.000000  0.039122  0.000000  0.082137  \n",
       "4       0.0  0.507339  0.000000  0.000000  0.123079  \n",
       "\n",
       "[5 rows x 26 columns]"
      ]
     },
     "execution_count": 552,
     "metadata": {},
     "output_type": "execute_result"
    }
   ],
   "source": [
    "topic_matrix = pd.DataFrame([get_lda_vector(text) for text in news['title'].values])\n",
    "topic_matrix.columns = ['topic_{}'.format(i) for i in range(25)]\n",
    "topic_matrix['doc_id'] = news['doc_id'].values\n",
    "topic_matrix = topic_matrix[['doc_id']+['topic_{}'.format(i) for i in range(25)]]\n",
    "\n",
    "\n",
    "topic_matrix.head(5)"
   ]
  },
  {
   "cell_type": "markdown",
   "metadata": {},
   "source": [
    "Тут взвешиваем вектора статей в матрице topic_matrix"
   ]
  },
  {
   "cell_type": "code",
   "execution_count": 616,
   "metadata": {},
   "outputs": [
    {
     "name": "stderr",
     "output_type": "stream",
     "text": [
      "UsageError: Cell magic `%%script_false` not found.\n"
     ]
    }
   ],
   "source": [
    "%%script_false\n",
    "from sklearn.feature_extraction.text import TfidfTransformer\n",
    "\n",
    "transformer = TfidfTransformer(norm='l1', use_idf=True, smooth_idf=False)\n",
    "\n",
    "headers = list(topic_matrix)\n",
    "tfidf = transformer.fit_transform(topic_matrix[headers[1:]])\n",
    "\n",
    "tfidf = tfidf.toarray()\n",
    "df = pd.DataFrame(tfidf)\n",
    "df.head(5)"
   ]
  },
  {
   "cell_type": "code",
   "execution_count": 617,
   "metadata": {},
   "outputs": [
    {
     "name": "stderr",
     "output_type": "stream",
     "text": [
      "UsageError: Cell magic `%%script_false` not found.\n"
     ]
    }
   ],
   "source": [
    "%%script_false\n",
    "for i in range(df.shape[1]):\n",
    "    topic_matrix[f'topic_{i}'] = df[i]\n",
    "\n",
    "topic_matrix.head(5)"
   ]
  },
  {
   "cell_type": "markdown",
   "metadata": {},
   "source": [
    "Прекрасно, мы получили вектора наших новостей! И даже умеем интерпретировать получившиеся темы.\n",
    "\n",
    "Можно двигаться далее"
   ]
  },
  {
   "cell_type": "markdown",
   "metadata": {},
   "source": [
    "### Следующий шаг - векторные представления пользователей"
   ]
  },
  {
   "cell_type": "code",
   "execution_count": 553,
   "metadata": {
    "scrolled": true
   },
   "outputs": [
    {
     "data": {
      "text/html": [
       "<div>\n",
       "<style scoped>\n",
       "    .dataframe tbody tr th:only-of-type {\n",
       "        vertical-align: middle;\n",
       "    }\n",
       "\n",
       "    .dataframe tbody tr th {\n",
       "        vertical-align: top;\n",
       "    }\n",
       "\n",
       "    .dataframe thead th {\n",
       "        text-align: right;\n",
       "    }\n",
       "</style>\n",
       "<table border=\"1\" class=\"dataframe\">\n",
       "  <thead>\n",
       "    <tr style=\"text-align: right;\">\n",
       "      <th></th>\n",
       "      <th>uid</th>\n",
       "      <th>articles</th>\n",
       "    </tr>\n",
       "  </thead>\n",
       "  <tbody>\n",
       "    <tr>\n",
       "      <th>0</th>\n",
       "      <td>u105138</td>\n",
       "      <td>[293672, 293328, 293001, 293622, 293126, 1852]</td>\n",
       "    </tr>\n",
       "    <tr>\n",
       "      <th>1</th>\n",
       "      <td>u108690</td>\n",
       "      <td>[3405, 1739, 2972, 1158, 1599, 322665]</td>\n",
       "    </tr>\n",
       "    <tr>\n",
       "      <th>2</th>\n",
       "      <td>u108339</td>\n",
       "      <td>[1845, 2009, 2356, 1424, 2939, 323389]</td>\n",
       "    </tr>\n",
       "  </tbody>\n",
       "</table>\n",
       "</div>"
      ],
      "text/plain": [
       "       uid                                        articles\n",
       "0  u105138  [293672, 293328, 293001, 293622, 293126, 1852]\n",
       "1  u108690          [3405, 1739, 2972, 1158, 1599, 322665]\n",
       "2  u108339          [1845, 2009, 2356, 1424, 2939, 323389]"
      ]
     },
     "execution_count": 553,
     "metadata": {},
     "output_type": "execute_result"
    }
   ],
   "source": [
    "users.head(3)"
   ]
  },
  {
   "cell_type": "code",
   "execution_count": 554,
   "metadata": {},
   "outputs": [],
   "source": [
    "doc_dict = dict(zip(topic_matrix['doc_id'].values, topic_matrix[['topic_{}'.format(i) for i in range(25)]].values))"
   ]
  },
  {
   "cell_type": "code",
   "execution_count": 618,
   "metadata": {},
   "outputs": [
    {
     "data": {
      "text/plain": [
       "array([0.        , 0.        , 0.29655623, 0.        , 0.25336269,\n",
       "       0.        , 0.        , 0.        , 0.07731166, 0.        ,\n",
       "       0.        , 0.07907171, 0.        , 0.        , 0.        ,\n",
       "       0.        , 0.06603418, 0.01731616, 0.19941562, 0.        ,\n",
       "       0.        , 0.        , 0.        , 0.        , 0.        ])"
      ]
     },
     "execution_count": 618,
     "metadata": {},
     "output_type": "execute_result"
    }
   ],
   "source": [
    "doc_dict[293622]"
   ]
  },
  {
   "cell_type": "code",
   "execution_count": 640,
   "metadata": {},
   "outputs": [],
   "source": [
    "user_articles_list = users['articles'].iloc[33]\n",
    "\n",
    "def get_user_embedding(user_articles_list):\n",
    "    user_articles_list = eval(user_articles_list)\n",
    "    user_vector = np.array([doc_dict[doc_id] for doc_id in user_articles_list])\n",
    "    \n",
    "    transformer = TfidfTransformer(norm='l1', use_idf=True, smooth_idf=False)\n",
    "    \n",
    "#     print(user_vector)\n",
    "    tfidf = transformer.fit_transform(user_vector)\n",
    "#     print('*************************')\n",
    "#     print(tfidf.toarray())\n",
    "    \n",
    "    user_vector = np.max(tfidf.toarray(), 0)\n",
    "    return user_vector"
   ]
  },
  {
   "cell_type": "code",
   "execution_count": 641,
   "metadata": {},
   "outputs": [
    {
     "name": "stderr",
     "output_type": "stream",
     "text": [
      "C:\\Users\\Energizer\\anaconda3\\lib\\site-packages\\sklearn\\feature_extraction\\text.py:1450: RuntimeWarning: divide by zero encountered in true_divide\n",
      "  idf = np.log(n_samples / df) + 1\n"
     ]
    },
    {
     "data": {
      "text/plain": [
       "array([0.24299752, 0.        , 0.47135071, 0.        , 0.14790814,\n",
       "       0.        , 0.18574926, 0.        , 0.12810538, 0.08403383,\n",
       "       0.76805803, 0.29819052, 0.03630151, 0.08859796, 0.01656552,\n",
       "       0.        , 0.13686638, 0.        , 0.04797433, 0.14834856,\n",
       "       0.        , 0.21749553, 0.29496433, 0.13651775, 0.14358121])"
      ]
     },
     "execution_count": 641,
     "metadata": {},
     "output_type": "execute_result"
    }
   ],
   "source": [
    "get_user_embedding(user_articles_list)"
   ]
  },
  {
   "cell_type": "markdown",
   "metadata": {},
   "source": [
    "Интересовался новостями с топиками topic_3, topic_14 (что-то про политику и государство)"
   ]
  },
  {
   "cell_type": "code",
   "execution_count": 642,
   "metadata": {},
   "outputs": [],
   "source": [
    "#users['articles'].iloc[33]"
   ]
  },
  {
   "cell_type": "code",
   "execution_count": 643,
   "metadata": {
    "scrolled": true
   },
   "outputs": [],
   "source": [
    "#\" \".join(news[news['doc_id']==323186]['title'].iloc[0])"
   ]
  },
  {
   "cell_type": "markdown",
   "metadata": {},
   "source": [
    "Теперь получим эмбединги для всех пользователей и проверим их качество на конкретной downstream-задаче"
   ]
  },
  {
   "cell_type": "code",
   "execution_count": 644,
   "metadata": {},
   "outputs": [
    {
     "data": {
      "text/html": [
       "<div>\n",
       "<style scoped>\n",
       "    .dataframe tbody tr th:only-of-type {\n",
       "        vertical-align: middle;\n",
       "    }\n",
       "\n",
       "    .dataframe tbody tr th {\n",
       "        vertical-align: top;\n",
       "    }\n",
       "\n",
       "    .dataframe thead th {\n",
       "        text-align: right;\n",
       "    }\n",
       "</style>\n",
       "<table border=\"1\" class=\"dataframe\">\n",
       "  <thead>\n",
       "    <tr style=\"text-align: right;\">\n",
       "      <th></th>\n",
       "      <th>uid</th>\n",
       "      <th>topic_0</th>\n",
       "      <th>topic_1</th>\n",
       "      <th>topic_2</th>\n",
       "      <th>topic_3</th>\n",
       "      <th>topic_4</th>\n",
       "      <th>topic_5</th>\n",
       "      <th>topic_6</th>\n",
       "      <th>topic_7</th>\n",
       "      <th>topic_8</th>\n",
       "      <th>...</th>\n",
       "      <th>topic_15</th>\n",
       "      <th>topic_16</th>\n",
       "      <th>topic_17</th>\n",
       "      <th>topic_18</th>\n",
       "      <th>topic_19</th>\n",
       "      <th>topic_20</th>\n",
       "      <th>topic_21</th>\n",
       "      <th>topic_22</th>\n",
       "      <th>topic_23</th>\n",
       "      <th>topic_24</th>\n",
       "    </tr>\n",
       "  </thead>\n",
       "  <tbody>\n",
       "    <tr>\n",
       "      <th>0</th>\n",
       "      <td>u105138</td>\n",
       "      <td>0.191351</td>\n",
       "      <td>0.0</td>\n",
       "      <td>0.341059</td>\n",
       "      <td>0.000000</td>\n",
       "      <td>0.200446</td>\n",
       "      <td>0.360887</td>\n",
       "      <td>0.085464</td>\n",
       "      <td>0.154882</td>\n",
       "      <td>0.073684</td>\n",
       "      <td>...</td>\n",
       "      <td>0.065481</td>\n",
       "      <td>0.471928</td>\n",
       "      <td>0.020456</td>\n",
       "      <td>0.363061</td>\n",
       "      <td>0.000000</td>\n",
       "      <td>0.224981</td>\n",
       "      <td>0.166842</td>\n",
       "      <td>0.386765</td>\n",
       "      <td>0.303114</td>\n",
       "      <td>0.000000</td>\n",
       "    </tr>\n",
       "    <tr>\n",
       "      <th>1</th>\n",
       "      <td>u108690</td>\n",
       "      <td>0.094375</td>\n",
       "      <td>0.0</td>\n",
       "      <td>0.310722</td>\n",
       "      <td>0.000000</td>\n",
       "      <td>0.058144</td>\n",
       "      <td>0.230082</td>\n",
       "      <td>0.336008</td>\n",
       "      <td>0.180530</td>\n",
       "      <td>0.163676</td>\n",
       "      <td>...</td>\n",
       "      <td>0.123986</td>\n",
       "      <td>0.122010</td>\n",
       "      <td>0.000000</td>\n",
       "      <td>0.120412</td>\n",
       "      <td>0.134555</td>\n",
       "      <td>0.087483</td>\n",
       "      <td>0.063060</td>\n",
       "      <td>0.119017</td>\n",
       "      <td>0.063977</td>\n",
       "      <td>0.025690</td>\n",
       "    </tr>\n",
       "    <tr>\n",
       "      <th>2</th>\n",
       "      <td>u108339</td>\n",
       "      <td>0.109568</td>\n",
       "      <td>0.0</td>\n",
       "      <td>0.340161</td>\n",
       "      <td>0.046803</td>\n",
       "      <td>0.028975</td>\n",
       "      <td>0.050752</td>\n",
       "      <td>0.132974</td>\n",
       "      <td>0.203026</td>\n",
       "      <td>0.046785</td>\n",
       "      <td>...</td>\n",
       "      <td>0.042143</td>\n",
       "      <td>0.046046</td>\n",
       "      <td>0.024469</td>\n",
       "      <td>0.075025</td>\n",
       "      <td>0.103277</td>\n",
       "      <td>0.062011</td>\n",
       "      <td>0.099366</td>\n",
       "      <td>0.260392</td>\n",
       "      <td>0.000000</td>\n",
       "      <td>0.115104</td>\n",
       "    </tr>\n",
       "  </tbody>\n",
       "</table>\n",
       "<p>3 rows × 26 columns</p>\n",
       "</div>"
      ],
      "text/plain": [
       "       uid   topic_0  topic_1   topic_2   topic_3   topic_4   topic_5  \\\n",
       "0  u105138  0.191351      0.0  0.341059  0.000000  0.200446  0.360887   \n",
       "1  u108690  0.094375      0.0  0.310722  0.000000  0.058144  0.230082   \n",
       "2  u108339  0.109568      0.0  0.340161  0.046803  0.028975  0.050752   \n",
       "\n",
       "    topic_6   topic_7   topic_8  ...  topic_15  topic_16  topic_17  topic_18  \\\n",
       "0  0.085464  0.154882  0.073684  ...  0.065481  0.471928  0.020456  0.363061   \n",
       "1  0.336008  0.180530  0.163676  ...  0.123986  0.122010  0.000000  0.120412   \n",
       "2  0.132974  0.203026  0.046785  ...  0.042143  0.046046  0.024469  0.075025   \n",
       "\n",
       "   topic_19  topic_20  topic_21  topic_22  topic_23  topic_24  \n",
       "0  0.000000  0.224981  0.166842  0.386765  0.303114  0.000000  \n",
       "1  0.134555  0.087483  0.063060  0.119017  0.063977  0.025690  \n",
       "2  0.103277  0.062011  0.099366  0.260392  0.000000  0.115104  \n",
       "\n",
       "[3 rows x 26 columns]"
      ]
     },
     "execution_count": 644,
     "metadata": {},
     "output_type": "execute_result"
    }
   ],
   "source": [
    "user_embeddings = pd.DataFrame([i for i in users['articles'].apply(lambda x: get_user_embedding(x), 1)])\n",
    "user_embeddings.columns = ['topic_{}'.format(i) for i in range(25)]\n",
    "user_embeddings['uid'] = users['uid'].values\n",
    "user_embeddings = user_embeddings[['uid']+['topic_{}'.format(i) for i in range(25)]]\n",
    "user_embeddings.head(3)"
   ]
  },
  {
   "cell_type": "markdown",
   "metadata": {},
   "source": [
    "Датасет готов - можно попробовать обучить модель. Загрузим нашу разметку"
   ]
  },
  {
   "cell_type": "code",
   "execution_count": 645,
   "metadata": {},
   "outputs": [
    {
     "data": {
      "text/html": [
       "<div>\n",
       "<style scoped>\n",
       "    .dataframe tbody tr th:only-of-type {\n",
       "        vertical-align: middle;\n",
       "    }\n",
       "\n",
       "    .dataframe tbody tr th {\n",
       "        vertical-align: top;\n",
       "    }\n",
       "\n",
       "    .dataframe thead th {\n",
       "        text-align: right;\n",
       "    }\n",
       "</style>\n",
       "<table border=\"1\" class=\"dataframe\">\n",
       "  <thead>\n",
       "    <tr style=\"text-align: right;\">\n",
       "      <th></th>\n",
       "      <th>uid</th>\n",
       "      <th>churn</th>\n",
       "    </tr>\n",
       "  </thead>\n",
       "  <tbody>\n",
       "    <tr>\n",
       "      <th>0</th>\n",
       "      <td>u107120</td>\n",
       "      <td>0</td>\n",
       "    </tr>\n",
       "    <tr>\n",
       "      <th>1</th>\n",
       "      <td>u102277</td>\n",
       "      <td>0</td>\n",
       "    </tr>\n",
       "    <tr>\n",
       "      <th>2</th>\n",
       "      <td>u102444</td>\n",
       "      <td>0</td>\n",
       "    </tr>\n",
       "  </tbody>\n",
       "</table>\n",
       "</div>"
      ],
      "text/plain": [
       "       uid  churn\n",
       "0  u107120      0\n",
       "1  u102277      0\n",
       "2  u102444      0"
      ]
     },
     "execution_count": 645,
     "metadata": {},
     "output_type": "execute_result"
    }
   ],
   "source": [
    "target = pd.read_csv(\"users_churn.csv\")\n",
    "target.head(3)"
   ]
  },
  {
   "cell_type": "code",
   "execution_count": 646,
   "metadata": {},
   "outputs": [
    {
     "data": {
      "text/html": [
       "<div>\n",
       "<style scoped>\n",
       "    .dataframe tbody tr th:only-of-type {\n",
       "        vertical-align: middle;\n",
       "    }\n",
       "\n",
       "    .dataframe tbody tr th {\n",
       "        vertical-align: top;\n",
       "    }\n",
       "\n",
       "    .dataframe thead th {\n",
       "        text-align: right;\n",
       "    }\n",
       "</style>\n",
       "<table border=\"1\" class=\"dataframe\">\n",
       "  <thead>\n",
       "    <tr style=\"text-align: right;\">\n",
       "      <th></th>\n",
       "      <th>uid</th>\n",
       "      <th>topic_0</th>\n",
       "      <th>topic_1</th>\n",
       "      <th>topic_2</th>\n",
       "      <th>topic_3</th>\n",
       "      <th>topic_4</th>\n",
       "      <th>topic_5</th>\n",
       "      <th>topic_6</th>\n",
       "      <th>topic_7</th>\n",
       "      <th>topic_8</th>\n",
       "      <th>...</th>\n",
       "      <th>topic_16</th>\n",
       "      <th>topic_17</th>\n",
       "      <th>topic_18</th>\n",
       "      <th>topic_19</th>\n",
       "      <th>topic_20</th>\n",
       "      <th>topic_21</th>\n",
       "      <th>topic_22</th>\n",
       "      <th>topic_23</th>\n",
       "      <th>topic_24</th>\n",
       "      <th>churn</th>\n",
       "    </tr>\n",
       "  </thead>\n",
       "  <tbody>\n",
       "    <tr>\n",
       "      <th>0</th>\n",
       "      <td>u105138</td>\n",
       "      <td>0.191351</td>\n",
       "      <td>0.0</td>\n",
       "      <td>0.341059</td>\n",
       "      <td>0.000000</td>\n",
       "      <td>0.200446</td>\n",
       "      <td>0.360887</td>\n",
       "      <td>0.085464</td>\n",
       "      <td>0.154882</td>\n",
       "      <td>0.073684</td>\n",
       "      <td>...</td>\n",
       "      <td>0.471928</td>\n",
       "      <td>0.020456</td>\n",
       "      <td>0.363061</td>\n",
       "      <td>0.000000</td>\n",
       "      <td>0.224981</td>\n",
       "      <td>0.166842</td>\n",
       "      <td>0.386765</td>\n",
       "      <td>0.303114</td>\n",
       "      <td>0.000000</td>\n",
       "      <td>0</td>\n",
       "    </tr>\n",
       "    <tr>\n",
       "      <th>1</th>\n",
       "      <td>u108690</td>\n",
       "      <td>0.094375</td>\n",
       "      <td>0.0</td>\n",
       "      <td>0.310722</td>\n",
       "      <td>0.000000</td>\n",
       "      <td>0.058144</td>\n",
       "      <td>0.230082</td>\n",
       "      <td>0.336008</td>\n",
       "      <td>0.180530</td>\n",
       "      <td>0.163676</td>\n",
       "      <td>...</td>\n",
       "      <td>0.122010</td>\n",
       "      <td>0.000000</td>\n",
       "      <td>0.120412</td>\n",
       "      <td>0.134555</td>\n",
       "      <td>0.087483</td>\n",
       "      <td>0.063060</td>\n",
       "      <td>0.119017</td>\n",
       "      <td>0.063977</td>\n",
       "      <td>0.025690</td>\n",
       "      <td>1</td>\n",
       "    </tr>\n",
       "    <tr>\n",
       "      <th>2</th>\n",
       "      <td>u108339</td>\n",
       "      <td>0.109568</td>\n",
       "      <td>0.0</td>\n",
       "      <td>0.340161</td>\n",
       "      <td>0.046803</td>\n",
       "      <td>0.028975</td>\n",
       "      <td>0.050752</td>\n",
       "      <td>0.132974</td>\n",
       "      <td>0.203026</td>\n",
       "      <td>0.046785</td>\n",
       "      <td>...</td>\n",
       "      <td>0.046046</td>\n",
       "      <td>0.024469</td>\n",
       "      <td>0.075025</td>\n",
       "      <td>0.103277</td>\n",
       "      <td>0.062011</td>\n",
       "      <td>0.099366</td>\n",
       "      <td>0.260392</td>\n",
       "      <td>0.000000</td>\n",
       "      <td>0.115104</td>\n",
       "      <td>1</td>\n",
       "    </tr>\n",
       "  </tbody>\n",
       "</table>\n",
       "<p>3 rows × 27 columns</p>\n",
       "</div>"
      ],
      "text/plain": [
       "       uid   topic_0  topic_1   topic_2   topic_3   topic_4   topic_5  \\\n",
       "0  u105138  0.191351      0.0  0.341059  0.000000  0.200446  0.360887   \n",
       "1  u108690  0.094375      0.0  0.310722  0.000000  0.058144  0.230082   \n",
       "2  u108339  0.109568      0.0  0.340161  0.046803  0.028975  0.050752   \n",
       "\n",
       "    topic_6   topic_7   topic_8  ...  topic_16  topic_17  topic_18  topic_19  \\\n",
       "0  0.085464  0.154882  0.073684  ...  0.471928  0.020456  0.363061  0.000000   \n",
       "1  0.336008  0.180530  0.163676  ...  0.122010  0.000000  0.120412  0.134555   \n",
       "2  0.132974  0.203026  0.046785  ...  0.046046  0.024469  0.075025  0.103277   \n",
       "\n",
       "   topic_20  topic_21  topic_22  topic_23  topic_24  churn  \n",
       "0  0.224981  0.166842  0.386765  0.303114  0.000000      0  \n",
       "1  0.087483  0.063060  0.119017  0.063977  0.025690      1  \n",
       "2  0.062011  0.099366  0.260392  0.000000  0.115104      1  \n",
       "\n",
       "[3 rows x 27 columns]"
      ]
     },
     "execution_count": 646,
     "metadata": {},
     "output_type": "execute_result"
    }
   ],
   "source": [
    "X = pd.merge(user_embeddings, target, 'left')\n",
    "X.head(3)"
   ]
  },
  {
   "cell_type": "code",
   "execution_count": 647,
   "metadata": {},
   "outputs": [],
   "source": [
    "from sklearn.linear_model import LogisticRegression\n",
    "from sklearn.model_selection import train_test_split\n",
    "#import itertools\n",
    "\n",
    "import matplotlib.pyplot as plt\n",
    "\n",
    "%matplotlib inline"
   ]
  },
  {
   "cell_type": "code",
   "execution_count": 648,
   "metadata": {},
   "outputs": [],
   "source": [
    "#разделим данные на train/test\n",
    "X_train, X_test, y_train, y_test = train_test_split(X[['topic_{}'.format(i) for i in range(25)]], \n",
    "                                                    X['churn'], random_state=0)"
   ]
  },
  {
   "cell_type": "code",
   "execution_count": 649,
   "metadata": {},
   "outputs": [
    {
     "data": {
      "text/plain": [
       "LogisticRegression()"
      ]
     },
     "execution_count": 649,
     "metadata": {},
     "output_type": "execute_result"
    }
   ],
   "source": [
    "logreg = LogisticRegression()\n",
    "#обучим \n",
    "logreg.fit(X_train, y_train)"
   ]
  },
  {
   "cell_type": "code",
   "execution_count": 650,
   "metadata": {},
   "outputs": [
    {
     "data": {
      "text/plain": [
       "array([0.22365739, 0.00138945, 0.7397615 , 0.50496387, 0.01825396,\n",
       "       0.01744382, 0.22946009, 0.00294369, 0.04117022, 0.33884099])"
      ]
     },
     "execution_count": 650,
     "metadata": {},
     "output_type": "execute_result"
    }
   ],
   "source": [
    "#наши прогнозы для тестовой выборки\n",
    "preds = logreg.predict_proba(X_test)[:, 1]\n",
    "preds[:10]"
   ]
  },
  {
   "cell_type": "markdown",
   "metadata": {},
   "source": [
    "### Рассчитаем Precision, Recall, F_score"
   ]
  },
  {
   "cell_type": "code",
   "execution_count": 651,
   "metadata": {},
   "outputs": [],
   "source": [
    "from sklearn.metrics import f1_score, roc_auc_score, precision_score, classification_report, precision_recall_curve, confusion_matrix"
   ]
  },
  {
   "cell_type": "code",
   "execution_count": 652,
   "metadata": {},
   "outputs": [],
   "source": [
    "import itertools"
   ]
  },
  {
   "cell_type": "code",
   "execution_count": 653,
   "metadata": {},
   "outputs": [
    {
     "name": "stdout",
     "output_type": "stream",
     "text": [
      "Best Threshold=0.308333, F-Score=0.787, Precision=0.743, Recall=0.837\n"
     ]
    }
   ],
   "source": [
    "precision, recall, thresholds = precision_recall_curve(y_test, preds)\n",
    "fscore = (2 * precision * recall) / (precision + recall)\n",
    "# locate the index of the largest f score\n",
    "ix = np.argmax(fscore)\n",
    "print('Best Threshold=%f, F-Score=%.3f, Precision=%.3f, Recall=%.3f' % (thresholds[ix], \n",
    "                                                                        fscore[ix],\n",
    "                                                                        precision[ix],\n",
    "                                                                        recall[ix]))"
   ]
  },
  {
   "cell_type": "code",
   "execution_count": 654,
   "metadata": {},
   "outputs": [],
   "source": [
    "def plot_confusion_matrix(cm, classes,\n",
    "                          normalize=False,\n",
    "                          title='Confusion matrix',\n",
    "                          cmap=plt.cm.Blues):\n",
    "    \"\"\"\n",
    "    This function prints and plots the confusion matrix.\n",
    "    Normalization can be applied by setting `normalize=True`.\n",
    "    \"\"\"\n",
    "    plt.imshow(cm, interpolation='nearest', cmap=cmap)\n",
    "    plt.title(title)\n",
    "    plt.colorbar()\n",
    "    tick_marks = np.arange(len(classes))\n",
    "    plt.xticks(tick_marks, classes, rotation=45)\n",
    "    plt.yticks(tick_marks, classes)\n",
    "\n",
    "    if normalize:\n",
    "        cm = cm.astype('float') / cm.sum(axis=1)[:, np.newaxis]\n",
    "        print(\"Normalized confusion matrix\")\n",
    "    else:\n",
    "        print('Confusion matrix, without normalization')\n",
    "\n",
    "    print(cm)\n",
    "\n",
    "    thresh = cm.max() / 2.\n",
    "    for i, j in itertools.product(range(cm.shape[0]), range(cm.shape[1])):\n",
    "        plt.text(j, i, cm[i, j],\n",
    "                 horizontalalignment=\"center\",\n",
    "                 color=\"white\" if cm[i, j] > thresh else \"black\")\n",
    "\n",
    "    plt.tight_layout()\n",
    "    plt.ylabel('True label')\n",
    "    plt.xlabel('Predicted label')"
   ]
  },
  {
   "cell_type": "code",
   "execution_count": 655,
   "metadata": {},
   "outputs": [
    {
     "name": "stdout",
     "output_type": "stream",
     "text": [
      "Confusion matrix, without normalization\n",
      "[[1684   71]\n",
      " [  41  204]]\n"
     ]
    },
    {
     "data": {
      "image/png": "[encoded data removed]",
      "text/plain": [
       "<Figure size 720x576 with 2 Axes>"
      ]
     },
     "metadata": {
      "needs_background": "light"
     },
     "output_type": "display_data"
    }
   ],
   "source": [
    "#мы уже нашли ранее \"оптимальный\" порог, когда максимизировали f_score\n",
    "font = {'size' : 15}\n",
    "\n",
    "plt.rc('font', **font)\n",
    "\n",
    "cnf_matrix = confusion_matrix(y_test, preds>thresholds[ix])\n",
    "plt.figure(figsize=(10, 8))\n",
    "plot_confusion_matrix(cnf_matrix, classes=['Non-Churn', 'churn'],\n",
    "                      title='Confusion matrix')\n",
    "plt.savefig(\"conf_matrix.png\")\n",
    "plt.show()"
   ]
  },
  {
   "cell_type": "code",
   "execution_count": 656,
   "metadata": {},
   "outputs": [
    {
     "data": {
      "text/plain": [
       "0.9770405256119542"
      ]
     },
     "execution_count": 656,
     "metadata": {},
     "output_type": "execute_result"
    }
   ],
   "source": [
    "roc_auc_score(y_test, preds)"
   ]
  },
  {
   "cell_type": "markdown",
   "metadata": {},
   "source": [
    "В целом мы видим, что получившиеся векторные представления содержат какой-то сигнал и позволяют решать нашу прикладную задачу. "
   ]
  },
  {
   "cell_type": "markdown",
   "metadata": {},
   "source": [
    "### Домашнее задание"
   ]
  },
  {
   "cell_type": "markdown",
   "metadata": {},
   "source": [
    "1. Самостоятельно разобраться с тем, что такое tfidf (документация https://scikit-learn.org/stable/modules/generated/sklearn.feature_extraction.text.TfidfVectorizer.html и еще - https://scikit-learn.org/stable/modules/feature_extraction.html#text-feature-extraction)\n",
    "2. Модифицировать код функции get_user_embedding таким образом, чтобы считалось не среднее (как в примере np.mean), а медиана. Применить такое преобразование к данным, обучить модель прогнозирования оттока и посчитать метрики качества и сохранить их: roc auc, precision/recall/f_score (для 3 последних - подобрать оптимальный порог с помощью precision_recall_curve, как это делалось на уроке)\n",
    "3. Повторить п.2, но используя уже не медиану, а max\n",
    "4. (опциональное, если очень хочется) Воспользовавшись полученными знаниями из п.1, повторить пункт 2, но уже взвешивая новости по tfidf (подсказка: нужно получить веса-коэффициенты для каждого документа. Не все документы одинаково информативны и несут какой-то положительный сигнал). Подсказка 2 - нужен именно idf, как вес.\n",
    "5. Сформировать на выходе единую таблицу, сравнивающую качество 3 разных метода получения эмбедингов пользователей: mean, median, max, idf_mean по метрикам roc_auc, precision, recall, f_score\n",
    "6. Сделать самостоятельные выводы и предположения о том, почему тот или ной способ оказался эффективнее остальных"
   ]
  },
  {
   "cell_type": "markdown",
   "metadata": {},
   "source": [
    "**Задание 1**\n",
    "\n",
    "done"
   ]
  },
  {
   "cell_type": "markdown",
   "metadata": {},
   "source": [
    "**Задание 2-3**\n",
    "\n",
    "способ вычисления - результат:\n",
    "- np.mean (по умолчанию): Threshold=0.249248, F-Score=0.667, Precision=0.580, Recall=0.784, roc_auc_score=0.9368474911332054\n",
    "- np.median:\t\tThreshold=0.296594, F-Score=0.740, Precision=0.688, Recall=0.800, roc_auc_score=0.9597744054886913\n",
    "- np.min: \t\tThreshold=0.170139, F-Score=0.517, Precision=0.508, Recall=0.527, roc_auc_score=0.8599976742833887\n",
    "- np.max: \t\tThreshold=0.338495, F-Score=0.786, Precision=0.772, Recall=0.800, roc_auc_score=0.9732705389848247"
   ]
  },
  {
   "cell_type": "code",
   "execution_count": 346,
   "metadata": {},
   "outputs": [],
   "source": [
    "cols = [\"Count type\", \"Threshold\", \"F-Score\", \"Precision\", \"Recall\", \"roc_auc_score\"]"
   ]
  },
  {
   "cell_type": "code",
   "execution_count": 347,
   "metadata": {},
   "outputs": [],
   "source": [
    "data1 = [[\"np.mean (по умолчанию)\", 0.249248, 0.667, 0.580, 0.784, 0.9368474911332054],\n",
    "         [\"np.median\", 0.296594, 0.740, 0.688, 0.800, 0.9597744054886913],\n",
    "         [\"np.min\", 0.170139, 0.517, 0.508, 0.527, 0.8599976742833887],\n",
    "         [\"np.max\", 0.338495, 0.786, 0.772, 0.800, 0.9732705389848247]]"
   ]
  },
  {
   "cell_type": "code",
   "execution_count": 348,
   "metadata": {},
   "outputs": [
    {
     "data": {
      "text/html": [
       "<div>\n",
       "<style scoped>\n",
       "    .dataframe tbody tr th:only-of-type {\n",
       "        vertical-align: middle;\n",
       "    }\n",
       "\n",
       "    .dataframe tbody tr th {\n",
       "        vertical-align: top;\n",
       "    }\n",
       "\n",
       "    .dataframe thead th {\n",
       "        text-align: right;\n",
       "    }\n",
       "</style>\n",
       "<table border=\"1\" class=\"dataframe\">\n",
       "  <thead>\n",
       "    <tr style=\"text-align: right;\">\n",
       "      <th></th>\n",
       "      <th>Count type</th>\n",
       "      <th>Threshold</th>\n",
       "      <th>F-Score</th>\n",
       "      <th>Precision</th>\n",
       "      <th>Recall</th>\n",
       "      <th>roc_auc_score</th>\n",
       "    </tr>\n",
       "  </thead>\n",
       "  <tbody>\n",
       "    <tr>\n",
       "      <th>0</th>\n",
       "      <td>np.mean (по умолчанию)</td>\n",
       "      <td>0.249248</td>\n",
       "      <td>0.667</td>\n",
       "      <td>0.580</td>\n",
       "      <td>0.784</td>\n",
       "      <td>0.936847</td>\n",
       "    </tr>\n",
       "    <tr>\n",
       "      <th>1</th>\n",
       "      <td>np.median</td>\n",
       "      <td>0.296594</td>\n",
       "      <td>0.740</td>\n",
       "      <td>0.688</td>\n",
       "      <td>0.800</td>\n",
       "      <td>0.959774</td>\n",
       "    </tr>\n",
       "    <tr>\n",
       "      <th>2</th>\n",
       "      <td>np.min</td>\n",
       "      <td>0.170139</td>\n",
       "      <td>0.517</td>\n",
       "      <td>0.508</td>\n",
       "      <td>0.527</td>\n",
       "      <td>0.859998</td>\n",
       "    </tr>\n",
       "    <tr>\n",
       "      <th>3</th>\n",
       "      <td>np.max</td>\n",
       "      <td>0.338495</td>\n",
       "      <td>0.786</td>\n",
       "      <td>0.772</td>\n",
       "      <td>0.800</td>\n",
       "      <td>0.973271</td>\n",
       "    </tr>\n",
       "  </tbody>\n",
       "</table>\n",
       "</div>"
      ],
      "text/plain": [
       "               Count type  Threshold  F-Score  Precision  Recall  \\\n",
       "0  np.mean (по умолчанию)   0.249248    0.667      0.580   0.784   \n",
       "1               np.median   0.296594    0.740      0.688   0.800   \n",
       "2                  np.min   0.170139    0.517      0.508   0.527   \n",
       "3                  np.max   0.338495    0.786      0.772   0.800   \n",
       "\n",
       "   roc_auc_score  \n",
       "0       0.936847  \n",
       "1       0.959774  \n",
       "2       0.859998  \n",
       "3       0.973271  "
      ]
     },
     "execution_count": 348,
     "metadata": {},
     "output_type": "execute_result"
    }
   ],
   "source": [
    "df1 = pd.DataFrame(data1, columns=cols)\n",
    "df1"
   ]
  },
  {
   "cell_type": "markdown",
   "metadata": {},
   "source": [
    "Лучший результат показали вычисления со взятием максимального значения вероятности принадлежности к теме по статьям. Это может объясняться тем, что пользователь преимущественно читал статьи на темы, которые ему интересны, их вес в статьте превалирует и на их основе формировал мнение."
   ]
  },
  {
   "cell_type": "markdown",
   "metadata": {},
   "source": [
    "**Задание 4**"
   ]
  },
  {
   "cell_type": "markdown",
   "metadata": {},
   "source": [
    "Значение вероятности тем для каждой статить из матрицы topic_matrix прогнал через TfidfTransformer с различными параметрами. Функцией расчета user_vector брал max(), т.к. он лучше всех себя показал в предыдущем задании."
   ]
  },
  {
   "cell_type": "markdown",
   "metadata": {},
   "source": [
    "способ вычисления - результат:\n",
    "- TfidfTransformer(): Best Threshold=0.417532, F-Score=0.651, Precision=0.644, Recall=0.657, roc_auc_score=0.9402872260015118\n",
    "- TfidfTransformer(norm='l1'): Best TThreshold=0.377591, F-Score=0.727, Precision=0.731, Recall=0.722, roc_auc_score=0.9570463399034829\n",
    "- TfidfTransformer(norm='l1', use_idf=True, smooth_idf=False): Best TThreshold=0.327762, F-Score=0.778, Precision=0.743, Recall=0.816, roc_auc_score=0.973800802372231\n",
    "- TfidfTransformer(norm='l1', use_idf=False, smooth_idf=True): Best Threshold=0.377591, F-Score=0.727, Precision=0.731, Recall=0.722, roc_auc_score=0.9570463399034829"
   ]
  },
  {
   "cell_type": "code",
   "execution_count": 599,
   "metadata": {},
   "outputs": [],
   "source": [
    "data2 = [[\"1 - TfidfTransformer()\", 0.417532, 0.651, 0.644, 0.657, 0.9402872260015118],\n",
    "         [\"1 - TfidfTransformer(norm='l1')\", 0.377591, 0.727, 0.731, 0.722, 0.9570463399034829],\n",
    "         [\"1- TfidfTransformer(norm='l1', use_idf=True, smooth_idf=False)\", 0.327762, 0.778, 0.743, 0.816, 0.973800802372231],\n",
    "         [\"1- TfidfTransformer(norm='l1', use_idf=False, smooth_idf=True)\", 0.377591, 0.727, 0.731, 0.722, 0.9570463399034829]]"
   ]
  },
  {
   "cell_type": "code",
   "execution_count": 600,
   "metadata": {},
   "outputs": [
    {
     "data": {
      "text/html": [
       "<div>\n",
       "<style scoped>\n",
       "    .dataframe tbody tr th:only-of-type {\n",
       "        vertical-align: middle;\n",
       "    }\n",
       "\n",
       "    .dataframe tbody tr th {\n",
       "        vertical-align: top;\n",
       "    }\n",
       "\n",
       "    .dataframe thead th {\n",
       "        text-align: right;\n",
       "    }\n",
       "</style>\n",
       "<table border=\"1\" class=\"dataframe\">\n",
       "  <thead>\n",
       "    <tr style=\"text-align: right;\">\n",
       "      <th></th>\n",
       "      <th>Count type</th>\n",
       "      <th>Threshold</th>\n",
       "      <th>F-Score</th>\n",
       "      <th>Precision</th>\n",
       "      <th>Recall</th>\n",
       "      <th>roc_auc_score</th>\n",
       "    </tr>\n",
       "  </thead>\n",
       "  <tbody>\n",
       "    <tr>\n",
       "      <th>0</th>\n",
       "      <td>1 - TfidfTransformer()</td>\n",
       "      <td>0.417532</td>\n",
       "      <td>0.651</td>\n",
       "      <td>0.644</td>\n",
       "      <td>0.657</td>\n",
       "      <td>0.940287</td>\n",
       "    </tr>\n",
       "    <tr>\n",
       "      <th>1</th>\n",
       "      <td>1 - TfidfTransformer(norm='l1')</td>\n",
       "      <td>0.377591</td>\n",
       "      <td>0.727</td>\n",
       "      <td>0.731</td>\n",
       "      <td>0.722</td>\n",
       "      <td>0.957046</td>\n",
       "    </tr>\n",
       "    <tr>\n",
       "      <th>2</th>\n",
       "      <td>1- TfidfTransformer(norm='l1', use_idf=True, s...</td>\n",
       "      <td>0.327762</td>\n",
       "      <td>0.778</td>\n",
       "      <td>0.743</td>\n",
       "      <td>0.816</td>\n",
       "      <td>0.973801</td>\n",
       "    </tr>\n",
       "    <tr>\n",
       "      <th>3</th>\n",
       "      <td>1- TfidfTransformer(norm='l1', use_idf=False, ...</td>\n",
       "      <td>0.377591</td>\n",
       "      <td>0.727</td>\n",
       "      <td>0.731</td>\n",
       "      <td>0.722</td>\n",
       "      <td>0.957046</td>\n",
       "    </tr>\n",
       "  </tbody>\n",
       "</table>\n",
       "</div>"
      ],
      "text/plain": [
       "                                          Count type  Threshold  F-Score  \\\n",
       "0                             1 - TfidfTransformer()   0.417532    0.651   \n",
       "1                    1 - TfidfTransformer(norm='l1')   0.377591    0.727   \n",
       "2  1- TfidfTransformer(norm='l1', use_idf=True, s...   0.327762    0.778   \n",
       "3  1- TfidfTransformer(norm='l1', use_idf=False, ...   0.377591    0.727   \n",
       "\n",
       "   Precision  Recall  roc_auc_score  \n",
       "0      0.644   0.657       0.940287  \n",
       "1      0.731   0.722       0.957046  \n",
       "2      0.743   0.816       0.973801  \n",
       "3      0.731   0.722       0.957046  "
      ]
     },
     "execution_count": 600,
     "metadata": {},
     "output_type": "execute_result"
    }
   ],
   "source": [
    "df2 = pd.DataFrame(data2, columns=cols)\n",
    "df2"
   ]
  },
  {
   "cell_type": "markdown",
   "metadata": {},
   "source": [
    "Взвешивание статей из матрицы topic_matrix с использованием TfidfTransformer(norm='l1', use_idf=True, smooth_idf=False) дало немного лучшие результаты, чем просто взятие максимума при расчете user_vector"
   ]
  },
  {
   "cell_type": "markdown",
   "metadata": {},
   "source": [
    "Отдельно попробовал взвешивать user_vector с помощью TfidfTransformer(). Т.е. в моем понимании - это взвешивание важности статей по темам для каждого конкретного пользователя из прочитанных им статей. Функцией выбора итогового значения user_vector брал также max()."
   ]
  },
  {
   "cell_type": "markdown",
   "metadata": {},
   "source": [
    "способ вычисления - результат:\n",
    "- TfidfTransformer(): Best Threshold=0.314315, F-Score=0.583, Precision=0.532, Recall=0.645, roc_auc_score=0.9732705389848247\n",
    "- TfidfTransformer(norm='l1'): Best Threshold=0.301455, F-Score=0.786, Precision=0.738, Recall=0.841, roc_auc_score=0.9766614338042909\n",
    "- TfidfTransformer(norm='l1', use_idf=True, smooth_idf=False): Best Threshold=0.284152, F-Score=0.793, Precision=0.731, Recall=0.865, roc_auc_score=0.9775079946508518\n",
    "- TfidfTransformer(norm='l1', use_idf=False, smooth_idf=True): Best Threshold=0.335637, F-Score=0.782, Precision=0.761, Recall=0.804, roc_auc_score=0.9724193267050409"
   ]
  },
  {
   "cell_type": "code",
   "execution_count": 601,
   "metadata": {},
   "outputs": [],
   "source": [
    "data3 = [[\"2 - TfidfTransformer()\", 0.314315, 0.583, 0.532, 0.645, 0.9732705389848247],\n",
    "         [\"2 - TfidfTransformer(norm='l1')\", 0.301455, 0.786, 0.738, 0.841, 0.9766614338042909],\n",
    "         [\"2 - TfidfTransformer(norm='l1', use_idf=True, smooth_idf=False)\", 0.284152, 0.793, 0.731, 0.865, 0.9775079946508518],\n",
    "         [\"2 - TfidfTransformer(norm='l1', use_idf=False, smooth_idf=True)\", 0.335637, 0.782, 0.761, 0.804, 0.9724193267050409]]"
   ]
  },
  {
   "cell_type": "code",
   "execution_count": 602,
   "metadata": {},
   "outputs": [
    {
     "data": {
      "text/html": [
       "<div>\n",
       "<style scoped>\n",
       "    .dataframe tbody tr th:only-of-type {\n",
       "        vertical-align: middle;\n",
       "    }\n",
       "\n",
       "    .dataframe tbody tr th {\n",
       "        vertical-align: top;\n",
       "    }\n",
       "\n",
       "    .dataframe thead th {\n",
       "        text-align: right;\n",
       "    }\n",
       "</style>\n",
       "<table border=\"1\" class=\"dataframe\">\n",
       "  <thead>\n",
       "    <tr style=\"text-align: right;\">\n",
       "      <th></th>\n",
       "      <th>Count type</th>\n",
       "      <th>Threshold</th>\n",
       "      <th>F-Score</th>\n",
       "      <th>Precision</th>\n",
       "      <th>Recall</th>\n",
       "      <th>roc_auc_score</th>\n",
       "    </tr>\n",
       "  </thead>\n",
       "  <tbody>\n",
       "    <tr>\n",
       "      <th>0</th>\n",
       "      <td>2 - TfidfTransformer()</td>\n",
       "      <td>0.314315</td>\n",
       "      <td>0.583</td>\n",
       "      <td>0.532</td>\n",
       "      <td>0.645</td>\n",
       "      <td>0.973271</td>\n",
       "    </tr>\n",
       "    <tr>\n",
       "      <th>1</th>\n",
       "      <td>2 - TfidfTransformer(norm='l1')</td>\n",
       "      <td>0.301455</td>\n",
       "      <td>0.786</td>\n",
       "      <td>0.738</td>\n",
       "      <td>0.841</td>\n",
       "      <td>0.976661</td>\n",
       "    </tr>\n",
       "    <tr>\n",
       "      <th>2</th>\n",
       "      <td>2 - TfidfTransformer(norm='l1', use_idf=True, ...</td>\n",
       "      <td>0.284152</td>\n",
       "      <td>0.793</td>\n",
       "      <td>0.731</td>\n",
       "      <td>0.865</td>\n",
       "      <td>0.977508</td>\n",
       "    </tr>\n",
       "    <tr>\n",
       "      <th>3</th>\n",
       "      <td>2 - TfidfTransformer(norm='l1', use_idf=False,...</td>\n",
       "      <td>0.335637</td>\n",
       "      <td>0.782</td>\n",
       "      <td>0.761</td>\n",
       "      <td>0.804</td>\n",
       "      <td>0.972419</td>\n",
       "    </tr>\n",
       "  </tbody>\n",
       "</table>\n",
       "</div>"
      ],
      "text/plain": [
       "                                          Count type  Threshold  F-Score  \\\n",
       "0                             2 - TfidfTransformer()   0.314315    0.583   \n",
       "1                    2 - TfidfTransformer(norm='l1')   0.301455    0.786   \n",
       "2  2 - TfidfTransformer(norm='l1', use_idf=True, ...   0.284152    0.793   \n",
       "3  2 - TfidfTransformer(norm='l1', use_idf=False,...   0.335637    0.782   \n",
       "\n",
       "   Precision  Recall  roc_auc_score  \n",
       "0      0.532   0.645       0.973271  \n",
       "1      0.738   0.841       0.976661  \n",
       "2      0.731   0.865       0.977508  \n",
       "3      0.761   0.804       0.972419  "
      ]
     },
     "execution_count": 602,
     "metadata": {},
     "output_type": "execute_result"
    }
   ],
   "source": [
    "df3 = pd.DataFrame(data3, columns=cols)\n",
    "df3"
   ]
  },
  {
   "cell_type": "markdown",
   "metadata": {},
   "source": [
    "Ркзультаты получились даже лучше, чем со взвешиванием всех новостей."
   ]
  },
  {
   "cell_type": "code",
   "execution_count": 603,
   "metadata": {},
   "outputs": [
    {
     "data": {
      "text/plain": [
       "(0.9732705389848247, 0.973800802372231, 0.9775079946508518)"
      ]
     },
     "execution_count": 603,
     "metadata": {},
     "output_type": "execute_result"
    }
   ],
   "source": [
    "df1['roc_auc_score'].max(), df2['roc_auc_score'].max(), df3['roc_auc_score'].max()"
   ]
  },
  {
   "cell_type": "markdown",
   "metadata": {},
   "source": [
    "**Задание 5**"
   ]
  },
  {
   "cell_type": "code",
   "execution_count": 611,
   "metadata": {},
   "outputs": [
    {
     "data": {
      "text/html": [
       "<div>\n",
       "<style scoped>\n",
       "    .dataframe tbody tr th:only-of-type {\n",
       "        vertical-align: middle;\n",
       "    }\n",
       "\n",
       "    .dataframe tbody tr th {\n",
       "        vertical-align: top;\n",
       "    }\n",
       "\n",
       "    .dataframe thead th {\n",
       "        text-align: right;\n",
       "    }\n",
       "</style>\n",
       "<table border=\"1\" class=\"dataframe\">\n",
       "  <thead>\n",
       "    <tr style=\"text-align: right;\">\n",
       "      <th></th>\n",
       "      <th>Count type</th>\n",
       "      <th>Threshold</th>\n",
       "      <th>F-Score</th>\n",
       "      <th>Precision</th>\n",
       "      <th>Recall</th>\n",
       "      <th>roc_auc_score</th>\n",
       "    </tr>\n",
       "  </thead>\n",
       "  <tbody>\n",
       "    <tr>\n",
       "      <th>0</th>\n",
       "      <td>np.mean (по умолчанию)</td>\n",
       "      <td>0.249248</td>\n",
       "      <td>0.667</td>\n",
       "      <td>0.580</td>\n",
       "      <td>0.784</td>\n",
       "      <td>0.936847</td>\n",
       "    </tr>\n",
       "    <tr>\n",
       "      <th>1</th>\n",
       "      <td>np.median</td>\n",
       "      <td>0.296594</td>\n",
       "      <td>0.740</td>\n",
       "      <td>0.688</td>\n",
       "      <td>0.800</td>\n",
       "      <td>0.959774</td>\n",
       "    </tr>\n",
       "    <tr>\n",
       "      <th>2</th>\n",
       "      <td>np.min</td>\n",
       "      <td>0.170139</td>\n",
       "      <td>0.517</td>\n",
       "      <td>0.508</td>\n",
       "      <td>0.527</td>\n",
       "      <td>0.859998</td>\n",
       "    </tr>\n",
       "    <tr>\n",
       "      <th>3</th>\n",
       "      <td>np.max</td>\n",
       "      <td>0.338495</td>\n",
       "      <td>0.786</td>\n",
       "      <td>0.772</td>\n",
       "      <td>0.800</td>\n",
       "      <td>0.973271</td>\n",
       "    </tr>\n",
       "    <tr>\n",
       "      <th>4</th>\n",
       "      <td>2 - TfidfTransformer()</td>\n",
       "      <td>0.314315</td>\n",
       "      <td>0.583</td>\n",
       "      <td>0.532</td>\n",
       "      <td>0.645</td>\n",
       "      <td>0.973271</td>\n",
       "    </tr>\n",
       "    <tr>\n",
       "      <th>5</th>\n",
       "      <td>2 - TfidfTransformer(norm='l1')</td>\n",
       "      <td>0.301455</td>\n",
       "      <td>0.786</td>\n",
       "      <td>0.738</td>\n",
       "      <td>0.841</td>\n",
       "      <td>0.976661</td>\n",
       "    </tr>\n",
       "    <tr>\n",
       "      <th>6</th>\n",
       "      <td>2 - TfidfTransformer(norm='l1', use_idf=True, ...</td>\n",
       "      <td>0.284152</td>\n",
       "      <td>0.793</td>\n",
       "      <td>0.731</td>\n",
       "      <td>0.865</td>\n",
       "      <td>0.977508</td>\n",
       "    </tr>\n",
       "    <tr>\n",
       "      <th>7</th>\n",
       "      <td>2 - TfidfTransformer(norm='l1', use_idf=False,...</td>\n",
       "      <td>0.335637</td>\n",
       "      <td>0.782</td>\n",
       "      <td>0.761</td>\n",
       "      <td>0.804</td>\n",
       "      <td>0.972419</td>\n",
       "    </tr>\n",
       "  </tbody>\n",
       "</table>\n",
       "</div>"
      ],
      "text/plain": [
       "                                          Count type  Threshold  F-Score  \\\n",
       "0                             np.mean (по умолчанию)   0.249248    0.667   \n",
       "1                                          np.median   0.296594    0.740   \n",
       "2                                             np.min   0.170139    0.517   \n",
       "3                                             np.max   0.338495    0.786   \n",
       "4                             2 - TfidfTransformer()   0.314315    0.583   \n",
       "5                    2 - TfidfTransformer(norm='l1')   0.301455    0.786   \n",
       "6  2 - TfidfTransformer(norm='l1', use_idf=True, ...   0.284152    0.793   \n",
       "7  2 - TfidfTransformer(norm='l1', use_idf=False,...   0.335637    0.782   \n",
       "\n",
       "   Precision  Recall  roc_auc_score  \n",
       "0      0.580   0.784       0.936847  \n",
       "1      0.688   0.800       0.959774  \n",
       "2      0.508   0.527       0.859998  \n",
       "3      0.772   0.800       0.973271  \n",
       "4      0.532   0.645       0.973271  \n",
       "5      0.738   0.841       0.976661  \n",
       "6      0.731   0.865       0.977508  \n",
       "7      0.761   0.804       0.972419  "
      ]
     },
     "execution_count": 611,
     "metadata": {},
     "output_type": "execute_result"
    }
   ],
   "source": [
    "df = df1.append(df2, ignore_index=True)\n",
    "df = df1.append(df3, ignore_index=True)\n",
    "df"
   ]
  },
  {
   "cell_type": "code",
   "execution_count": 614,
   "metadata": {},
   "outputs": [
    {
     "data": {
      "text/html": [
       "<div>\n",
       "<style scoped>\n",
       "    .dataframe tbody tr th:only-of-type {\n",
       "        vertical-align: middle;\n",
       "    }\n",
       "\n",
       "    .dataframe tbody tr th {\n",
       "        vertical-align: top;\n",
       "    }\n",
       "\n",
       "    .dataframe thead th {\n",
       "        text-align: right;\n",
       "    }\n",
       "</style>\n",
       "<table border=\"1\" class=\"dataframe\">\n",
       "  <thead>\n",
       "    <tr style=\"text-align: right;\">\n",
       "      <th></th>\n",
       "      <th>Count type</th>\n",
       "      <th>Threshold</th>\n",
       "      <th>F-Score</th>\n",
       "      <th>Precision</th>\n",
       "      <th>Recall</th>\n",
       "      <th>roc_auc_score</th>\n",
       "    </tr>\n",
       "  </thead>\n",
       "  <tbody>\n",
       "    <tr>\n",
       "      <th>6</th>\n",
       "      <td>2 - TfidfTransformer(norm='l1', use_idf=True, ...</td>\n",
       "      <td>0.284152</td>\n",
       "      <td>0.793</td>\n",
       "      <td>0.731</td>\n",
       "      <td>0.865</td>\n",
       "      <td>0.977508</td>\n",
       "    </tr>\n",
       "  </tbody>\n",
       "</table>\n",
       "</div>"
      ],
      "text/plain": [
       "                                          Count type  Threshold  F-Score  \\\n",
       "6  2 - TfidfTransformer(norm='l1', use_idf=True, ...   0.284152    0.793   \n",
       "\n",
       "   Precision  Recall  roc_auc_score  \n",
       "6      0.731   0.865       0.977508  "
      ]
     },
     "execution_count": 614,
     "metadata": {},
     "output_type": "execute_result"
    }
   ],
   "source": [
    "# Лучший результат\n",
    "df.loc[df['roc_auc_score'] == df['roc_auc_score'].max()]"
   ]
  },
  {
   "cell_type": "markdown",
   "metadata": {},
   "source": [
    "**Задание 6**"
   ]
  },
  {
   "cell_type": "markdown",
   "metadata": {},
   "source": [
    "Наилучший результат показал вариант со взвешиванием user_vector с помощью TfidfTransformer() и выбором итогового максимума принадлежности к теме. Думаю, что подобный результат получен, т.к. для каждого конкретного пользователя имееют важность только те статьи (на соотвтествующие темы), которые он прочитал, а не все статьи, которые имеются в выборке. Т.е. свой выбор покинуть ресурс или остаться он делал именно на основании тех статей, которые он прочитал по интересующим его тематикам."
   ]
  },
  {
   "cell_type": "code",
   "execution_count": null,
   "metadata": {},
   "outputs": [],
   "source": []
  }
 ],
 "metadata": {
  "kernelspec": {
   "display_name": "Python 3 (ipykernel)",
   "language": "python",
   "name": "python3"
  },
  "language_info": {
   "codemirror_mode": {
    "name": "ipython",
    "version": 3
   },
   "file_extension": ".py",
   "mimetype": "text/x-python",
   "name": "python",
   "nbconvert_exporter": "python",
   "pygments_lexer": "ipython3",
   "version": "3.9.7"
  }
 },
 "nbformat": 4,
 "nbformat_minor": 2
}
