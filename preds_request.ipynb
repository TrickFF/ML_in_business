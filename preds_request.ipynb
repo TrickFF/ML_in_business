{
 "cells": [
  {
   "cell_type": "code",
   "execution_count": 73,
   "metadata": {},
   "outputs": [],
   "source": [
    "import pandas as pd\n",
    "import urllib.request\n",
    "import json"
   ]
  },
  {
   "cell_type": "code",
   "execution_count": 75,
   "metadata": {},
   "outputs": [],
   "source": [
    "def get_prediction(title, content):\n",
    "    body = {'title': title, 'content': content} \n",
    "\n",
    "    myurl = \"http://127.0.0.1:8180/predict\" # IP и порт нужно заменить на указанные в файле run_server.php\n",
    "    req = urllib.request.Request(myurl)\n",
    "    req.add_header('Content-Type', 'application/json; charset=utf-8')\n",
    "    jsondata = json.dumps(body)\n",
    "    jsondataasbytes = jsondata.encode('utf-8')   # needs to be bytes\n",
    "    req.add_header('Content-Length', len(jsondataasbytes))\n",
    "    response = urllib.request.urlopen(req, jsondataasbytes)\n",
    "    return json.loads(response.read())['predictions']"
   ]
  },
  {
   "cell_type": "markdown",
   "metadata": {},
   "source": [
    "Получение предсказания категории заявки по отдельным строковым переменным"
   ]
  },
  {
   "cell_type": "code",
   "execution_count": 76,
   "metadata": {},
   "outputs": [
    {
     "data": {
      "text/plain": [
       "2"
      ]
     },
     "execution_count": 76,
     "metadata": {},
     "output_type": "execute_result"
    }
   ],
   "source": [
    "title1 = 'Срочно! Не печатает принтер из 1с!'\n",
    "content1 = 'Не печатает принтер. Пробовали перезагружать, лампочки моргают, но печать не идет!'\n",
    "get_prediction(title1, content1)"
   ]
  },
  {
   "cell_type": "code",
   "execution_count": 77,
   "metadata": {},
   "outputs": [
    {
     "data": {
      "text/plain": [
       "4"
      ]
     },
     "execution_count": 77,
     "metadata": {},
     "output_type": "execute_result"
    }
   ],
   "source": [
    "title2 = 'Не работает 1С'\n",
    "content2 = '1с постоянно вылетает с ошибкой и очень тормозит'\n",
    "get_prediction(title2, content2)"
   ]
  },
  {
   "cell_type": "code",
   "execution_count": 78,
   "metadata": {},
   "outputs": [
    {
     "data": {
      "text/plain": [
       "1"
      ]
     },
     "execution_count": 78,
     "metadata": {},
     "output_type": "execute_result"
    }
   ],
   "source": [
    "title3 = 'Активация винды'\n",
    "content3 = 'Срочно! Всплывает окно и требует активацию! Очень мешает работать!'\n",
    "get_prediction(title3, content3)"
   ]
  },
  {
   "cell_type": "code",
   "execution_count": 79,
   "metadata": {},
   "outputs": [
    {
     "data": {
      "text/plain": [
       "9"
      ]
     },
     "execution_count": 79,
     "metadata": {},
     "output_type": "execute_result"
    }
   ],
   "source": [
    "title4 = 'Тормозит эксель'\n",
    "content4 = 'Файлы в excel очень долго открываются, помогите!'\n",
    "get_prediction(title4, content4)"
   ]
  },
  {
   "cell_type": "markdown",
   "metadata": {},
   "source": [
    "Получение предсказания категории заявки итеративно из DataFrame"
   ]
  },
  {
   "cell_type": "code",
   "execution_count": 80,
   "metadata": {},
   "outputs": [
    {
     "data": {
      "text/html": [
       "<div>\n",
       "<style scoped>\n",
       "    .dataframe tbody tr th:only-of-type {\n",
       "        vertical-align: middle;\n",
       "    }\n",
       "\n",
       "    .dataframe tbody tr th {\n",
       "        vertical-align: top;\n",
       "    }\n",
       "\n",
       "    .dataframe thead th {\n",
       "        text-align: right;\n",
       "    }\n",
       "</style>\n",
       "<table border=\"1\" class=\"dataframe\">\n",
       "  <thead>\n",
       "    <tr style=\"text-align: right;\">\n",
       "      <th></th>\n",
       "      <th>ID</th>\n",
       "      <th>username</th>\n",
       "      <th>company</th>\n",
       "      <th>title</th>\n",
       "      <th>content</th>\n",
       "    </tr>\n",
       "  </thead>\n",
       "  <tbody>\n",
       "    <tr>\n",
       "      <th>0</th>\n",
       "      <td>156784</td>\n",
       "      <td>test_user1</td>\n",
       "      <td>test_company1</td>\n",
       "      <td>Срочно! Не печатает принтер из 1с!</td>\n",
       "      <td>Не печатает принтер. Пробовали перезагружать, ...</td>\n",
       "    </tr>\n",
       "    <tr>\n",
       "      <th>1</th>\n",
       "      <td>155247</td>\n",
       "      <td>test_user2</td>\n",
       "      <td>test_company2</td>\n",
       "      <td>Не работает 1С</td>\n",
       "      <td>1с постоянно вылетает с ошибкой и очень тормозит</td>\n",
       "    </tr>\n",
       "    <tr>\n",
       "      <th>2</th>\n",
       "      <td>134921</td>\n",
       "      <td>test_user3</td>\n",
       "      <td>test_company3</td>\n",
       "      <td>Активация винды</td>\n",
       "      <td>Срочно! Всплывает окно и требует активацию! Оч...</td>\n",
       "    </tr>\n",
       "    <tr>\n",
       "      <th>3</th>\n",
       "      <td>161329</td>\n",
       "      <td>test_user4</td>\n",
       "      <td>test_company4</td>\n",
       "      <td>Тормозит эксель</td>\n",
       "      <td>Файлы в excel очень долго открываются, помогите!</td>\n",
       "    </tr>\n",
       "  </tbody>\n",
       "</table>\n",
       "</div>"
      ],
      "text/plain": [
       "       ID    username        company                               title  \\\n",
       "0  156784  test_user1  test_company1  Срочно! Не печатает принтер из 1с!   \n",
       "1  155247  test_user2  test_company2                      Не работает 1С   \n",
       "2  134921  test_user3  test_company3                     Активация винды   \n",
       "3  161329  test_user4  test_company4                     Тормозит эксель   \n",
       "\n",
       "                                             content  \n",
       "0  Не печатает принтер. Пробовали перезагружать, ...  \n",
       "1   1с постоянно вылетает с ошибкой и очень тормозит  \n",
       "2  Срочно! Всплывает окно и требует активацию! Оч...  \n",
       "3   Файлы в excel очень долго открываются, помогите!  "
      ]
     },
     "execution_count": 80,
     "metadata": {},
     "output_type": "execute_result"
    }
   ],
   "source": [
    "data = {'ID': [156784, 155247, 134921, 161329],\n",
    "        'username': ['test_user1', 'test_user2', 'test_user3', 'test_user4'], \n",
    "        'company': ['test_company1', 'test_company2', 'test_company3', 'test_company4'], \n",
    "        'title': [title1, title2, title3, title4],\n",
    "        'content': [content1, content2, content3, content4]}\n",
    "df = pd.DataFrame.from_dict(data)\n",
    "df"
   ]
  },
  {
   "cell_type": "code",
   "execution_count": 81,
   "metadata": {},
   "outputs": [
    {
     "name": "stdout",
     "output_type": "stream",
     "text": [
      "156784 2\n",
      "155247 4\n",
      "134921 1\n",
      "161329 9\n"
     ]
    }
   ],
   "source": [
    "for i, data in df.iterrows(): \n",
    "    print(data['ID'], get_prediction(data['title'], data['content']))"
   ]
  },
  {
   "cell_type": "code",
   "execution_count": null,
   "metadata": {},
   "outputs": [],
   "source": []
  }
 ],
 "metadata": {
  "kernelspec": {
   "display_name": "Python 3 (ipykernel)",
   "language": "python",
   "name": "python3"
  },
  "language_info": {
   "codemirror_mode": {
    "name": "ipython",
    "version": 3
   },
   "file_extension": ".py",
   "mimetype": "text/x-python",
   "name": "python",
   "nbconvert_exporter": "python",
   "pygments_lexer": "ipython3",
   "version": "3.9.7"
  }
 },
 "nbformat": 4,
 "nbformat_minor": 2
}
