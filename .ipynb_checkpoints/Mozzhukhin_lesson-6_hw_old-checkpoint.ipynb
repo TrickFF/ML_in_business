{
 "cells": [
  {
   "cell_type": "markdown",
   "metadata": {},
   "source": [
    "##### Задание 1\n",
    "взять любой набор данных для бинарной классификации (можно скачать один из модельных с https://archive.ics.uci.edu/ml/datasets.php)"
   ]
  },
  {
   "cell_type": "markdown",
   "metadata": {},
   "source": [
    "Датасет банковских транзакций, часть из которых мошеннические\n",
    "\n",
    "Описание данных - https://www.kaggle.com/datasets/vardhansiramdasu/fraudulent-transactions-prediction"
   ]
  },
  {
   "cell_type": "markdown",
   "metadata": {},
   "source": [
    "В домашней работе использую неполный датасет. Большая часть данных, не являющихся мошенническими операциями, удалена. Оставил данные в соотношении 1 к 3 мошеннических транзакций к легальным. Это сделано из соображений балансировки данных и сокращения размера csv файла"
   ]
  },
  {
   "cell_type": "code",
   "execution_count": 24,
   "metadata": {},
   "outputs": [
    {
     "data": {
      "text/html": [
       "<div>\n",
       "<style scoped>\n",
       "    .dataframe tbody tr th:only-of-type {\n",
       "        vertical-align: middle;\n",
       "    }\n",
       "\n",
       "    .dataframe tbody tr th {\n",
       "        vertical-align: top;\n",
       "    }\n",
       "\n",
       "    .dataframe thead th {\n",
       "        text-align: right;\n",
       "    }\n",
       "</style>\n",
       "<table border=\"1\" class=\"dataframe\">\n",
       "  <thead>\n",
       "    <tr style=\"text-align: right;\">\n",
       "      <th></th>\n",
       "      <th>step</th>\n",
       "      <th>type</th>\n",
       "      <th>amount</th>\n",
       "      <th>nameOrig</th>\n",
       "      <th>oldbalanceOrg</th>\n",
       "      <th>newbalanceOrig</th>\n",
       "      <th>nameDest</th>\n",
       "      <th>oldbalanceDest</th>\n",
       "      <th>newbalanceDest</th>\n",
       "      <th>isFraud</th>\n",
       "      <th>isFlaggedFraud</th>\n",
       "    </tr>\n",
       "  </thead>\n",
       "  <tbody>\n",
       "    <tr>\n",
       "      <th>0</th>\n",
       "      <td>7</td>\n",
       "      <td>CASH_IN</td>\n",
       "      <td>111324.20</td>\n",
       "      <td>C926922342</td>\n",
       "      <td>4490417.58</td>\n",
       "      <td>4601741.78</td>\n",
       "      <td>C1182908789</td>\n",
       "      <td>135698.74</td>\n",
       "      <td>24374.54</td>\n",
       "      <td>0</td>\n",
       "      <td>0</td>\n",
       "    </tr>\n",
       "    <tr>\n",
       "      <th>1</th>\n",
       "      <td>19</td>\n",
       "      <td>CASH_OUT</td>\n",
       "      <td>143660.11</td>\n",
       "      <td>C681501417</td>\n",
       "      <td>143660.11</td>\n",
       "      <td>0.00</td>\n",
       "      <td>C447183071</td>\n",
       "      <td>0.00</td>\n",
       "      <td>143660.11</td>\n",
       "      <td>1</td>\n",
       "      <td>0</td>\n",
       "    </tr>\n",
       "    <tr>\n",
       "      <th>2</th>\n",
       "      <td>8</td>\n",
       "      <td>CASH_OUT</td>\n",
       "      <td>236104.53</td>\n",
       "      <td>C1000303171</td>\n",
       "      <td>45802.00</td>\n",
       "      <td>0.00</td>\n",
       "      <td>C1374917762</td>\n",
       "      <td>0.00</td>\n",
       "      <td>82985.37</td>\n",
       "      <td>0</td>\n",
       "      <td>0</td>\n",
       "    </tr>\n",
       "  </tbody>\n",
       "</table>\n",
       "</div>"
      ],
      "text/plain": [
       "   step      type     amount     nameOrig  oldbalanceOrg  newbalanceOrig  \\\n",
       "0     7   CASH_IN  111324.20   C926922342     4490417.58      4601741.78   \n",
       "1    19  CASH_OUT  143660.11   C681501417      143660.11            0.00   \n",
       "2     8  CASH_OUT  236104.53  C1000303171       45802.00            0.00   \n",
       "\n",
       "      nameDest  oldbalanceDest  newbalanceDest  isFraud  isFlaggedFraud  \n",
       "0  C1182908789       135698.74        24374.54        0               0  \n",
       "1   C447183071            0.00       143660.11        1               0  \n",
       "2  C1374917762            0.00        82985.37        0               0  "
      ]
     },
     "execution_count": 24,
     "metadata": {},
     "output_type": "execute_result"
    }
   ],
   "source": [
    "import pandas as pd\n",
    "import numpy as np\n",
    "data = pd.read_csv(\"fraud_balanced.csv\")\n",
    "data.head(3)"
   ]
  },
  {
   "cell_type": "markdown",
   "metadata": {},
   "source": [
    "About Dataset\n",
    "1. step - maps a unit of time in the real world. In this case 1 step is 1 hour of time. Total steps 744 (30 days simulation).\n",
    "2. type - CASH-IN, CASH-OUT, DEBIT, PAYMENT and TRANSFER.\n",
    "3. amount - amount of the transaction in local currency.\n",
    "4. nameOrig - customer who started the transaction\n",
    "5. oldbalanceOrg - initial balance before the transaction\n",
    "6. newbalanceOrig - new balance after the transaction\n",
    "7. nameDest - customer who is the recipient of the transaction\n",
    "8. oldbalanceDest - initial balance recipient before the transaction. Note that there is not information for customers that start with M (Merchants).\n",
    "9. newbalanceDest - new balance recipient after the transaction. Note that there is not information for customers that start with M (Merchants).\n",
    "10. isFraud - This is the transactions made by the fraudulent agents inside the simulation. In this specific dataset the fraudulent behavior of the agents aims to profit by taking control or customers accounts and try to empty the funds by transferring to another account and then cashing out of the system.\n",
    "11. isFlaggedFraud - The business model aims to control massive transfers from one account to another and flags illegal attempts. An illegal attempt in this dataset is an attempt to transfer more than 200.000 in a single transaction."
   ]
  },
  {
   "cell_type": "markdown",
   "metadata": {},
   "source": [
    "В датасете 4 категориальных признака, 5 числовых 1 целевая переменная isFraud, а также признак isFlaggedFraud, который можно также рассматривать, как целевой. Признак isFlaggedFraud удалим из датасета, т.к. будем работать со всеми мошенническими рперациями, а не только с теми, которые пометил банк. Также удалим поле step, т.к. взята только часть полного датасета"
   ]
  },
  {
   "cell_type": "code",
   "execution_count": 25,
   "metadata": {},
   "outputs": [
    {
     "name": "stdout",
     "output_type": "stream",
     "text": [
      "(32772, 11)\n"
     ]
    }
   ],
   "source": [
    "print(data.shape)"
   ]
  },
  {
   "cell_type": "code",
   "execution_count": 26,
   "metadata": {},
   "outputs": [
    {
     "name": "stderr",
     "output_type": "stream",
     "text": [
      "C:\\Users\\ENERGI~1\\AppData\\Local\\Temp/ipykernel_15008/2857393272.py:1: FutureWarning: In a future version of pandas all arguments of DataFrame.drop except for the argument 'labels' will be keyword-only\n",
      "  data = data.drop(['step', 'isFlaggedFraud'], 1)\n"
     ]
    },
    {
     "data": {
      "text/html": [
       "<div>\n",
       "<style scoped>\n",
       "    .dataframe tbody tr th:only-of-type {\n",
       "        vertical-align: middle;\n",
       "    }\n",
       "\n",
       "    .dataframe tbody tr th {\n",
       "        vertical-align: top;\n",
       "    }\n",
       "\n",
       "    .dataframe thead th {\n",
       "        text-align: right;\n",
       "    }\n",
       "</style>\n",
       "<table border=\"1\" class=\"dataframe\">\n",
       "  <thead>\n",
       "    <tr style=\"text-align: right;\">\n",
       "      <th></th>\n",
       "      <th>type</th>\n",
       "      <th>amount</th>\n",
       "      <th>nameOrig</th>\n",
       "      <th>oldbalanceOrg</th>\n",
       "      <th>newbalanceOrig</th>\n",
       "      <th>nameDest</th>\n",
       "      <th>oldbalanceDest</th>\n",
       "      <th>newbalanceDest</th>\n",
       "      <th>isFraud</th>\n",
       "    </tr>\n",
       "  </thead>\n",
       "  <tbody>\n",
       "    <tr>\n",
       "      <th>0</th>\n",
       "      <td>CASH_IN</td>\n",
       "      <td>111324.20</td>\n",
       "      <td>C926922342</td>\n",
       "      <td>4490417.58</td>\n",
       "      <td>4601741.78</td>\n",
       "      <td>C1182908789</td>\n",
       "      <td>135698.74</td>\n",
       "      <td>24374.54</td>\n",
       "      <td>0</td>\n",
       "    </tr>\n",
       "    <tr>\n",
       "      <th>1</th>\n",
       "      <td>CASH_OUT</td>\n",
       "      <td>143660.11</td>\n",
       "      <td>C681501417</td>\n",
       "      <td>143660.11</td>\n",
       "      <td>0.00</td>\n",
       "      <td>C447183071</td>\n",
       "      <td>0.00</td>\n",
       "      <td>143660.11</td>\n",
       "      <td>1</td>\n",
       "    </tr>\n",
       "    <tr>\n",
       "      <th>2</th>\n",
       "      <td>CASH_OUT</td>\n",
       "      <td>236104.53</td>\n",
       "      <td>C1000303171</td>\n",
       "      <td>45802.00</td>\n",
       "      <td>0.00</td>\n",
       "      <td>C1374917762</td>\n",
       "      <td>0.00</td>\n",
       "      <td>82985.37</td>\n",
       "      <td>0</td>\n",
       "    </tr>\n",
       "  </tbody>\n",
       "</table>\n",
       "</div>"
      ],
      "text/plain": [
       "       type     amount     nameOrig  oldbalanceOrg  newbalanceOrig  \\\n",
       "0   CASH_IN  111324.20   C926922342     4490417.58      4601741.78   \n",
       "1  CASH_OUT  143660.11   C681501417      143660.11            0.00   \n",
       "2  CASH_OUT  236104.53  C1000303171       45802.00            0.00   \n",
       "\n",
       "      nameDest  oldbalanceDest  newbalanceDest  isFraud  \n",
       "0  C1182908789       135698.74        24374.54        0  \n",
       "1   C447183071            0.00       143660.11        1  \n",
       "2  C1374917762            0.00        82985.37        0  "
      ]
     },
     "execution_count": 26,
     "metadata": {},
     "output_type": "execute_result"
    }
   ],
   "source": [
    "data = data.drop(['step', 'isFlaggedFraud'], 1)\n",
    "data.head(3)"
   ]
  },
  {
   "cell_type": "markdown",
   "metadata": {},
   "source": [
    "Посмотрим на соотношение классов"
   ]
  },
  {
   "cell_type": "code",
   "execution_count": 27,
   "metadata": {},
   "outputs": [
    {
     "data": {
      "text/plain": [
       "0    24559\n",
       "1     8213\n",
       "Name: isFraud, dtype: int64"
      ]
     },
     "execution_count": 27,
     "metadata": {},
     "output_type": "execute_result"
    }
   ],
   "source": [
    "data.iloc[:, -1].value_counts()"
   ]
  },
  {
   "cell_type": "markdown",
   "metadata": {},
   "source": [
    "##### Задание 2\n",
    "сделать feature engineering"
   ]
  },
  {
   "cell_type": "markdown",
   "metadata": {},
   "source": [
    "Будем использовать модель Catboost Classification, поэтому признаки не трогаем"
   ]
  },
  {
   "cell_type": "markdown",
   "metadata": {},
   "source": [
    "Разбиваем выборку на тренировочную и тестовую части"
   ]
  },
  {
   "cell_type": "code",
   "execution_count": 28,
   "metadata": {},
   "outputs": [],
   "source": [
    "from sklearn.model_selection import train_test_split\n",
    "\n",
    "x_data = data.iloc[:,:-1]\n",
    "y_data = data.iloc[:,-1]\n",
    "\n",
    "x_train, x_test, y_train, y_test = train_test_split(x_data, y_data, test_size=0.2, random_state=42)"
   ]
  },
  {
   "cell_type": "markdown",
   "metadata": {},
   "source": [
    "##### Задание 3\n",
    "обучить любой классификатор (какой вам нравится)"
   ]
  },
  {
   "cell_type": "code",
   "execution_count": 29,
   "metadata": {},
   "outputs": [],
   "source": [
    "import catboost as ctb\n",
    "\n",
    "cat_features = ['type', 'nameOrig', 'nameDest']\n",
    "model = ctb.CatBoostClassifier(random_state=42, silent=True, cat_features=cat_features)\n",
    "model.fit(x_train, y_train)\n",
    "\n",
    "y_predict = model.predict(x_test)"
   ]
  },
  {
   "cell_type": "markdown",
   "metadata": {},
   "source": [
    "Проверяем качество"
   ]
  },
  {
   "cell_type": "code",
   "execution_count": 30,
   "metadata": {},
   "outputs": [
    {
     "name": "stdout",
     "output_type": "stream",
     "text": [
      "F-Score=0.995, Precision=0.996, Recall=0.993, roc_auc_score=0.996, pr_auc=0.995\n"
     ]
    }
   ],
   "source": [
    "from sklearn.metrics import auc, f1_score, roc_auc_score, precision_score, classification_report, precision_recall_curve, confusion_matrix\n",
    "\n",
    "# Функция рассчета показателей и формирования словаря для датафрейма\n",
    "def get_metrics(learn_type, y_test, y_predict):\n",
    "    precision, recall, thresholds = precision_recall_curve(y_test, y_predict)\n",
    "\n",
    "    fscore = (2 * precision * recall) / (precision + recall)\n",
    "    # locate the index of the largest f score\n",
    "    ix = np.argmax(fscore)\n",
    "    print('F-Score=%.3f, Precision=%.3f, Recall=%.3f, roc_auc_score=%.3f, pr_auc=%.3f' % (\n",
    "        fscore[ix],\n",
    "        precision[ix],\n",
    "        recall[ix],\n",
    "        roc_auc_score(y_test, y_predict), \n",
    "        auc(recall, precision)))\n",
    "    \n",
    "    data = {'Learn type':learn_type,\n",
    "        'F-Score':fscore[ix],\n",
    "        'precision':precision[ix],\n",
    "        'recall':recall[ix], \n",
    "        'roc_auc_score':roc_auc_score(y_test, y_predict),\n",
    "        'pr_auc':auc(recall, precision)}\n",
    "    \n",
    "    return data\n",
    "\n",
    "stats = get_metrics('Standart', y_test, y_predict)\n",
    "stats_df = pd.DataFrame(stats, index=[0])"
   ]
  },
  {
   "cell_type": "markdown",
   "metadata": {},
   "source": [
    "##### Задание 4\n",
    "далее разделить ваш набор данных на два множества: P (positives) и U (unlabeled). Причем брать нужно не все положительные (класс 1) примеры, а только лишь часть"
   ]
  },
  {
   "cell_type": "code",
   "execution_count": 31,
   "metadata": {},
   "outputs": [],
   "source": [
    "def predsPU(part, cat_features):\n",
    "    mod_data = data.copy()\n",
    "    #get the indices of the positives samples\n",
    "    pos_ind = np.where(mod_data.iloc[:,-1].values == 1)[0]\n",
    "    #shuffle them\n",
    "    np.random.shuffle(pos_ind)\n",
    "    # leave just 25% of the positives marked\n",
    "    pos_sample_len = int(np.ceil(part * len(pos_ind)))\n",
    "    print(f'Using {pos_sample_len}/{len(pos_ind)} as positives and unlabeling the rest')\n",
    "    pos_sample = pos_ind[:pos_sample_len]\n",
    "    \n",
    "    \n",
    "    # Создаем столбец для новой целевой переменной, где у нас два класса - P (1) и U (-1)\n",
    "    mod_data['class_test'] = -1\n",
    "    mod_data.loc[pos_sample,'class_test'] = 1\n",
    "    print('target variable:\\n', mod_data.iloc[:,-1].value_counts())\n",
    "    \n",
    "    x_data = mod_data.iloc[:,:-2].values # just the X \n",
    "    y_labeled = mod_data.iloc[:,-1].values # new class (just the P & U)\n",
    "    y_positive = mod_data.iloc[:,-2].values # original class\n",
    "    \n",
    "    '''\n",
    "    Задание 5\n",
    "    \n",
    "    применить random negative sampling для построения классификатора в новых условиях\n",
    "    '''\n",
    "    \n",
    "    mod_data = mod_data.sample(frac=1)\n",
    "    neg_sample = mod_data[mod_data['class_test']==-1][:len(mod_data[mod_data['class_test']==1])]\n",
    "    sample_test = mod_data[mod_data['class_test']==-1][len(mod_data[mod_data['class_test']==1]):]\n",
    "    pos_sample = mod_data[mod_data['class_test']==1]\n",
    "    print(neg_sample.shape, pos_sample.shape)\n",
    "    sample_train = pd.concat([neg_sample, pos_sample]).sample(frac=1)\n",
    "    \n",
    "    model = ctb.CatBoostClassifier(random_state=42, silent=True, cat_features=cat_features)\n",
    "\n",
    "    model.fit(sample_train.iloc[:,:-2], sample_train.iloc[:,-2])\n",
    "    y_predict = model.predict(sample_test.iloc[:,:-2])\n",
    "    \n",
    "    return y_predict"
   ]
  },
  {
   "cell_type": "code",
   "execution_count": 113,
   "metadata": {},
   "outputs": [
    {
     "name": "stdout",
     "output_type": "stream",
     "text": [
      "Using 1232/8213 as positives and unlabeling the rest\n"
     ]
    }
   ],
   "source": [
    "mod_data = data.copy()\n",
    "#get the indices of the positives samples\n",
    "pos_ind = np.where(mod_data.iloc[:,-1].values == 1)[0]\n",
    "#shuffle them\n",
    "np.random.shuffle(pos_ind)\n",
    "# leave just % of the positives marked\n",
    "part = 0.15\n",
    "pos_sample_len = int(np.ceil(part * len(pos_ind)))\n",
    "print(f'Using {pos_sample_len}/{len(pos_ind)} as positives and unlabeling the rest')\n",
    "pos_sample = pos_ind[:pos_sample_len]"
   ]
  },
  {
   "cell_type": "markdown",
   "metadata": {},
   "source": [
    "Создаем столбец для новой целевой переменной, где у нас два класса - P (1) и U (-1)"
   ]
  },
  {
   "cell_type": "code",
   "execution_count": 114,
   "metadata": {},
   "outputs": [
    {
     "name": "stdout",
     "output_type": "stream",
     "text": [
      "target variable:\n",
      " -1    31540\n",
      " 1     1232\n",
      "Name: class_test, dtype: int64\n"
     ]
    }
   ],
   "source": [
    "mod_data['class_test'] = -1\n",
    "mod_data.loc[pos_sample,'class_test'] = 1\n",
    "print('target variable:\\n', mod_data.iloc[:,-1].value_counts())"
   ]
  },
  {
   "cell_type": "code",
   "execution_count": 115,
   "metadata": {},
   "outputs": [
    {
     "data": {
      "text/html": [
       "<div>\n",
       "<style scoped>\n",
       "    .dataframe tbody tr th:only-of-type {\n",
       "        vertical-align: middle;\n",
       "    }\n",
       "\n",
       "    .dataframe tbody tr th {\n",
       "        vertical-align: top;\n",
       "    }\n",
       "\n",
       "    .dataframe thead th {\n",
       "        text-align: right;\n",
       "    }\n",
       "</style>\n",
       "<table border=\"1\" class=\"dataframe\">\n",
       "  <thead>\n",
       "    <tr style=\"text-align: right;\">\n",
       "      <th></th>\n",
       "      <th>type</th>\n",
       "      <th>amount</th>\n",
       "      <th>nameOrig</th>\n",
       "      <th>oldbalanceOrg</th>\n",
       "      <th>newbalanceOrig</th>\n",
       "      <th>nameDest</th>\n",
       "      <th>oldbalanceDest</th>\n",
       "      <th>newbalanceDest</th>\n",
       "      <th>isFraud</th>\n",
       "      <th>class_test</th>\n",
       "    </tr>\n",
       "  </thead>\n",
       "  <tbody>\n",
       "    <tr>\n",
       "      <th>0</th>\n",
       "      <td>CASH_IN</td>\n",
       "      <td>111324.20</td>\n",
       "      <td>C926922342</td>\n",
       "      <td>4490417.58</td>\n",
       "      <td>4601741.78</td>\n",
       "      <td>C1182908789</td>\n",
       "      <td>135698.74</td>\n",
       "      <td>24374.54</td>\n",
       "      <td>0</td>\n",
       "      <td>-1</td>\n",
       "    </tr>\n",
       "    <tr>\n",
       "      <th>1</th>\n",
       "      <td>CASH_OUT</td>\n",
       "      <td>143660.11</td>\n",
       "      <td>C681501417</td>\n",
       "      <td>143660.11</td>\n",
       "      <td>0.00</td>\n",
       "      <td>C447183071</td>\n",
       "      <td>0.00</td>\n",
       "      <td>143660.11</td>\n",
       "      <td>1</td>\n",
       "      <td>-1</td>\n",
       "    </tr>\n",
       "    <tr>\n",
       "      <th>2</th>\n",
       "      <td>CASH_OUT</td>\n",
       "      <td>236104.53</td>\n",
       "      <td>C1000303171</td>\n",
       "      <td>45802.00</td>\n",
       "      <td>0.00</td>\n",
       "      <td>C1374917762</td>\n",
       "      <td>0.00</td>\n",
       "      <td>82985.37</td>\n",
       "      <td>0</td>\n",
       "      <td>-1</td>\n",
       "    </tr>\n",
       "    <tr>\n",
       "      <th>3</th>\n",
       "      <td>TRANSFER</td>\n",
       "      <td>802467.59</td>\n",
       "      <td>C123135270</td>\n",
       "      <td>0.00</td>\n",
       "      <td>0.00</td>\n",
       "      <td>C849038219</td>\n",
       "      <td>1306658.95</td>\n",
       "      <td>1337271.15</td>\n",
       "      <td>0</td>\n",
       "      <td>-1</td>\n",
       "    </tr>\n",
       "    <tr>\n",
       "      <th>4</th>\n",
       "      <td>CASH_OUT</td>\n",
       "      <td>184847.10</td>\n",
       "      <td>C570720761</td>\n",
       "      <td>0.00</td>\n",
       "      <td>0.00</td>\n",
       "      <td>C580735116</td>\n",
       "      <td>321342.59</td>\n",
       "      <td>380765.41</td>\n",
       "      <td>0</td>\n",
       "      <td>-1</td>\n",
       "    </tr>\n",
       "    <tr>\n",
       "      <th>5</th>\n",
       "      <td>PAYMENT</td>\n",
       "      <td>8667.21</td>\n",
       "      <td>C14181307</td>\n",
       "      <td>0.00</td>\n",
       "      <td>0.00</td>\n",
       "      <td>M1995167125</td>\n",
       "      <td>0.00</td>\n",
       "      <td>0.00</td>\n",
       "      <td>0</td>\n",
       "      <td>-1</td>\n",
       "    </tr>\n",
       "    <tr>\n",
       "      <th>6</th>\n",
       "      <td>CASH_OUT</td>\n",
       "      <td>2100.00</td>\n",
       "      <td>C169099320</td>\n",
       "      <td>2100.00</td>\n",
       "      <td>0.00</td>\n",
       "      <td>C697156329</td>\n",
       "      <td>112512.48</td>\n",
       "      <td>114612.48</td>\n",
       "      <td>1</td>\n",
       "      <td>-1</td>\n",
       "    </tr>\n",
       "    <tr>\n",
       "      <th>7</th>\n",
       "      <td>PAYMENT</td>\n",
       "      <td>11839.82</td>\n",
       "      <td>C1664287883</td>\n",
       "      <td>119439.11</td>\n",
       "      <td>107599.29</td>\n",
       "      <td>M491210440</td>\n",
       "      <td>0.00</td>\n",
       "      <td>0.00</td>\n",
       "      <td>0</td>\n",
       "      <td>-1</td>\n",
       "    </tr>\n",
       "    <tr>\n",
       "      <th>8</th>\n",
       "      <td>PAYMENT</td>\n",
       "      <td>5427.59</td>\n",
       "      <td>C1630413241</td>\n",
       "      <td>6307.00</td>\n",
       "      <td>879.41</td>\n",
       "      <td>M808377204</td>\n",
       "      <td>0.00</td>\n",
       "      <td>0.00</td>\n",
       "      <td>0</td>\n",
       "      <td>-1</td>\n",
       "    </tr>\n",
       "    <tr>\n",
       "      <th>9</th>\n",
       "      <td>TRANSFER</td>\n",
       "      <td>342675.47</td>\n",
       "      <td>C1778106585</td>\n",
       "      <td>342675.47</td>\n",
       "      <td>0.00</td>\n",
       "      <td>C144558690</td>\n",
       "      <td>0.00</td>\n",
       "      <td>0.00</td>\n",
       "      <td>1</td>\n",
       "      <td>-1</td>\n",
       "    </tr>\n",
       "  </tbody>\n",
       "</table>\n",
       "</div>"
      ],
      "text/plain": [
       "       type     amount     nameOrig  oldbalanceOrg  newbalanceOrig  \\\n",
       "0   CASH_IN  111324.20   C926922342     4490417.58      4601741.78   \n",
       "1  CASH_OUT  143660.11   C681501417      143660.11            0.00   \n",
       "2  CASH_OUT  236104.53  C1000303171       45802.00            0.00   \n",
       "3  TRANSFER  802467.59   C123135270           0.00            0.00   \n",
       "4  CASH_OUT  184847.10   C570720761           0.00            0.00   \n",
       "5   PAYMENT    8667.21    C14181307           0.00            0.00   \n",
       "6  CASH_OUT    2100.00   C169099320        2100.00            0.00   \n",
       "7   PAYMENT   11839.82  C1664287883      119439.11       107599.29   \n",
       "8   PAYMENT    5427.59  C1630413241        6307.00          879.41   \n",
       "9  TRANSFER  342675.47  C1778106585      342675.47            0.00   \n",
       "\n",
       "      nameDest  oldbalanceDest  newbalanceDest  isFraud  class_test  \n",
       "0  C1182908789       135698.74        24374.54        0          -1  \n",
       "1   C447183071            0.00       143660.11        1          -1  \n",
       "2  C1374917762            0.00        82985.37        0          -1  \n",
       "3   C849038219      1306658.95      1337271.15        0          -1  \n",
       "4   C580735116       321342.59       380765.41        0          -1  \n",
       "5  M1995167125            0.00            0.00        0          -1  \n",
       "6   C697156329       112512.48       114612.48        1          -1  \n",
       "7   M491210440            0.00            0.00        0          -1  \n",
       "8   M808377204            0.00            0.00        0          -1  \n",
       "9   C144558690            0.00            0.00        1          -1  "
      ]
     },
     "execution_count": 115,
     "metadata": {},
     "output_type": "execute_result"
    }
   ],
   "source": [
    "mod_data.head(10)"
   ]
  },
  {
   "cell_type": "code",
   "execution_count": 116,
   "metadata": {},
   "outputs": [],
   "source": [
    "x_data = mod_data.iloc[:,:-2].values # just the X \n",
    "y_labeled = mod_data.iloc[:,-1].values # new class (just the P & U)\n",
    "y_positive = mod_data.iloc[:,-2].values # original class"
   ]
  },
  {
   "cell_type": "markdown",
   "metadata": {},
   "source": [
    "##### Задание 5\n",
    "применить random negative sampling для построения классификатора в новых условиях"
   ]
  },
  {
   "cell_type": "code",
   "execution_count": 117,
   "metadata": {
    "scrolled": true
   },
   "outputs": [
    {
     "name": "stdout",
     "output_type": "stream",
     "text": [
      "(1232, 10) (1232, 10)\n"
     ]
    }
   ],
   "source": [
    "mod_data = mod_data.sample(frac=1)\n",
    "neg_sample = mod_data[mod_data['class_test']==-1][:len(mod_data[mod_data['class_test']==1])]\n",
    "sample_test = mod_data[mod_data['class_test']==-1][len(mod_data[mod_data['class_test']==1]):]\n",
    "pos_sample = mod_data[mod_data['class_test']==1]\n",
    "print(neg_sample.shape, pos_sample.shape)\n",
    "sample_train = pd.concat([neg_sample, pos_sample]).sample(frac=1)"
   ]
  },
  {
   "cell_type": "code",
   "execution_count": 118,
   "metadata": {},
   "outputs": [
    {
     "name": "stdout",
     "output_type": "stream",
     "text": [
      "F-Score=0.967, Precision=0.939, Recall=0.996, roc_auc_score=0.989, pr_auc=0.968\n"
     ]
    }
   ],
   "source": [
    "model = ctb.CatBoostClassifier(random_state=42, silent=True, cat_features=cat_features)\n",
    "\n",
    "model.fit(sample_train.iloc[:,:-2], sample_train.iloc[:,-2])\n",
    "y_predict = model.predict(sample_test.iloc[:,:-2])\n",
    "\n",
    "stats = get_metrics(f'PU {part}', sample_test.iloc[:,-2], y_predict)\n",
    "stats_df = stats_df.append(stats, ignore_index=True)"
   ]
  },
  {
   "cell_type": "markdown",
   "metadata": {},
   "source": [
    "##### Задание 6\n",
    "сравнить качество с решением из пункта 4 (построить отчет - таблицу метрик)"
   ]
  },
  {
   "cell_type": "code",
   "execution_count": 45,
   "metadata": {},
   "outputs": [
    {
     "data": {
      "text/html": [
       "<div>\n",
       "<style scoped>\n",
       "    .dataframe tbody tr th:only-of-type {\n",
       "        vertical-align: middle;\n",
       "    }\n",
       "\n",
       "    .dataframe tbody tr th {\n",
       "        vertical-align: top;\n",
       "    }\n",
       "\n",
       "    .dataframe thead th {\n",
       "        text-align: right;\n",
       "    }\n",
       "</style>\n",
       "<table border=\"1\" class=\"dataframe\">\n",
       "  <thead>\n",
       "    <tr style=\"text-align: right;\">\n",
       "      <th></th>\n",
       "      <th>Learn type</th>\n",
       "      <th>F-Score</th>\n",
       "      <th>precision</th>\n",
       "      <th>recall</th>\n",
       "      <th>roc_auc_score</th>\n",
       "      <th>pr_auc</th>\n",
       "    </tr>\n",
       "  </thead>\n",
       "  <tbody>\n",
       "    <tr>\n",
       "      <th>0</th>\n",
       "      <td>Standart</td>\n",
       "      <td>0.994620</td>\n",
       "      <td>0.995811</td>\n",
       "      <td>0.993433</td>\n",
       "      <td>0.995999</td>\n",
       "      <td>0.995461</td>\n",
       "    </tr>\n",
       "    <tr>\n",
       "      <th>1</th>\n",
       "      <td>PU 0.25</td>\n",
       "      <td>0.976090</td>\n",
       "      <td>0.956339</td>\n",
       "      <td>0.996675</td>\n",
       "      <td>0.992673</td>\n",
       "      <td>0.976838</td>\n",
       "    </tr>\n",
       "    <tr>\n",
       "      <th>2</th>\n",
       "      <td>PU 0.5</td>\n",
       "      <td>0.971421</td>\n",
       "      <td>0.947213</td>\n",
       "      <td>0.996898</td>\n",
       "      <td>0.993761</td>\n",
       "      <td>0.972280</td>\n",
       "    </tr>\n",
       "  </tbody>\n",
       "</table>\n",
       "</div>"
      ],
      "text/plain": [
       "  Learn type   F-Score  precision    recall  roc_auc_score    pr_auc\n",
       "0   Standart  0.994620   0.995811  0.993433       0.995999  0.995461\n",
       "1    PU 0.25  0.976090   0.956339  0.996675       0.992673  0.976838\n",
       "2     PU 0.5  0.971421   0.947213  0.996898       0.993761  0.972280"
      ]
     },
     "execution_count": 45,
     "metadata": {},
     "output_type": "execute_result"
    }
   ],
   "source": [
    "stats_df"
   ]
  },
  {
   "cell_type": "markdown",
   "metadata": {},
   "source": [
    "Стандартный вариант классификации показал более хорошие результаты"
   ]
  },
  {
   "cell_type": "markdown",
   "metadata": {},
   "source": [
    "##### Задание 7\n",
    "поэкспериментировать с долей P на шаге 5 (как будет меняться качество модели при уменьшении/увеличении размера P)"
   ]
  },
  {
   "cell_type": "markdown",
   "metadata": {},
   "source": [
    "Вернемся к шагу 4 и увеличим долю данных положительного класса до 0.5 (part = 0.5)"
   ]
  },
  {
   "cell_type": "code",
   "execution_count": 46,
   "metadata": {},
   "outputs": [
    {
     "data": {
      "text/html": [
       "<div>\n",
       "<style scoped>\n",
       "    .dataframe tbody tr th:only-of-type {\n",
       "        vertical-align: middle;\n",
       "    }\n",
       "\n",
       "    .dataframe tbody tr th {\n",
       "        vertical-align: top;\n",
       "    }\n",
       "\n",
       "    .dataframe thead th {\n",
       "        text-align: right;\n",
       "    }\n",
       "</style>\n",
       "<table border=\"1\" class=\"dataframe\">\n",
       "  <thead>\n",
       "    <tr style=\"text-align: right;\">\n",
       "      <th></th>\n",
       "      <th>Learn type</th>\n",
       "      <th>F-Score</th>\n",
       "      <th>precision</th>\n",
       "      <th>recall</th>\n",
       "      <th>roc_auc_score</th>\n",
       "      <th>pr_auc</th>\n",
       "    </tr>\n",
       "  </thead>\n",
       "  <tbody>\n",
       "    <tr>\n",
       "      <th>0</th>\n",
       "      <td>Standart</td>\n",
       "      <td>0.994620</td>\n",
       "      <td>0.995811</td>\n",
       "      <td>0.993433</td>\n",
       "      <td>0.995999</td>\n",
       "      <td>0.995461</td>\n",
       "    </tr>\n",
       "    <tr>\n",
       "      <th>1</th>\n",
       "      <td>PU 0.25</td>\n",
       "      <td>0.976090</td>\n",
       "      <td>0.956339</td>\n",
       "      <td>0.996675</td>\n",
       "      <td>0.992673</td>\n",
       "      <td>0.976838</td>\n",
       "    </tr>\n",
       "    <tr>\n",
       "      <th>2</th>\n",
       "      <td>PU 0.5</td>\n",
       "      <td>0.971421</td>\n",
       "      <td>0.947213</td>\n",
       "      <td>0.996898</td>\n",
       "      <td>0.993761</td>\n",
       "      <td>0.972280</td>\n",
       "    </tr>\n",
       "  </tbody>\n",
       "</table>\n",
       "</div>"
      ],
      "text/plain": [
       "  Learn type   F-Score  precision    recall  roc_auc_score    pr_auc\n",
       "0   Standart  0.994620   0.995811  0.993433       0.995999  0.995461\n",
       "1    PU 0.25  0.976090   0.956339  0.996675       0.992673  0.976838\n",
       "2     PU 0.5  0.971421   0.947213  0.996898       0.993761  0.972280"
      ]
     },
     "execution_count": 46,
     "metadata": {},
     "output_type": "execute_result"
    }
   ],
   "source": [
    "stats_df"
   ]
  },
  {
   "cell_type": "markdown",
   "metadata": {},
   "source": [
    "Точность улучшилась, но не существенно\n",
    "\n",
    "Попробуем взять 0.75"
   ]
  },
  {
   "cell_type": "code",
   "execution_count": 112,
   "metadata": {},
   "outputs": [
    {
     "data": {
      "text/html": [
       "<div>\n",
       "<style scoped>\n",
       "    .dataframe tbody tr th:only-of-type {\n",
       "        vertical-align: middle;\n",
       "    }\n",
       "\n",
       "    .dataframe tbody tr th {\n",
       "        vertical-align: top;\n",
       "    }\n",
       "\n",
       "    .dataframe thead th {\n",
       "        text-align: right;\n",
       "    }\n",
       "</style>\n",
       "<table border=\"1\" class=\"dataframe\">\n",
       "  <thead>\n",
       "    <tr style=\"text-align: right;\">\n",
       "      <th></th>\n",
       "      <th>Learn type</th>\n",
       "      <th>F-Score</th>\n",
       "      <th>precision</th>\n",
       "      <th>recall</th>\n",
       "      <th>roc_auc_score</th>\n",
       "      <th>pr_auc</th>\n",
       "    </tr>\n",
       "  </thead>\n",
       "  <tbody>\n",
       "    <tr>\n",
       "      <th>0</th>\n",
       "      <td>Standart</td>\n",
       "      <td>0.994620</td>\n",
       "      <td>0.995811</td>\n",
       "      <td>0.993433</td>\n",
       "      <td>0.995999</td>\n",
       "      <td>0.995461</td>\n",
       "    </tr>\n",
       "    <tr>\n",
       "      <th>1</th>\n",
       "      <td>PU 0.25</td>\n",
       "      <td>0.976090</td>\n",
       "      <td>0.956339</td>\n",
       "      <td>0.996675</td>\n",
       "      <td>0.992673</td>\n",
       "      <td>0.976838</td>\n",
       "    </tr>\n",
       "    <tr>\n",
       "      <th>2</th>\n",
       "      <td>PU 0.5</td>\n",
       "      <td>0.971421</td>\n",
       "      <td>0.947213</td>\n",
       "      <td>0.996898</td>\n",
       "      <td>0.993761</td>\n",
       "      <td>0.972280</td>\n",
       "    </tr>\n",
       "    <tr>\n",
       "      <th>3</th>\n",
       "      <td>PU 0.75</td>\n",
       "      <td>0.958459</td>\n",
       "      <td>0.924506</td>\n",
       "      <td>0.995000</td>\n",
       "      <td>0.994052</td>\n",
       "      <td>0.959949</td>\n",
       "    </tr>\n",
       "  </tbody>\n",
       "</table>\n",
       "</div>"
      ],
      "text/plain": [
       "  Learn type   F-Score  precision    recall  roc_auc_score    pr_auc\n",
       "0   Standart  0.994620   0.995811  0.993433       0.995999  0.995461\n",
       "1    PU 0.25  0.976090   0.956339  0.996675       0.992673  0.976838\n",
       "2     PU 0.5  0.971421   0.947213  0.996898       0.993761  0.972280\n",
       "3    PU 0.75  0.958459   0.924506  0.995000       0.994052  0.959949"
      ]
     },
     "execution_count": 112,
     "metadata": {},
     "output_type": "execute_result"
    }
   ],
   "source": [
    "stats_df"
   ]
  },
  {
   "cell_type": "markdown",
   "metadata": {},
   "source": [
    "Точность снизилась на порядок\n",
    "\n",
    "Для проверки попробуем взять part = 0.15"
   ]
  },
  {
   "cell_type": "code",
   "execution_count": 119,
   "metadata": {},
   "outputs": [
    {
     "data": {
      "text/html": [
       "<div>\n",
       "<style scoped>\n",
       "    .dataframe tbody tr th:only-of-type {\n",
       "        vertical-align: middle;\n",
       "    }\n",
       "\n",
       "    .dataframe tbody tr th {\n",
       "        vertical-align: top;\n",
       "    }\n",
       "\n",
       "    .dataframe thead th {\n",
       "        text-align: right;\n",
       "    }\n",
       "</style>\n",
       "<table border=\"1\" class=\"dataframe\">\n",
       "  <thead>\n",
       "    <tr style=\"text-align: right;\">\n",
       "      <th></th>\n",
       "      <th>Learn type</th>\n",
       "      <th>F-Score</th>\n",
       "      <th>precision</th>\n",
       "      <th>recall</th>\n",
       "      <th>roc_auc_score</th>\n",
       "      <th>pr_auc</th>\n",
       "    </tr>\n",
       "  </thead>\n",
       "  <tbody>\n",
       "    <tr>\n",
       "      <th>0</th>\n",
       "      <td>Standart</td>\n",
       "      <td>0.994620</td>\n",
       "      <td>0.995811</td>\n",
       "      <td>0.993433</td>\n",
       "      <td>0.995999</td>\n",
       "      <td>0.995461</td>\n",
       "    </tr>\n",
       "    <tr>\n",
       "      <th>1</th>\n",
       "      <td>PU 0.25</td>\n",
       "      <td>0.976090</td>\n",
       "      <td>0.956339</td>\n",
       "      <td>0.996675</td>\n",
       "      <td>0.992673</td>\n",
       "      <td>0.976838</td>\n",
       "    </tr>\n",
       "    <tr>\n",
       "      <th>2</th>\n",
       "      <td>PU 0.5</td>\n",
       "      <td>0.971421</td>\n",
       "      <td>0.947213</td>\n",
       "      <td>0.996898</td>\n",
       "      <td>0.993761</td>\n",
       "      <td>0.972280</td>\n",
       "    </tr>\n",
       "    <tr>\n",
       "      <th>3</th>\n",
       "      <td>PU 0.75</td>\n",
       "      <td>0.958459</td>\n",
       "      <td>0.924506</td>\n",
       "      <td>0.995000</td>\n",
       "      <td>0.994052</td>\n",
       "      <td>0.959949</td>\n",
       "    </tr>\n",
       "    <tr>\n",
       "      <th>4</th>\n",
       "      <td>PU 0.15</td>\n",
       "      <td>0.966551</td>\n",
       "      <td>0.938541</td>\n",
       "      <td>0.996285</td>\n",
       "      <td>0.988833</td>\n",
       "      <td>0.967825</td>\n",
       "    </tr>\n",
       "  </tbody>\n",
       "</table>\n",
       "</div>"
      ],
      "text/plain": [
       "  Learn type   F-Score  precision    recall  roc_auc_score    pr_auc\n",
       "0   Standart  0.994620   0.995811  0.993433       0.995999  0.995461\n",
       "1    PU 0.25  0.976090   0.956339  0.996675       0.992673  0.976838\n",
       "2     PU 0.5  0.971421   0.947213  0.996898       0.993761  0.972280\n",
       "3    PU 0.75  0.958459   0.924506  0.995000       0.994052  0.959949\n",
       "4    PU 0.15  0.966551   0.938541  0.996285       0.988833  0.967825"
      ]
     },
     "execution_count": 119,
     "metadata": {},
     "output_type": "execute_result"
    }
   ],
   "source": [
    "stats_df"
   ]
  },
  {
   "cell_type": "markdown",
   "metadata": {},
   "source": [
    "Точность модели немного увеличилась, но лучше, чем при part=0.5 не стала"
   ]
  },
  {
   "cell_type": "markdown",
   "metadata": {},
   "source": [
    "Обычный классификатор показал самые лучшие результаты, но это произошло потому, что данные были изначально размечены полностью, как позитивные, так и негативные. Найти частично размеченный датасет, к сожалению, не удалось."
   ]
  },
  {
   "cell_type": "markdown",
   "metadata": {},
   "source": [
    "С другой стороны, мы особо ничего не добились произведя манипуляции с переразметкой данных, т.к. задача look-alike, все-таки, заключается в поиске схожих данных с теми, которые размечены, как положительные. Т.е. в данном случае нам нужно получить выборку из исходных данных, в которой после обучения модели, данные не размеченные как позитивные будут помечены моделью, как позитивные"
   ]
  },
  {
   "cell_type": "code",
   "execution_count": 102,
   "metadata": {},
   "outputs": [],
   "source": [
    "# На основе модели PU 0.5\n",
    "pred_final = model.predict(x_data)"
   ]
  },
  {
   "cell_type": "code",
   "execution_count": 103,
   "metadata": {},
   "outputs": [],
   "source": [
    "data2 = data.copy()"
   ]
  },
  {
   "cell_type": "code",
   "execution_count": 104,
   "metadata": {},
   "outputs": [],
   "source": [
    "preds_ser = pd.Series(pred_final)\n",
    "data2['pred_final'] = preds_ser.values"
   ]
  },
  {
   "cell_type": "code",
   "execution_count": 105,
   "metadata": {},
   "outputs": [
    {
     "data": {
      "text/html": [
       "<div>\n",
       "<style scoped>\n",
       "    .dataframe tbody tr th:only-of-type {\n",
       "        vertical-align: middle;\n",
       "    }\n",
       "\n",
       "    .dataframe tbody tr th {\n",
       "        vertical-align: top;\n",
       "    }\n",
       "\n",
       "    .dataframe thead th {\n",
       "        text-align: right;\n",
       "    }\n",
       "</style>\n",
       "<table border=\"1\" class=\"dataframe\">\n",
       "  <thead>\n",
       "    <tr style=\"text-align: right;\">\n",
       "      <th></th>\n",
       "      <th>type</th>\n",
       "      <th>amount</th>\n",
       "      <th>nameOrig</th>\n",
       "      <th>oldbalanceOrg</th>\n",
       "      <th>newbalanceOrig</th>\n",
       "      <th>nameDest</th>\n",
       "      <th>oldbalanceDest</th>\n",
       "      <th>newbalanceDest</th>\n",
       "      <th>isFraud</th>\n",
       "      <th>pred_final</th>\n",
       "    </tr>\n",
       "  </thead>\n",
       "  <tbody>\n",
       "    <tr>\n",
       "      <th>171</th>\n",
       "      <td>CASH_OUT</td>\n",
       "      <td>38323.66</td>\n",
       "      <td>C515585759</td>\n",
       "      <td>13746.00</td>\n",
       "      <td>0.0</td>\n",
       "      <td>C2081595126</td>\n",
       "      <td>73147.60</td>\n",
       "      <td>111471.26</td>\n",
       "      <td>0</td>\n",
       "      <td>1</td>\n",
       "    </tr>\n",
       "    <tr>\n",
       "      <th>631</th>\n",
       "      <td>CASH_OUT</td>\n",
       "      <td>33810.02</td>\n",
       "      <td>C2122693729</td>\n",
       "      <td>19738.97</td>\n",
       "      <td>0.0</td>\n",
       "      <td>C420561530</td>\n",
       "      <td>847439.38</td>\n",
       "      <td>366505.70</td>\n",
       "      <td>0</td>\n",
       "      <td>1</td>\n",
       "    </tr>\n",
       "    <tr>\n",
       "      <th>833</th>\n",
       "      <td>CASH_OUT</td>\n",
       "      <td>307954.98</td>\n",
       "      <td>C385203700</td>\n",
       "      <td>214435.28</td>\n",
       "      <td>0.0</td>\n",
       "      <td>C442364016</td>\n",
       "      <td>0.00</td>\n",
       "      <td>328387.64</td>\n",
       "      <td>0</td>\n",
       "      <td>1</td>\n",
       "    </tr>\n",
       "    <tr>\n",
       "      <th>1111</th>\n",
       "      <td>CASH_OUT</td>\n",
       "      <td>19548.49</td>\n",
       "      <td>C622955085</td>\n",
       "      <td>16567.87</td>\n",
       "      <td>0.0</td>\n",
       "      <td>C1255024717</td>\n",
       "      <td>7810214.06</td>\n",
       "      <td>7829762.55</td>\n",
       "      <td>0</td>\n",
       "      <td>1</td>\n",
       "    </tr>\n",
       "    <tr>\n",
       "      <th>1147</th>\n",
       "      <td>CASH_OUT</td>\n",
       "      <td>3806.52</td>\n",
       "      <td>C700171836</td>\n",
       "      <td>420.00</td>\n",
       "      <td>0.0</td>\n",
       "      <td>C187649742</td>\n",
       "      <td>95728.87</td>\n",
       "      <td>99535.40</td>\n",
       "      <td>0</td>\n",
       "      <td>1</td>\n",
       "    </tr>\n",
       "    <tr>\n",
       "      <th>...</th>\n",
       "      <td>...</td>\n",
       "      <td>...</td>\n",
       "      <td>...</td>\n",
       "      <td>...</td>\n",
       "      <td>...</td>\n",
       "      <td>...</td>\n",
       "      <td>...</td>\n",
       "      <td>...</td>\n",
       "      <td>...</td>\n",
       "      <td>...</td>\n",
       "    </tr>\n",
       "    <tr>\n",
       "      <th>32156</th>\n",
       "      <td>CASH_OUT</td>\n",
       "      <td>286338.02</td>\n",
       "      <td>C407818317</td>\n",
       "      <td>240859.58</td>\n",
       "      <td>0.0</td>\n",
       "      <td>C1089177065</td>\n",
       "      <td>1190350.45</td>\n",
       "      <td>1076036.85</td>\n",
       "      <td>0</td>\n",
       "      <td>1</td>\n",
       "    </tr>\n",
       "    <tr>\n",
       "      <th>32172</th>\n",
       "      <td>CASH_OUT</td>\n",
       "      <td>65016.19</td>\n",
       "      <td>C1998941515</td>\n",
       "      <td>38307.00</td>\n",
       "      <td>0.0</td>\n",
       "      <td>C351394592</td>\n",
       "      <td>0.00</td>\n",
       "      <td>65016.19</td>\n",
       "      <td>0</td>\n",
       "      <td>1</td>\n",
       "    </tr>\n",
       "    <tr>\n",
       "      <th>32223</th>\n",
       "      <td>CASH_OUT</td>\n",
       "      <td>87456.78</td>\n",
       "      <td>C1633345274</td>\n",
       "      <td>53996.00</td>\n",
       "      <td>0.0</td>\n",
       "      <td>C2016729324</td>\n",
       "      <td>0.00</td>\n",
       "      <td>87456.78</td>\n",
       "      <td>0</td>\n",
       "      <td>1</td>\n",
       "    </tr>\n",
       "    <tr>\n",
       "      <th>32397</th>\n",
       "      <td>CASH_OUT</td>\n",
       "      <td>32989.09</td>\n",
       "      <td>C1155084102</td>\n",
       "      <td>32583.34</td>\n",
       "      <td>0.0</td>\n",
       "      <td>C473344802</td>\n",
       "      <td>88675.31</td>\n",
       "      <td>19916.44</td>\n",
       "      <td>0</td>\n",
       "      <td>1</td>\n",
       "    </tr>\n",
       "    <tr>\n",
       "      <th>32515</th>\n",
       "      <td>CASH_OUT</td>\n",
       "      <td>78676.17</td>\n",
       "      <td>C1641823536</td>\n",
       "      <td>0.00</td>\n",
       "      <td>0.0</td>\n",
       "      <td>C407757655</td>\n",
       "      <td>0.00</td>\n",
       "      <td>78676.17</td>\n",
       "      <td>0</td>\n",
       "      <td>1</td>\n",
       "    </tr>\n",
       "  </tbody>\n",
       "</table>\n",
       "<p>201 rows × 10 columns</p>\n",
       "</div>"
      ],
      "text/plain": [
       "           type     amount     nameOrig  oldbalanceOrg  newbalanceOrig  \\\n",
       "171    CASH_OUT   38323.66   C515585759       13746.00             0.0   \n",
       "631    CASH_OUT   33810.02  C2122693729       19738.97             0.0   \n",
       "833    CASH_OUT  307954.98   C385203700      214435.28             0.0   \n",
       "1111   CASH_OUT   19548.49   C622955085       16567.87             0.0   \n",
       "1147   CASH_OUT    3806.52   C700171836         420.00             0.0   \n",
       "...         ...        ...          ...            ...             ...   \n",
       "32156  CASH_OUT  286338.02   C407818317      240859.58             0.0   \n",
       "32172  CASH_OUT   65016.19  C1998941515       38307.00             0.0   \n",
       "32223  CASH_OUT   87456.78  C1633345274       53996.00             0.0   \n",
       "32397  CASH_OUT   32989.09  C1155084102       32583.34             0.0   \n",
       "32515  CASH_OUT   78676.17  C1641823536           0.00             0.0   \n",
       "\n",
       "          nameDest  oldbalanceDest  newbalanceDest  isFraud  pred_final  \n",
       "171    C2081595126        73147.60       111471.26        0           1  \n",
       "631     C420561530       847439.38       366505.70        0           1  \n",
       "833     C442364016            0.00       328387.64        0           1  \n",
       "1111   C1255024717      7810214.06      7829762.55        0           1  \n",
       "1147    C187649742        95728.87        99535.40        0           1  \n",
       "...            ...             ...             ...      ...         ...  \n",
       "32156  C1089177065      1190350.45      1076036.85        0           1  \n",
       "32172   C351394592            0.00        65016.19        0           1  \n",
       "32223  C2016729324            0.00        87456.78        0           1  \n",
       "32397   C473344802        88675.31        19916.44        0           1  \n",
       "32515   C407757655            0.00        78676.17        0           1  \n",
       "\n",
       "[201 rows x 10 columns]"
      ]
     },
     "execution_count": 105,
     "metadata": {},
     "output_type": "execute_result"
    }
   ],
   "source": [
    "# Итоговые данные, которые нас интересуют:\n",
    "data2.loc[(data2['isFraud'] == 0) & (data2['pred_final'] == 1)]"
   ]
  },
  {
   "cell_type": "markdown",
   "metadata": {},
   "source": [
    "Итого мы получили 201 запись из изначального датасета, которые вызывают подозрение, что они могут оказаться мошенническими"
   ]
  },
  {
   "cell_type": "markdown",
   "metadata": {},
   "source": [
    "<b>Бонусный вопрос:</b>\n",
    "\n",
    "Как вы думаете, какой из методов на практике является более предпочтительным: random negative sampling или 2-step approach?"
   ]
  },
  {
   "cell_type": "markdown",
   "metadata": {},
   "source": [
    "Ваш ответ здесь:"
   ]
  },
  {
   "cell_type": "markdown",
   "metadata": {},
   "source": [
    "По логике 2-step approach является более надежным способом, т.к. мы можем использовать весь датасет и на каждой итерации получать более достоверные негативные данные, проводя данную процедуру до того уровня, пока позитивные и негативные данные не будут отбалансированы на наше усмотрение."
   ]
  },
  {
   "cell_type": "code",
   "execution_count": null,
   "metadata": {},
   "outputs": [],
   "source": []
  }
 ],
 "metadata": {
  "kernelspec": {
   "display_name": "Python 3 (ipykernel)",
   "language": "python",
   "name": "python3"
  },
  "language_info": {
   "codemirror_mode": {
    "name": "ipython",
    "version": 3
   },
   "file_extension": ".py",
   "mimetype": "text/x-python",
   "name": "python",
   "nbconvert_exporter": "python",
   "pygments_lexer": "ipython3",
   "version": "3.9.7"
  }
 },
 "nbformat": 4,
 "nbformat_minor": 2
}
