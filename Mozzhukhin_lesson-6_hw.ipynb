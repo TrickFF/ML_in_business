{
 "cells": [
  {
   "cell_type": "markdown",
   "metadata": {},
   "source": [
    "##### Задание 1\n",
    "взять любой набор данных для бинарной классификации (можно скачать один из модельных с https://archive.ics.uci.edu/ml/datasets.php)"
   ]
  },
  {
   "cell_type": "markdown",
   "metadata": {},
   "source": [
    "Датасет банковских транзакций, часть из которых мошеннические\n",
    "\n",
    "Описание данных - https://www.kaggle.com/datasets/vardhansiramdasu/fraudulent-transactions-prediction"
   ]
  },
  {
   "cell_type": "markdown",
   "metadata": {},
   "source": [
    "В домашней работе использую неполный датасет. Большая часть данных, не являющихся мошенническими операциями, удалена. Оставил данные в соотношении 1 к 3 мошеннических транзакций к легальным. Это сделано из соображений балансировки данных и сокращения размера csv файла"
   ]
  },
  {
   "cell_type": "code",
   "execution_count": 38,
   "metadata": {},
   "outputs": [
    {
     "data": {
      "text/html": [
       "<div>\n",
       "<style scoped>\n",
       "    .dataframe tbody tr th:only-of-type {\n",
       "        vertical-align: middle;\n",
       "    }\n",
       "\n",
       "    .dataframe tbody tr th {\n",
       "        vertical-align: top;\n",
       "    }\n",
       "\n",
       "    .dataframe thead th {\n",
       "        text-align: right;\n",
       "    }\n",
       "</style>\n",
       "<table border=\"1\" class=\"dataframe\">\n",
       "  <thead>\n",
       "    <tr style=\"text-align: right;\">\n",
       "      <th></th>\n",
       "      <th>step</th>\n",
       "      <th>type</th>\n",
       "      <th>amount</th>\n",
       "      <th>nameOrig</th>\n",
       "      <th>oldbalanceOrg</th>\n",
       "      <th>newbalanceOrig</th>\n",
       "      <th>nameDest</th>\n",
       "      <th>oldbalanceDest</th>\n",
       "      <th>newbalanceDest</th>\n",
       "      <th>isFraud</th>\n",
       "      <th>isFlaggedFraud</th>\n",
       "    </tr>\n",
       "  </thead>\n",
       "  <tbody>\n",
       "    <tr>\n",
       "      <th>0</th>\n",
       "      <td>7</td>\n",
       "      <td>CASH_IN</td>\n",
       "      <td>111324.20</td>\n",
       "      <td>C926922342</td>\n",
       "      <td>4490417.58</td>\n",
       "      <td>4601741.78</td>\n",
       "      <td>C1182908789</td>\n",
       "      <td>135698.74</td>\n",
       "      <td>24374.54</td>\n",
       "      <td>0</td>\n",
       "      <td>0</td>\n",
       "    </tr>\n",
       "    <tr>\n",
       "      <th>1</th>\n",
       "      <td>19</td>\n",
       "      <td>CASH_OUT</td>\n",
       "      <td>143660.11</td>\n",
       "      <td>C681501417</td>\n",
       "      <td>143660.11</td>\n",
       "      <td>0.00</td>\n",
       "      <td>C447183071</td>\n",
       "      <td>0.00</td>\n",
       "      <td>143660.11</td>\n",
       "      <td>1</td>\n",
       "      <td>0</td>\n",
       "    </tr>\n",
       "    <tr>\n",
       "      <th>2</th>\n",
       "      <td>8</td>\n",
       "      <td>CASH_OUT</td>\n",
       "      <td>236104.53</td>\n",
       "      <td>C1000303171</td>\n",
       "      <td>45802.00</td>\n",
       "      <td>0.00</td>\n",
       "      <td>C1374917762</td>\n",
       "      <td>0.00</td>\n",
       "      <td>82985.37</td>\n",
       "      <td>0</td>\n",
       "      <td>0</td>\n",
       "    </tr>\n",
       "  </tbody>\n",
       "</table>\n",
       "</div>"
      ],
      "text/plain": [
       "   step      type     amount     nameOrig  oldbalanceOrg  newbalanceOrig  \\\n",
       "0     7   CASH_IN  111324.20   C926922342     4490417.58      4601741.78   \n",
       "1    19  CASH_OUT  143660.11   C681501417      143660.11            0.00   \n",
       "2     8  CASH_OUT  236104.53  C1000303171       45802.00            0.00   \n",
       "\n",
       "      nameDest  oldbalanceDest  newbalanceDest  isFraud  isFlaggedFraud  \n",
       "0  C1182908789       135698.74        24374.54        0               0  \n",
       "1   C447183071            0.00       143660.11        1               0  \n",
       "2  C1374917762            0.00        82985.37        0               0  "
      ]
     },
     "execution_count": 38,
     "metadata": {},
     "output_type": "execute_result"
    }
   ],
   "source": [
    "import pandas as pd\n",
    "import numpy as np\n",
    "data = pd.read_csv(\"fraud_balanced.csv\")\n",
    "data.head(3)"
   ]
  },
  {
   "cell_type": "markdown",
   "metadata": {},
   "source": [
    "About Dataset\n",
    "1. step - maps a unit of time in the real world. In this case 1 step is 1 hour of time. Total steps 744 (30 days simulation).\n",
    "2. type - CASH-IN, CASH-OUT, DEBIT, PAYMENT and TRANSFER.\n",
    "3. amount - amount of the transaction in local currency.\n",
    "4. nameOrig - customer who started the transaction\n",
    "5. oldbalanceOrg - initial balance before the transaction\n",
    "6. newbalanceOrig - new balance after the transaction\n",
    "7. nameDest - customer who is the recipient of the transaction\n",
    "8. oldbalanceDest - initial balance recipient before the transaction. Note that there is not information for customers that start with M (Merchants).\n",
    "9. newbalanceDest - new balance recipient after the transaction. Note that there is not information for customers that start with M (Merchants).\n",
    "10. isFraud - This is the transactions made by the fraudulent agents inside the simulation. In this specific dataset the fraudulent behavior of the agents aims to profit by taking control or customers accounts and try to empty the funds by transferring to another account and then cashing out of the system.\n",
    "11. isFlaggedFraud - The business model aims to control massive transfers from one account to another and flags illegal attempts. An illegal attempt in this dataset is an attempt to transfer more than 200.000 in a single transaction."
   ]
  },
  {
   "cell_type": "markdown",
   "metadata": {},
   "source": [
    "В датасете 4 категориальных признака, 5 числовых 1 целевая переменная isFraud, а также признак isFlaggedFraud, который можно также рассматривать, как целевой. Признак isFlaggedFraud удалим из датасета, т.к. будем работать со всеми мошенническими рперациями, а не только с теми, которые пометил банк. Также удалим поле step, т.к. взята только часть полного датасета"
   ]
  },
  {
   "cell_type": "code",
   "execution_count": 39,
   "metadata": {},
   "outputs": [
    {
     "name": "stdout",
     "output_type": "stream",
     "text": [
      "(32772, 11)\n"
     ]
    }
   ],
   "source": [
    "print(data.shape)"
   ]
  },
  {
   "cell_type": "code",
   "execution_count": 40,
   "metadata": {},
   "outputs": [
    {
     "name": "stderr",
     "output_type": "stream",
     "text": [
      "C:\\Users\\ENERGI~1\\AppData\\Local\\Temp/ipykernel_14292/2857393272.py:1: FutureWarning: In a future version of pandas all arguments of DataFrame.drop except for the argument 'labels' will be keyword-only\n",
      "  data = data.drop(['step', 'isFlaggedFraud'], 1)\n"
     ]
    },
    {
     "data": {
      "text/html": [
       "<div>\n",
       "<style scoped>\n",
       "    .dataframe tbody tr th:only-of-type {\n",
       "        vertical-align: middle;\n",
       "    }\n",
       "\n",
       "    .dataframe tbody tr th {\n",
       "        vertical-align: top;\n",
       "    }\n",
       "\n",
       "    .dataframe thead th {\n",
       "        text-align: right;\n",
       "    }\n",
       "</style>\n",
       "<table border=\"1\" class=\"dataframe\">\n",
       "  <thead>\n",
       "    <tr style=\"text-align: right;\">\n",
       "      <th></th>\n",
       "      <th>type</th>\n",
       "      <th>amount</th>\n",
       "      <th>nameOrig</th>\n",
       "      <th>oldbalanceOrg</th>\n",
       "      <th>newbalanceOrig</th>\n",
       "      <th>nameDest</th>\n",
       "      <th>oldbalanceDest</th>\n",
       "      <th>newbalanceDest</th>\n",
       "      <th>isFraud</th>\n",
       "    </tr>\n",
       "  </thead>\n",
       "  <tbody>\n",
       "    <tr>\n",
       "      <th>0</th>\n",
       "      <td>CASH_IN</td>\n",
       "      <td>111324.20</td>\n",
       "      <td>C926922342</td>\n",
       "      <td>4490417.58</td>\n",
       "      <td>4601741.78</td>\n",
       "      <td>C1182908789</td>\n",
       "      <td>135698.74</td>\n",
       "      <td>24374.54</td>\n",
       "      <td>0</td>\n",
       "    </tr>\n",
       "    <tr>\n",
       "      <th>1</th>\n",
       "      <td>CASH_OUT</td>\n",
       "      <td>143660.11</td>\n",
       "      <td>C681501417</td>\n",
       "      <td>143660.11</td>\n",
       "      <td>0.00</td>\n",
       "      <td>C447183071</td>\n",
       "      <td>0.00</td>\n",
       "      <td>143660.11</td>\n",
       "      <td>1</td>\n",
       "    </tr>\n",
       "    <tr>\n",
       "      <th>2</th>\n",
       "      <td>CASH_OUT</td>\n",
       "      <td>236104.53</td>\n",
       "      <td>C1000303171</td>\n",
       "      <td>45802.00</td>\n",
       "      <td>0.00</td>\n",
       "      <td>C1374917762</td>\n",
       "      <td>0.00</td>\n",
       "      <td>82985.37</td>\n",
       "      <td>0</td>\n",
       "    </tr>\n",
       "  </tbody>\n",
       "</table>\n",
       "</div>"
      ],
      "text/plain": [
       "       type     amount     nameOrig  oldbalanceOrg  newbalanceOrig  \\\n",
       "0   CASH_IN  111324.20   C926922342     4490417.58      4601741.78   \n",
       "1  CASH_OUT  143660.11   C681501417      143660.11            0.00   \n",
       "2  CASH_OUT  236104.53  C1000303171       45802.00            0.00   \n",
       "\n",
       "      nameDest  oldbalanceDest  newbalanceDest  isFraud  \n",
       "0  C1182908789       135698.74        24374.54        0  \n",
       "1   C447183071            0.00       143660.11        1  \n",
       "2  C1374917762            0.00        82985.37        0  "
      ]
     },
     "execution_count": 40,
     "metadata": {},
     "output_type": "execute_result"
    }
   ],
   "source": [
    "data = data.drop(['step', 'isFlaggedFraud'], 1)\n",
    "data.head(3)"
   ]
  },
  {
   "cell_type": "markdown",
   "metadata": {},
   "source": [
    "Посмотрим на соотношение классов"
   ]
  },
  {
   "cell_type": "code",
   "execution_count": 41,
   "metadata": {},
   "outputs": [
    {
     "data": {
      "text/plain": [
       "0    24559\n",
       "1     8213\n",
       "Name: isFraud, dtype: int64"
      ]
     },
     "execution_count": 41,
     "metadata": {},
     "output_type": "execute_result"
    }
   ],
   "source": [
    "data.iloc[:, -1].value_counts()"
   ]
  },
  {
   "cell_type": "markdown",
   "metadata": {},
   "source": [
    "##### Задание 2\n",
    "сделать feature engineering"
   ]
  },
  {
   "cell_type": "markdown",
   "metadata": {},
   "source": [
    "Будем использовать модель Catboost Classification, поэтому признаки не трогаем"
   ]
  },
  {
   "cell_type": "markdown",
   "metadata": {},
   "source": [
    "Разбиваем выборку на тренировочную и тестовую части"
   ]
  },
  {
   "cell_type": "code",
   "execution_count": 42,
   "metadata": {},
   "outputs": [],
   "source": [
    "from sklearn.model_selection import train_test_split\n",
    "\n",
    "x_data = data.iloc[:,:-1]\n",
    "y_data = data.iloc[:,-1]\n",
    "\n",
    "x_train, x_test, y_train, y_test = train_test_split(x_data, y_data, test_size=0.2, random_state=42)"
   ]
  },
  {
   "cell_type": "markdown",
   "metadata": {},
   "source": [
    "##### Задание 3\n",
    "обучить любой классификатор (какой вам нравится)"
   ]
  },
  {
   "cell_type": "code",
   "execution_count": 43,
   "metadata": {},
   "outputs": [],
   "source": [
    "import catboost as ctb\n",
    "\n",
    "cat_features = ['type', 'nameOrig', 'nameDest']\n",
    "model = ctb.CatBoostClassifier(random_state=42, silent=True, cat_features=cat_features)\n",
    "model.fit(x_train, y_train)\n",
    "\n",
    "y_predict = model.predict(x_test)"
   ]
  },
  {
   "cell_type": "markdown",
   "metadata": {},
   "source": [
    "Проверяем качество"
   ]
  },
  {
   "cell_type": "code",
   "execution_count": 44,
   "metadata": {},
   "outputs": [
    {
     "name": "stdout",
     "output_type": "stream",
     "text": [
      "F-Score=0.995, Precision=0.996, Recall=0.993, roc_auc_score=0.996, pr_auc=0.995\n"
     ]
    }
   ],
   "source": [
    "from sklearn.metrics import auc, f1_score, roc_auc_score, precision_score, classification_report, precision_recall_curve, confusion_matrix\n",
    "\n",
    "# Функция рассчета показателей и формирования словаря для датафрейма\n",
    "def get_metrics(learn_type, y_test, y_predict):\n",
    "    precision, recall, thresholds = precision_recall_curve(y_test, y_predict)\n",
    "\n",
    "    fscore = (2 * precision * recall) / (precision + recall)\n",
    "    # locate the index of the largest f score\n",
    "    ix = np.argmax(fscore)\n",
    "    print('F-Score=%.3f, Precision=%.3f, Recall=%.3f, roc_auc_score=%.3f, pr_auc=%.3f' % (\n",
    "        fscore[ix],\n",
    "        precision[ix],\n",
    "        recall[ix],\n",
    "        roc_auc_score(y_test, y_predict), \n",
    "        auc(recall, precision)))\n",
    "    \n",
    "    data = {'Learn type':learn_type,\n",
    "        'F-Score':fscore[ix],\n",
    "        'precision':precision[ix],\n",
    "        'recall':recall[ix], \n",
    "        'roc_auc_score':roc_auc_score(y_test, y_predict),\n",
    "        'pr_auc':auc(recall, precision)}\n",
    "    \n",
    "    return data\n",
    "\n",
    "stats = get_metrics('Standart', y_test, y_predict)\n",
    "stats_df = pd.DataFrame(stats, index=[0])"
   ]
  },
  {
   "cell_type": "markdown",
   "metadata": {},
   "source": [
    "##### Задание 4\n",
    "далее разделить ваш набор данных на два множества: P (positives) и U (unlabeled). Причем брать нужно не все положительные (класс 1) примеры, а только лишь часть"
   ]
  },
  {
   "cell_type": "code",
   "execution_count": 58,
   "metadata": {},
   "outputs": [],
   "source": [
    "def predsPU(data, part, cat_features):\n",
    "    mod_data = data.copy()\n",
    "    #get the indices of the positives samples\n",
    "    pos_ind = np.where(mod_data.iloc[:,-1].values == 1)[0]\n",
    "    #shuffle them\n",
    "    np.random.shuffle(pos_ind)\n",
    "    # leave just % of the positives marked\n",
    "    pos_sample_len = int(np.ceil(part * len(pos_ind)))\n",
    "    print(f'Using {pos_sample_len}/{len(pos_ind)} as positives and unlabeling the rest')\n",
    "    pos_sample = pos_ind[:pos_sample_len]\n",
    "    \n",
    "    \n",
    "    # Создаем столбец для новой целевой переменной, где у нас два класса - P (1) и U (-1)\n",
    "    mod_data['class_test'] = -1\n",
    "    mod_data.loc[pos_sample,'class_test'] = 1\n",
    "    print('target variable:\\n', mod_data.iloc[:,-1].value_counts())\n",
    "    \n",
    "    x_data = mod_data.iloc[:,:-2].values # just the X \n",
    "    y_labeled = mod_data.iloc[:,-1].values # new class (just the P & U)\n",
    "    y_positive = mod_data.iloc[:,-2].values # original class\n",
    "    \n",
    "    '''\n",
    "    Задание 5\n",
    "    \n",
    "    применить random negative sampling для построения классификатора в новых условиях\n",
    "    '''\n",
    "    \n",
    "    mod_data = mod_data.sample(frac=1)\n",
    "    neg_sample = mod_data[mod_data['class_test']==-1][:len(mod_data[mod_data['class_test']==1])]\n",
    "    sample_test = mod_data[mod_data['class_test']==-1][len(mod_data[mod_data['class_test']==1]):]\n",
    "    pos_sample = mod_data[mod_data['class_test']==1]\n",
    "    print(neg_sample.shape, pos_sample.shape)\n",
    "    sample_train = pd.concat([neg_sample, pos_sample]).sample(frac=1)\n",
    "    \n",
    "    # Обучаем модель\n",
    "    model = ctb.CatBoostClassifier(random_state=42, silent=True, cat_features=cat_features)\n",
    "\n",
    "    model.fit(sample_train.iloc[:,:-2], sample_train.iloc[:,-2])\n",
    "    y_predict = model.predict(sample_test.iloc[:,:-2])\n",
    "    \n",
    "    return y_predict, sample_test"
   ]
  },
  {
   "cell_type": "code",
   "execution_count": 46,
   "metadata": {},
   "outputs": [
    {
     "name": "stdout",
     "output_type": "stream",
     "text": [
      "Using 2054/8213 as positives and unlabeling the rest\n",
      "target variable:\n",
      " -1    30718\n",
      " 1     2054\n",
      "Name: class_test, dtype: int64\n",
      "(2054, 10) (2054, 10)\n",
      "F-Score=0.978, Precision=0.960, Recall=0.997, roc_auc_score=0.993, pr_auc=0.979\n"
     ]
    }
   ],
   "source": [
    "part = 0.25\n",
    "y_predict, sample_test = predsPU(data, part, cat_features)\n",
    "\n",
    "stats = get_metrics(f'PU {part}', sample_test.iloc[:,-2], y_predict)\n",
    "stats_df = stats_df.append(stats, ignore_index=True)"
   ]
  },
  {
   "cell_type": "markdown",
   "metadata": {},
   "source": [
    "##### Задание 6\n",
    "сравнить качество с решением из пункта 4 (построить отчет - таблицу метрик)"
   ]
  },
  {
   "cell_type": "code",
   "execution_count": 47,
   "metadata": {},
   "outputs": [
    {
     "data": {
      "text/html": [
       "<div>\n",
       "<style scoped>\n",
       "    .dataframe tbody tr th:only-of-type {\n",
       "        vertical-align: middle;\n",
       "    }\n",
       "\n",
       "    .dataframe tbody tr th {\n",
       "        vertical-align: top;\n",
       "    }\n",
       "\n",
       "    .dataframe thead th {\n",
       "        text-align: right;\n",
       "    }\n",
       "</style>\n",
       "<table border=\"1\" class=\"dataframe\">\n",
       "  <thead>\n",
       "    <tr style=\"text-align: right;\">\n",
       "      <th></th>\n",
       "      <th>Learn type</th>\n",
       "      <th>F-Score</th>\n",
       "      <th>precision</th>\n",
       "      <th>recall</th>\n",
       "      <th>roc_auc_score</th>\n",
       "      <th>pr_auc</th>\n",
       "    </tr>\n",
       "  </thead>\n",
       "  <tbody>\n",
       "    <tr>\n",
       "      <th>0</th>\n",
       "      <td>Standart</td>\n",
       "      <td>0.994620</td>\n",
       "      <td>0.995811</td>\n",
       "      <td>0.993433</td>\n",
       "      <td>0.995999</td>\n",
       "      <td>0.995461</td>\n",
       "    </tr>\n",
       "    <tr>\n",
       "      <th>1</th>\n",
       "      <td>PU 0.25</td>\n",
       "      <td>0.977827</td>\n",
       "      <td>0.959659</td>\n",
       "      <td>0.996697</td>\n",
       "      <td>0.993089</td>\n",
       "      <td>0.978509</td>\n",
       "    </tr>\n",
       "  </tbody>\n",
       "</table>\n",
       "</div>"
      ],
      "text/plain": [
       "  Learn type   F-Score  precision    recall  roc_auc_score    pr_auc\n",
       "0   Standart  0.994620   0.995811  0.993433       0.995999  0.995461\n",
       "1    PU 0.25  0.977827   0.959659  0.996697       0.993089  0.978509"
      ]
     },
     "execution_count": 47,
     "metadata": {},
     "output_type": "execute_result"
    }
   ],
   "source": [
    "stats_df"
   ]
  },
  {
   "cell_type": "markdown",
   "metadata": {},
   "source": [
    "Стандартный вариант классификации показал более хорошие результаты"
   ]
  },
  {
   "cell_type": "markdown",
   "metadata": {},
   "source": [
    "##### Задание 7\n",
    "поэкспериментировать с долей P на шаге 5 (как будет меняться качество модели при уменьшении/увеличении размера P)"
   ]
  },
  {
   "cell_type": "markdown",
   "metadata": {},
   "source": [
    "Увеличим долю данных положительного класса до 0.5 (part = 0.5)"
   ]
  },
  {
   "cell_type": "code",
   "execution_count": 48,
   "metadata": {},
   "outputs": [
    {
     "name": "stdout",
     "output_type": "stream",
     "text": [
      "Using 4107/8213 as positives and unlabeling the rest\n",
      "target variable:\n",
      " -1    28665\n",
      " 1     4107\n",
      "Name: class_test, dtype: int64\n",
      "(4107, 10) (4107, 10)\n",
      "F-Score=0.973, Precision=0.950, Recall=0.997, roc_auc_score=0.994, pr_auc=0.974\n"
     ]
    },
    {
     "data": {
      "text/html": [
       "<div>\n",
       "<style scoped>\n",
       "    .dataframe tbody tr th:only-of-type {\n",
       "        vertical-align: middle;\n",
       "    }\n",
       "\n",
       "    .dataframe tbody tr th {\n",
       "        vertical-align: top;\n",
       "    }\n",
       "\n",
       "    .dataframe thead th {\n",
       "        text-align: right;\n",
       "    }\n",
       "</style>\n",
       "<table border=\"1\" class=\"dataframe\">\n",
       "  <thead>\n",
       "    <tr style=\"text-align: right;\">\n",
       "      <th></th>\n",
       "      <th>Learn type</th>\n",
       "      <th>F-Score</th>\n",
       "      <th>precision</th>\n",
       "      <th>recall</th>\n",
       "      <th>roc_auc_score</th>\n",
       "      <th>pr_auc</th>\n",
       "    </tr>\n",
       "  </thead>\n",
       "  <tbody>\n",
       "    <tr>\n",
       "      <th>0</th>\n",
       "      <td>Standart</td>\n",
       "      <td>0.994620</td>\n",
       "      <td>0.995811</td>\n",
       "      <td>0.993433</td>\n",
       "      <td>0.995999</td>\n",
       "      <td>0.995461</td>\n",
       "    </tr>\n",
       "    <tr>\n",
       "      <th>1</th>\n",
       "      <td>PU 0.25</td>\n",
       "      <td>0.977827</td>\n",
       "      <td>0.959659</td>\n",
       "      <td>0.996697</td>\n",
       "      <td>0.993089</td>\n",
       "      <td>0.978509</td>\n",
       "    </tr>\n",
       "    <tr>\n",
       "      <th>2</th>\n",
       "      <td>PU 0.5</td>\n",
       "      <td>0.972890</td>\n",
       "      <td>0.949525</td>\n",
       "      <td>0.997434</td>\n",
       "      <td>0.994299</td>\n",
       "      <td>0.973663</td>\n",
       "    </tr>\n",
       "  </tbody>\n",
       "</table>\n",
       "</div>"
      ],
      "text/plain": [
       "  Learn type   F-Score  precision    recall  roc_auc_score    pr_auc\n",
       "0   Standart  0.994620   0.995811  0.993433       0.995999  0.995461\n",
       "1    PU 0.25  0.977827   0.959659  0.996697       0.993089  0.978509\n",
       "2     PU 0.5  0.972890   0.949525  0.997434       0.994299  0.973663"
      ]
     },
     "execution_count": 48,
     "metadata": {},
     "output_type": "execute_result"
    }
   ],
   "source": [
    "part = 0.5\n",
    "y_predict, sample_test = predsPU(data, part, cat_features)\n",
    "\n",
    "stats = get_metrics(f'PU {part}', sample_test.iloc[:,-2], y_predict)\n",
    "stats_df = stats_df.append(stats, ignore_index=True)\n",
    "stats_df"
   ]
  },
  {
   "cell_type": "markdown",
   "metadata": {},
   "source": [
    "Точность немного снизилась\n",
    "\n",
    "Попробуем взять 0.75"
   ]
  },
  {
   "cell_type": "code",
   "execution_count": 49,
   "metadata": {},
   "outputs": [
    {
     "name": "stdout",
     "output_type": "stream",
     "text": [
      "Using 6160/8213 as positives and unlabeling the rest\n",
      "target variable:\n",
      " -1    26612\n",
      " 1     6160\n",
      "Name: class_test, dtype: int64\n",
      "(6160, 10) (6160, 10)\n",
      "F-Score=0.952, Precision=0.912, Recall=0.997, roc_auc_score=0.994, pr_auc=0.954\n"
     ]
    },
    {
     "data": {
      "text/html": [
       "<div>\n",
       "<style scoped>\n",
       "    .dataframe tbody tr th:only-of-type {\n",
       "        vertical-align: middle;\n",
       "    }\n",
       "\n",
       "    .dataframe tbody tr th {\n",
       "        vertical-align: top;\n",
       "    }\n",
       "\n",
       "    .dataframe thead th {\n",
       "        text-align: right;\n",
       "    }\n",
       "</style>\n",
       "<table border=\"1\" class=\"dataframe\">\n",
       "  <thead>\n",
       "    <tr style=\"text-align: right;\">\n",
       "      <th></th>\n",
       "      <th>Learn type</th>\n",
       "      <th>F-Score</th>\n",
       "      <th>precision</th>\n",
       "      <th>recall</th>\n",
       "      <th>roc_auc_score</th>\n",
       "      <th>pr_auc</th>\n",
       "    </tr>\n",
       "  </thead>\n",
       "  <tbody>\n",
       "    <tr>\n",
       "      <th>0</th>\n",
       "      <td>Standart</td>\n",
       "      <td>0.994620</td>\n",
       "      <td>0.995811</td>\n",
       "      <td>0.993433</td>\n",
       "      <td>0.995999</td>\n",
       "      <td>0.995461</td>\n",
       "    </tr>\n",
       "    <tr>\n",
       "      <th>1</th>\n",
       "      <td>PU 0.25</td>\n",
       "      <td>0.977827</td>\n",
       "      <td>0.959659</td>\n",
       "      <td>0.996697</td>\n",
       "      <td>0.993089</td>\n",
       "      <td>0.978509</td>\n",
       "    </tr>\n",
       "    <tr>\n",
       "      <th>2</th>\n",
       "      <td>PU 0.5</td>\n",
       "      <td>0.972890</td>\n",
       "      <td>0.949525</td>\n",
       "      <td>0.997434</td>\n",
       "      <td>0.994299</td>\n",
       "      <td>0.973663</td>\n",
       "    </tr>\n",
       "    <tr>\n",
       "      <th>3</th>\n",
       "      <td>PU 0.75</td>\n",
       "      <td>0.952323</td>\n",
       "      <td>0.911644</td>\n",
       "      <td>0.996801</td>\n",
       "      <td>0.994403</td>\n",
       "      <td>0.954345</td>\n",
       "    </tr>\n",
       "  </tbody>\n",
       "</table>\n",
       "</div>"
      ],
      "text/plain": [
       "  Learn type   F-Score  precision    recall  roc_auc_score    pr_auc\n",
       "0   Standart  0.994620   0.995811  0.993433       0.995999  0.995461\n",
       "1    PU 0.25  0.977827   0.959659  0.996697       0.993089  0.978509\n",
       "2     PU 0.5  0.972890   0.949525  0.997434       0.994299  0.973663\n",
       "3    PU 0.75  0.952323   0.911644  0.996801       0.994403  0.954345"
      ]
     },
     "execution_count": 49,
     "metadata": {},
     "output_type": "execute_result"
    }
   ],
   "source": [
    "part = 0.75\n",
    "y_predict, sample_test = predsPU(data, part, cat_features)\n",
    "\n",
    "stats = get_metrics(f'PU {part}', sample_test.iloc[:,-2], y_predict)\n",
    "stats_df = stats_df.append(stats, ignore_index=True)\n",
    "stats_df"
   ]
  },
  {
   "cell_type": "markdown",
   "metadata": {},
   "source": [
    "Точность снизилась на порядок\n",
    "\n",
    "Для проверки попробуем взять part = 0.15"
   ]
  },
  {
   "cell_type": "code",
   "execution_count": 50,
   "metadata": {},
   "outputs": [
    {
     "name": "stdout",
     "output_type": "stream",
     "text": [
      "Using 1232/8213 as positives and unlabeling the rest\n",
      "target variable:\n",
      " -1    31540\n",
      " 1     1232\n",
      "Name: class_test, dtype: int64\n",
      "(1232, 10) (1232, 10)\n",
      "F-Score=0.956, Precision=0.918, Recall=0.998, roc_auc_score=0.986, pr_auc=0.958\n"
     ]
    },
    {
     "data": {
      "text/html": [
       "<div>\n",
       "<style scoped>\n",
       "    .dataframe tbody tr th:only-of-type {\n",
       "        vertical-align: middle;\n",
       "    }\n",
       "\n",
       "    .dataframe tbody tr th {\n",
       "        vertical-align: top;\n",
       "    }\n",
       "\n",
       "    .dataframe thead th {\n",
       "        text-align: right;\n",
       "    }\n",
       "</style>\n",
       "<table border=\"1\" class=\"dataframe\">\n",
       "  <thead>\n",
       "    <tr style=\"text-align: right;\">\n",
       "      <th></th>\n",
       "      <th>Learn type</th>\n",
       "      <th>F-Score</th>\n",
       "      <th>precision</th>\n",
       "      <th>recall</th>\n",
       "      <th>roc_auc_score</th>\n",
       "      <th>pr_auc</th>\n",
       "    </tr>\n",
       "  </thead>\n",
       "  <tbody>\n",
       "    <tr>\n",
       "      <th>0</th>\n",
       "      <td>Standart</td>\n",
       "      <td>0.994620</td>\n",
       "      <td>0.995811</td>\n",
       "      <td>0.993433</td>\n",
       "      <td>0.995999</td>\n",
       "      <td>0.995461</td>\n",
       "    </tr>\n",
       "    <tr>\n",
       "      <th>1</th>\n",
       "      <td>PU 0.25</td>\n",
       "      <td>0.977827</td>\n",
       "      <td>0.959659</td>\n",
       "      <td>0.996697</td>\n",
       "      <td>0.993089</td>\n",
       "      <td>0.978509</td>\n",
       "    </tr>\n",
       "    <tr>\n",
       "      <th>2</th>\n",
       "      <td>PU 0.5</td>\n",
       "      <td>0.972890</td>\n",
       "      <td>0.949525</td>\n",
       "      <td>0.997434</td>\n",
       "      <td>0.994299</td>\n",
       "      <td>0.973663</td>\n",
       "    </tr>\n",
       "    <tr>\n",
       "      <th>3</th>\n",
       "      <td>PU 0.75</td>\n",
       "      <td>0.952323</td>\n",
       "      <td>0.911644</td>\n",
       "      <td>0.996801</td>\n",
       "      <td>0.994403</td>\n",
       "      <td>0.954345</td>\n",
       "    </tr>\n",
       "    <tr>\n",
       "      <th>4</th>\n",
       "      <td>PU 0.15</td>\n",
       "      <td>0.956211</td>\n",
       "      <td>0.918109</td>\n",
       "      <td>0.997611</td>\n",
       "      <td>0.986184</td>\n",
       "      <td>0.958124</td>\n",
       "    </tr>\n",
       "  </tbody>\n",
       "</table>\n",
       "</div>"
      ],
      "text/plain": [
       "  Learn type   F-Score  precision    recall  roc_auc_score    pr_auc\n",
       "0   Standart  0.994620   0.995811  0.993433       0.995999  0.995461\n",
       "1    PU 0.25  0.977827   0.959659  0.996697       0.993089  0.978509\n",
       "2     PU 0.5  0.972890   0.949525  0.997434       0.994299  0.973663\n",
       "3    PU 0.75  0.952323   0.911644  0.996801       0.994403  0.954345\n",
       "4    PU 0.15  0.956211   0.918109  0.997611       0.986184  0.958124"
      ]
     },
     "execution_count": 50,
     "metadata": {},
     "output_type": "execute_result"
    }
   ],
   "source": [
    "part = 0.15\n",
    "y_predict, sample_test = predsPU(data, part, cat_features)\n",
    "\n",
    "stats = get_metrics(f'PU {part}', sample_test.iloc[:,-2], y_predict)\n",
    "stats_df = stats_df.append(stats, ignore_index=True)\n",
    "stats_df"
   ]
  },
  {
   "cell_type": "markdown",
   "metadata": {},
   "source": [
    "Точность модели немного увеличилась, но лучше, чем при part=0.25 не стала\n",
    "\n",
    "Уменьшим долю до 0.1"
   ]
  },
  {
   "cell_type": "code",
   "execution_count": 51,
   "metadata": {},
   "outputs": [
    {
     "name": "stdout",
     "output_type": "stream",
     "text": [
      "Using 822/8213 as positives and unlabeling the rest\n",
      "target variable:\n",
      " -1    31950\n",
      " 1      822\n",
      "Name: class_test, dtype: int64\n",
      "(822, 10) (822, 10)\n",
      "F-Score=0.965, Precision=0.938, Recall=0.995, roc_auc_score=0.987, pr_auc=0.967\n"
     ]
    },
    {
     "data": {
      "text/html": [
       "<div>\n",
       "<style scoped>\n",
       "    .dataframe tbody tr th:only-of-type {\n",
       "        vertical-align: middle;\n",
       "    }\n",
       "\n",
       "    .dataframe tbody tr th {\n",
       "        vertical-align: top;\n",
       "    }\n",
       "\n",
       "    .dataframe thead th {\n",
       "        text-align: right;\n",
       "    }\n",
       "</style>\n",
       "<table border=\"1\" class=\"dataframe\">\n",
       "  <thead>\n",
       "    <tr style=\"text-align: right;\">\n",
       "      <th></th>\n",
       "      <th>Learn type</th>\n",
       "      <th>F-Score</th>\n",
       "      <th>precision</th>\n",
       "      <th>recall</th>\n",
       "      <th>roc_auc_score</th>\n",
       "      <th>pr_auc</th>\n",
       "    </tr>\n",
       "  </thead>\n",
       "  <tbody>\n",
       "    <tr>\n",
       "      <th>0</th>\n",
       "      <td>Standart</td>\n",
       "      <td>0.994620</td>\n",
       "      <td>0.995811</td>\n",
       "      <td>0.993433</td>\n",
       "      <td>0.995999</td>\n",
       "      <td>0.995461</td>\n",
       "    </tr>\n",
       "    <tr>\n",
       "      <th>1</th>\n",
       "      <td>PU 0.25</td>\n",
       "      <td>0.977827</td>\n",
       "      <td>0.959659</td>\n",
       "      <td>0.996697</td>\n",
       "      <td>0.993089</td>\n",
       "      <td>0.978509</td>\n",
       "    </tr>\n",
       "    <tr>\n",
       "      <th>2</th>\n",
       "      <td>PU 0.5</td>\n",
       "      <td>0.972890</td>\n",
       "      <td>0.949525</td>\n",
       "      <td>0.997434</td>\n",
       "      <td>0.994299</td>\n",
       "      <td>0.973663</td>\n",
       "    </tr>\n",
       "    <tr>\n",
       "      <th>3</th>\n",
       "      <td>PU 0.75</td>\n",
       "      <td>0.952323</td>\n",
       "      <td>0.911644</td>\n",
       "      <td>0.996801</td>\n",
       "      <td>0.994403</td>\n",
       "      <td>0.954345</td>\n",
       "    </tr>\n",
       "    <tr>\n",
       "      <th>4</th>\n",
       "      <td>PU 0.15</td>\n",
       "      <td>0.956211</td>\n",
       "      <td>0.918109</td>\n",
       "      <td>0.997611</td>\n",
       "      <td>0.986184</td>\n",
       "      <td>0.958124</td>\n",
       "    </tr>\n",
       "    <tr>\n",
       "      <th>5</th>\n",
       "      <td>PU 0.1</td>\n",
       "      <td>0.965341</td>\n",
       "      <td>0.937647</td>\n",
       "      <td>0.994719</td>\n",
       "      <td>0.987415</td>\n",
       "      <td>0.966794</td>\n",
       "    </tr>\n",
       "  </tbody>\n",
       "</table>\n",
       "</div>"
      ],
      "text/plain": [
       "  Learn type   F-Score  precision    recall  roc_auc_score    pr_auc\n",
       "0   Standart  0.994620   0.995811  0.993433       0.995999  0.995461\n",
       "1    PU 0.25  0.977827   0.959659  0.996697       0.993089  0.978509\n",
       "2     PU 0.5  0.972890   0.949525  0.997434       0.994299  0.973663\n",
       "3    PU 0.75  0.952323   0.911644  0.996801       0.994403  0.954345\n",
       "4    PU 0.15  0.956211   0.918109  0.997611       0.986184  0.958124\n",
       "5     PU 0.1  0.965341   0.937647  0.994719       0.987415  0.966794"
      ]
     },
     "execution_count": 51,
     "metadata": {},
     "output_type": "execute_result"
    }
   ],
   "source": [
    "part = 0.1\n",
    "y_predict, sample_test = predsPU(data, part, cat_features)\n",
    "\n",
    "stats = get_metrics(f'PU {part}', sample_test.iloc[:,-2], y_predict)\n",
    "stats_df = stats_df.append(stats, ignore_index=True)\n",
    "stats_df"
   ]
  },
  {
   "cell_type": "markdown",
   "metadata": {},
   "source": [
    "Лучше, но все же не так хорошо, как модель с долей положительного класса 0.25"
   ]
  },
  {
   "cell_type": "markdown",
   "metadata": {},
   "source": [
    "Итого: Обычный классификатор показал самые лучшие результаты, но это произошло потому, что данные были изначально размечены полностью, как позитивные, так и негативные. Найти частично размеченный датасет, к сожалению, не удалось."
   ]
  },
  {
   "cell_type": "markdown",
   "metadata": {},
   "source": [
    "С другой стороны, мы особо ничего не добились произведя манипуляции с переразметкой данных, т.к. задача look-alike, все-таки, заключается в поиске схожих данных с теми, которые размечены, как положительные. Т.е. в данном случае нам нужно получить выборку из исходных данных, в которой после обучения модели, данные не размеченные как позитивные будут помечены моделью, как позитивные"
   ]
  },
  {
   "cell_type": "code",
   "execution_count": 52,
   "metadata": {},
   "outputs": [
    {
     "name": "stdout",
     "output_type": "stream",
     "text": [
      "Using 2054/8213 as positives and unlabeling the rest\n",
      "target variable:\n",
      " -1    30718\n",
      " 1     2054\n",
      "Name: class_test, dtype: int64\n",
      "(2054, 10) (2054, 10)\n",
      "F-Score=0.976, Precision=0.956, Recall=0.997, roc_auc_score=0.993, pr_auc=0.977\n"
     ]
    },
    {
     "data": {
      "text/html": [
       "<div>\n",
       "<style scoped>\n",
       "    .dataframe tbody tr th:only-of-type {\n",
       "        vertical-align: middle;\n",
       "    }\n",
       "\n",
       "    .dataframe tbody tr th {\n",
       "        vertical-align: top;\n",
       "    }\n",
       "\n",
       "    .dataframe thead th {\n",
       "        text-align: right;\n",
       "    }\n",
       "</style>\n",
       "<table border=\"1\" class=\"dataframe\">\n",
       "  <thead>\n",
       "    <tr style=\"text-align: right;\">\n",
       "      <th></th>\n",
       "      <th>Learn type</th>\n",
       "      <th>F-Score</th>\n",
       "      <th>precision</th>\n",
       "      <th>recall</th>\n",
       "      <th>roc_auc_score</th>\n",
       "      <th>pr_auc</th>\n",
       "    </tr>\n",
       "  </thead>\n",
       "  <tbody>\n",
       "    <tr>\n",
       "      <th>0</th>\n",
       "      <td>Standart</td>\n",
       "      <td>0.994620</td>\n",
       "      <td>0.995811</td>\n",
       "      <td>0.993433</td>\n",
       "      <td>0.995999</td>\n",
       "      <td>0.995461</td>\n",
       "    </tr>\n",
       "    <tr>\n",
       "      <th>1</th>\n",
       "      <td>PU 0.25</td>\n",
       "      <td>0.977827</td>\n",
       "      <td>0.959659</td>\n",
       "      <td>0.996697</td>\n",
       "      <td>0.993089</td>\n",
       "      <td>0.978509</td>\n",
       "    </tr>\n",
       "    <tr>\n",
       "      <th>2</th>\n",
       "      <td>PU 0.5</td>\n",
       "      <td>0.972890</td>\n",
       "      <td>0.949525</td>\n",
       "      <td>0.997434</td>\n",
       "      <td>0.994299</td>\n",
       "      <td>0.973663</td>\n",
       "    </tr>\n",
       "    <tr>\n",
       "      <th>3</th>\n",
       "      <td>PU 0.75</td>\n",
       "      <td>0.952323</td>\n",
       "      <td>0.911644</td>\n",
       "      <td>0.996801</td>\n",
       "      <td>0.994403</td>\n",
       "      <td>0.954345</td>\n",
       "    </tr>\n",
       "    <tr>\n",
       "      <th>4</th>\n",
       "      <td>PU 0.15</td>\n",
       "      <td>0.956211</td>\n",
       "      <td>0.918109</td>\n",
       "      <td>0.997611</td>\n",
       "      <td>0.986184</td>\n",
       "      <td>0.958124</td>\n",
       "    </tr>\n",
       "    <tr>\n",
       "      <th>5</th>\n",
       "      <td>PU 0.1</td>\n",
       "      <td>0.965341</td>\n",
       "      <td>0.937647</td>\n",
       "      <td>0.994719</td>\n",
       "      <td>0.987415</td>\n",
       "      <td>0.966794</td>\n",
       "    </tr>\n",
       "    <tr>\n",
       "      <th>6</th>\n",
       "      <td>PU 0.25</td>\n",
       "      <td>0.976197</td>\n",
       "      <td>0.956190</td>\n",
       "      <td>0.997058</td>\n",
       "      <td>0.992761</td>\n",
       "      <td>0.976921</td>\n",
       "    </tr>\n",
       "  </tbody>\n",
       "</table>\n",
       "</div>"
      ],
      "text/plain": [
       "  Learn type   F-Score  precision    recall  roc_auc_score    pr_auc\n",
       "0   Standart  0.994620   0.995811  0.993433       0.995999  0.995461\n",
       "1    PU 0.25  0.977827   0.959659  0.996697       0.993089  0.978509\n",
       "2     PU 0.5  0.972890   0.949525  0.997434       0.994299  0.973663\n",
       "3    PU 0.75  0.952323   0.911644  0.996801       0.994403  0.954345\n",
       "4    PU 0.15  0.956211   0.918109  0.997611       0.986184  0.958124\n",
       "5     PU 0.1  0.965341   0.937647  0.994719       0.987415  0.966794\n",
       "6    PU 0.25  0.976197   0.956190  0.997058       0.992761  0.976921"
      ]
     },
     "execution_count": 52,
     "metadata": {},
     "output_type": "execute_result"
    }
   ],
   "source": [
    "# Сделаем это на основе модели PU 0.25\n",
    "part = 0.25\n",
    "y_predict, sample_test = predsPU(data, part, cat_features)\n",
    "\n",
    "stats = get_metrics(f'PU {part}', sample_test.iloc[:,-2], y_predict)\n",
    "stats_df = stats_df.append(stats, ignore_index=True)\n",
    "stats_df"
   ]
  },
  {
   "cell_type": "code",
   "execution_count": 53,
   "metadata": {},
   "outputs": [],
   "source": [
    "pred_final = model.predict(x_data)"
   ]
  },
  {
   "cell_type": "code",
   "execution_count": 54,
   "metadata": {},
   "outputs": [],
   "source": [
    "data2 = data.copy()"
   ]
  },
  {
   "cell_type": "code",
   "execution_count": 55,
   "metadata": {},
   "outputs": [],
   "source": [
    "preds_ser = pd.Series(pred_final)\n",
    "data2['pred_final'] = preds_ser.values"
   ]
  },
  {
   "cell_type": "code",
   "execution_count": 56,
   "metadata": {},
   "outputs": [
    {
     "data": {
      "text/html": [
       "<div>\n",
       "<style scoped>\n",
       "    .dataframe tbody tr th:only-of-type {\n",
       "        vertical-align: middle;\n",
       "    }\n",
       "\n",
       "    .dataframe tbody tr th {\n",
       "        vertical-align: top;\n",
       "    }\n",
       "\n",
       "    .dataframe thead th {\n",
       "        text-align: right;\n",
       "    }\n",
       "</style>\n",
       "<table border=\"1\" class=\"dataframe\">\n",
       "  <thead>\n",
       "    <tr style=\"text-align: right;\">\n",
       "      <th></th>\n",
       "      <th>type</th>\n",
       "      <th>amount</th>\n",
       "      <th>nameOrig</th>\n",
       "      <th>oldbalanceOrg</th>\n",
       "      <th>newbalanceOrig</th>\n",
       "      <th>nameDest</th>\n",
       "      <th>oldbalanceDest</th>\n",
       "      <th>newbalanceDest</th>\n",
       "      <th>isFraud</th>\n",
       "      <th>pred_final</th>\n",
       "    </tr>\n",
       "  </thead>\n",
       "  <tbody>\n",
       "    <tr>\n",
       "      <th>833</th>\n",
       "      <td>CASH_OUT</td>\n",
       "      <td>307954.98</td>\n",
       "      <td>C385203700</td>\n",
       "      <td>214435.28</td>\n",
       "      <td>0.00</td>\n",
       "      <td>C442364016</td>\n",
       "      <td>0.00</td>\n",
       "      <td>328387.64</td>\n",
       "      <td>0</td>\n",
       "      <td>1</td>\n",
       "    </tr>\n",
       "    <tr>\n",
       "      <th>14854</th>\n",
       "      <td>CASH_OUT</td>\n",
       "      <td>126280.36</td>\n",
       "      <td>C1068912229</td>\n",
       "      <td>90774.66</td>\n",
       "      <td>0.00</td>\n",
       "      <td>C1572164601</td>\n",
       "      <td>1509.00</td>\n",
       "      <td>0.00</td>\n",
       "      <td>0</td>\n",
       "      <td>1</td>\n",
       "    </tr>\n",
       "    <tr>\n",
       "      <th>18206</th>\n",
       "      <td>CASH_OUT</td>\n",
       "      <td>54804.76</td>\n",
       "      <td>C213516770</td>\n",
       "      <td>51228.00</td>\n",
       "      <td>0.00</td>\n",
       "      <td>C759994182</td>\n",
       "      <td>1096.44</td>\n",
       "      <td>111238.42</td>\n",
       "      <td>0</td>\n",
       "      <td>1</td>\n",
       "    </tr>\n",
       "    <tr>\n",
       "      <th>18511</th>\n",
       "      <td>CASH_OUT</td>\n",
       "      <td>20411.80</td>\n",
       "      <td>C812452702</td>\n",
       "      <td>13021.00</td>\n",
       "      <td>0.00</td>\n",
       "      <td>C1456400374</td>\n",
       "      <td>44715.00</td>\n",
       "      <td>0.00</td>\n",
       "      <td>0</td>\n",
       "      <td>1</td>\n",
       "    </tr>\n",
       "    <tr>\n",
       "      <th>22541</th>\n",
       "      <td>TRANSFER</td>\n",
       "      <td>92095.41</td>\n",
       "      <td>C2131498299</td>\n",
       "      <td>105685.00</td>\n",
       "      <td>13589.59</td>\n",
       "      <td>C102537461</td>\n",
       "      <td>0.00</td>\n",
       "      <td>2742.32</td>\n",
       "      <td>0</td>\n",
       "      <td>1</td>\n",
       "    </tr>\n",
       "    <tr>\n",
       "      <th>22846</th>\n",
       "      <td>CASH_OUT</td>\n",
       "      <td>781796.89</td>\n",
       "      <td>C829508329</td>\n",
       "      <td>399808.23</td>\n",
       "      <td>0.00</td>\n",
       "      <td>C2078250226</td>\n",
       "      <td>2866603.03</td>\n",
       "      <td>4572011.30</td>\n",
       "      <td>0</td>\n",
       "      <td>1</td>\n",
       "    </tr>\n",
       "    <tr>\n",
       "      <th>32172</th>\n",
       "      <td>CASH_OUT</td>\n",
       "      <td>65016.19</td>\n",
       "      <td>C1998941515</td>\n",
       "      <td>38307.00</td>\n",
       "      <td>0.00</td>\n",
       "      <td>C351394592</td>\n",
       "      <td>0.00</td>\n",
       "      <td>65016.19</td>\n",
       "      <td>0</td>\n",
       "      <td>1</td>\n",
       "    </tr>\n",
       "  </tbody>\n",
       "</table>\n",
       "</div>"
      ],
      "text/plain": [
       "           type     amount     nameOrig  oldbalanceOrg  newbalanceOrig  \\\n",
       "833    CASH_OUT  307954.98   C385203700      214435.28            0.00   \n",
       "14854  CASH_OUT  126280.36  C1068912229       90774.66            0.00   \n",
       "18206  CASH_OUT   54804.76   C213516770       51228.00            0.00   \n",
       "18511  CASH_OUT   20411.80   C812452702       13021.00            0.00   \n",
       "22541  TRANSFER   92095.41  C2131498299      105685.00        13589.59   \n",
       "22846  CASH_OUT  781796.89   C829508329      399808.23            0.00   \n",
       "32172  CASH_OUT   65016.19  C1998941515       38307.00            0.00   \n",
       "\n",
       "          nameDest  oldbalanceDest  newbalanceDest  isFraud  pred_final  \n",
       "833     C442364016            0.00       328387.64        0           1  \n",
       "14854  C1572164601         1509.00            0.00        0           1  \n",
       "18206   C759994182         1096.44       111238.42        0           1  \n",
       "18511  C1456400374        44715.00            0.00        0           1  \n",
       "22541   C102537461            0.00         2742.32        0           1  \n",
       "22846  C2078250226      2866603.03      4572011.30        0           1  \n",
       "32172   C351394592            0.00        65016.19        0           1  "
      ]
     },
     "execution_count": 56,
     "metadata": {},
     "output_type": "execute_result"
    }
   ],
   "source": [
    "# Итоговые данные, которые нас интересуют:\n",
    "data2.loc[(data2['isFraud'] == 0) & (data2['pred_final'] == 1)]"
   ]
  },
  {
   "cell_type": "markdown",
   "metadata": {},
   "source": [
    "Итого мы получили 7 записей из изначального датасета, которые вызывают подозрение и могут оказаться мошенническими"
   ]
  },
  {
   "cell_type": "markdown",
   "metadata": {},
   "source": [
    "<b>Бонусный вопрос:</b>\n",
    "\n",
    "Как вы думаете, какой из методов на практике является более предпочтительным: random negative sampling или 2-step approach?"
   ]
  },
  {
   "cell_type": "markdown",
   "metadata": {},
   "source": [
    "Ваш ответ здесь:"
   ]
  },
  {
   "cell_type": "markdown",
   "metadata": {},
   "source": [
    "По логике 2-step approach является более надежным способом, т.к. мы можем использовать весь датасет и на каждой итерации получать более достоверные негативные данные, проводя данную процедуру до того уровня, пока позитивные и негативные данные не будут отбалансированы на наше усмотрение."
   ]
  },
  {
   "cell_type": "code",
   "execution_count": null,
   "metadata": {},
   "outputs": [],
   "source": []
  }
 ],
 "metadata": {
  "kernelspec": {
   "display_name": "Python 3 (ipykernel)",
   "language": "python",
   "name": "python3"
  },
  "language_info": {
   "codemirror_mode": {
    "name": "ipython",
    "version": 3
   },
   "file_extension": ".py",
   "mimetype": "text/x-python",
   "name": "python",
   "nbconvert_exporter": "python",
   "pygments_lexer": "ipython3",
   "version": "3.9.7"
  }
 },
 "nbformat": 4,
 "nbformat_minor": 2
}
